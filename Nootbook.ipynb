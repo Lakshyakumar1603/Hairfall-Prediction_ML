{
 "cells": [
  {
   "cell_type": "markdown",
   "metadata": {},
   "source": [
    "HairFall Prediction Machine Learning Project"
   ]
  },
  {
   "cell_type": "markdown",
   "metadata": {},
   "source": [
    "Description :A machine learning project that predicts hair fall risk based on factors like age, diet, genetics, and lifestyle. It uses algorithms to identify patterns and provide personalized prevention recommendations."
   ]
  },
  {
   "cell_type": "code",
   "execution_count": 101,
   "metadata": {},
   "outputs": [],
   "source": [
    "# Machine Learning Life Cycle Steaps :\n",
    "# Problem Definition\n",
    "# Data Collection\n",
    "# Data Cleaning\n",
    "# Exploratory Data Analysis (EDA)\n",
    "# Feature Engineering and Selection\n",
    "# Data Preprocessing\n",
    "# Data Spliting\n",
    "# Model Selection\n",
    "# Model Training\n",
    "# Model Evaluation and Tuning\n",
    "# Model Deployment\n",
    "# Model Monitoring and Maintenance"
   ]
  },
  {
   "cell_type": "markdown",
   "metadata": {},
   "source": [
    "# Steap -1 : Problem define \n"
   ]
  },
  {
   "cell_type": "code",
   "execution_count": 102,
   "metadata": {},
   "outputs": [],
   "source": [
    "# Steap -1 : Problem define :\n",
    "# classification problem because we pridict on hair loss target variable is countable. "
   ]
  },
  {
   "cell_type": "markdown",
   "metadata": {},
   "source": [
    "steap-2 :Data Collect"
   ]
  },
  {
   "cell_type": "code",
   "execution_count": 103,
   "metadata": {},
   "outputs": [
    {
     "name": "stdout",
     "output_type": "stream",
     "text": [
      "sucessfully imported\n"
     ]
    }
   ],
   "source": [
    "\n",
    "#data Collect\n",
    "import pandas as pd \n",
    "import numpy as np\n",
    "print(\"sucessfully imported\")"
   ]
  },
  {
   "cell_type": "code",
   "execution_count": 104,
   "metadata": {},
   "outputs": [
    {
     "data": {
      "application/vnd.microsoft.datawrangler.viewer.v0+json": {
       "columns": [
        {
         "name": "index",
         "rawType": "int64",
         "type": "integer"
        },
        {
         "name": "Id",
         "rawType": "int64",
         "type": "integer"
        },
        {
         "name": "Genetics",
         "rawType": "object",
         "type": "string"
        },
        {
         "name": "Hormonal Changes",
         "rawType": "object",
         "type": "string"
        },
        {
         "name": "Medical Conditions",
         "rawType": "object",
         "type": "string"
        },
        {
         "name": "Medications & Treatments",
         "rawType": "object",
         "type": "string"
        },
        {
         "name": "Nutritional Deficiencies ",
         "rawType": "object",
         "type": "string"
        },
        {
         "name": "Stress",
         "rawType": "object",
         "type": "string"
        },
        {
         "name": "Age",
         "rawType": "int64",
         "type": "integer"
        },
        {
         "name": "Poor Hair Care Habits ",
         "rawType": "object",
         "type": "string"
        },
        {
         "name": "Environmental Factors",
         "rawType": "object",
         "type": "string"
        },
        {
         "name": "Smoking",
         "rawType": "object",
         "type": "string"
        },
        {
         "name": "Weight Loss ",
         "rawType": "object",
         "type": "string"
        },
        {
         "name": "Hair Loss",
         "rawType": "int64",
         "type": "integer"
        }
       ],
       "conversionMethod": "pd.DataFrame",
       "ref": "f935644e-2898-4692-bb2c-21cb4c02cfbe",
       "rows": [
        [
         "0",
         "133992",
         "Yes",
         "No",
         "No Data",
         "No Data",
         "Magnesium deficiency",
         "Moderate",
         "19",
         "Yes",
         "Yes",
         "No",
         "No",
         "0"
        ],
        [
         "1",
         "148393",
         "No",
         "No",
         "Eczema",
         "Antibiotics",
         "Magnesium deficiency",
         "High",
         "43",
         "Yes",
         "Yes",
         "No",
         "No",
         "0"
        ],
        [
         "2",
         "155074",
         "No",
         "No",
         "Dermatosis",
         "Antifungal Cream",
         "Protein deficiency",
         "Moderate",
         "26",
         "Yes",
         "Yes",
         "No",
         "Yes",
         "0"
        ],
        [
         "3",
         "118261",
         "Yes",
         "Yes",
         "Ringworm",
         "Antibiotics",
         "Biotin Deficiency ",
         "Moderate",
         "46",
         "Yes",
         "Yes",
         "No",
         "No",
         "0"
        ],
        [
         "4",
         "111915",
         "No",
         "No",
         "Psoriasis",
         "Accutane",
         "Iron deficiency",
         "Moderate",
         "30",
         "No",
         "Yes",
         "Yes",
         "No",
         "1"
        ],
        [
         "5",
         "139661",
         "Yes",
         "No",
         "Psoriasis",
         "Antibiotics",
         "Magnesium deficiency",
         "Low",
         "37",
         "No",
         "Yes",
         "No",
         "Yes",
         "1"
        ],
        [
         "6",
         "169255",
         "Yes",
         "Yes",
         "No Data",
         "No Data",
         "Selenium deficiency",
         "High",
         "40",
         "Yes",
         "No",
         "No",
         "No",
         "1"
        ],
        [
         "7",
         "112032",
         "Yes",
         "No",
         "Dermatosis",
         "Chemotherapy",
         "Omega-3 fatty acids",
         "High",
         "35",
         "Yes",
         "No",
         "Yes",
         "No",
         "0"
        ],
        [
         "8",
         "140785",
         "Yes",
         "No",
         "Eczema",
         "Steroids",
         "Selenium deficiency",
         "Moderate",
         "19",
         "No",
         "No",
         "Yes",
         "Yes",
         "1"
        ],
        [
         "9",
         "187999",
         "No",
         "Yes",
         "Ringworm",
         "Rogaine",
         "Magnesium deficiency",
         "Moderate",
         "49",
         "Yes",
         "Yes",
         "Yes",
         "No",
         "0"
        ],
        [
         "10",
         "118858",
         "Yes",
         "Yes",
         "Eczema",
         "Blood Pressure Medication",
         "Biotin Deficiency ",
         "High",
         "26",
         "Yes",
         "Yes",
         "Yes",
         "No",
         "0"
        ],
        [
         "11",
         "159158",
         "No",
         "Yes",
         "Alopecia Areata ",
         "Accutane",
         "Zinc Deficiency",
         "High",
         "48",
         "No",
         "No",
         "No",
         "No",
         "1"
        ],
        [
         "12",
         "156086",
         "Yes",
         "Yes",
         "Scalp Infection",
         "Immunomodulators",
         "Biotin Deficiency ",
         "Moderate",
         "20",
         "No",
         "Yes",
         "Yes",
         "No",
         "1"
        ],
        [
         "13",
         "178256",
         "No",
         "No",
         "Psoriasis",
         "Antibiotics",
         "Vitamin A Deficiency",
         "High",
         "30",
         "Yes",
         "Yes",
         "Yes",
         "Yes",
         "0"
        ],
        [
         "14",
         "150154",
         "Yes",
         "No",
         "Eczema",
         "Antibiotics",
         "Biotin Deficiency ",
         "High",
         "34",
         "Yes",
         "Yes",
         "No",
         "Yes",
         "0"
        ],
        [
         "15",
         "130552",
         "Yes",
         "Yes",
         "Scalp Infection",
         "Rogaine",
         "Vitamin D Deficiency",
         "Moderate",
         "29",
         "Yes",
         "No",
         "No",
         "Yes",
         "0"
        ],
        [
         "16",
         "116190",
         "Yes",
         "No",
         "Seborrheic Dermatitis",
         "Antidepressants ",
         "Vitamin D Deficiency",
         "High",
         "46",
         "Yes",
         "Yes",
         "No",
         "Yes",
         "0"
        ],
        [
         "17",
         "194441",
         "No",
         "Yes",
         "Dermatosis",
         "Antibiotics",
         "Zinc Deficiency",
         "Low",
         "19",
         "Yes",
         "No",
         "No",
         "Yes",
         "1"
        ],
        [
         "18",
         "147404",
         "Yes",
         "Yes",
         "Dermatosis",
         "Accutane",
         "Biotin Deficiency ",
         "Low",
         "26",
         "No",
         "No",
         "Yes",
         "No",
         "0"
        ],
        [
         "19",
         "136709",
         "Yes",
         "Yes",
         "Seborrheic Dermatitis",
         "Chemotherapy",
         "Vitamin A Deficiency",
         "High",
         "46",
         "Yes",
         "Yes",
         "No",
         "Yes",
         "1"
        ],
        [
         "20",
         "187362",
         "Yes",
         "Yes",
         "Seborrheic Dermatitis",
         "Accutane",
         "Protein deficiency",
         "High",
         "46",
         "No",
         "Yes",
         "No",
         "Yes",
         "1"
        ],
        [
         "21",
         "133804",
         "No",
         "No",
         "No Data",
         "Chemotherapy",
         "Zinc Deficiency",
         "High",
         "20",
         "No",
         "Yes",
         "Yes",
         "Yes",
         "1"
        ],
        [
         "22",
         "148974",
         "Yes",
         "Yes",
         "Psoriasis",
         "Antibiotics",
         "Vitamin D Deficiency",
         "Low",
         "29",
         "No",
         "No",
         "Yes",
         "Yes",
         "0"
        ],
        [
         "23",
         "116818",
         "No",
         "Yes",
         "Scalp Infection",
         "Antidepressants ",
         "Vitamin D Deficiency",
         "High",
         "37",
         "No",
         "No",
         "Yes",
         "No",
         "1"
        ],
        [
         "24",
         "142062",
         "No",
         "Yes",
         "Dermatitis",
         "Antibiotics",
         "Protein deficiency",
         "High",
         "33",
         "Yes",
         "Yes",
         "No",
         "No",
         "0"
        ],
        [
         "25",
         "147833",
         "Yes",
         "Yes",
         "Dermatosis",
         "Heart Medication ",
         "Vitamin A Deficiency",
         "Moderate",
         "34",
         "No",
         "No",
         "No",
         "No",
         "0"
        ],
        [
         "26",
         "190967",
         "No",
         "Yes",
         "Dermatosis",
         "Immunomodulators",
         "Selenium deficiency",
         "High",
         "28",
         "No",
         "No",
         "No",
         "No",
         "0"
        ],
        [
         "27",
         "114579",
         "No",
         "Yes",
         "Seborrheic Dermatitis",
         "Antifungal Cream",
         "Zinc Deficiency",
         "Low",
         "41",
         "No",
         "No",
         "No",
         "No",
         "0"
        ],
        [
         "28",
         "159949",
         "No",
         "Yes",
         "Thyroid Problems",
         "Chemotherapy",
         "Omega-3 fatty acids",
         "Low",
         "35",
         "Yes",
         "Yes",
         "Yes",
         "No",
         "0"
        ],
        [
         "29",
         "117296",
         "No",
         "Yes",
         "Dermatitis",
         "Chemotherapy",
         "No Data",
         "Low",
         "21",
         "Yes",
         "Yes",
         "Yes",
         "No",
         "0"
        ],
        [
         "30",
         "139857",
         "No",
         "No",
         "Dermatosis",
         "Chemotherapy",
         "No Data",
         "High",
         "22",
         "Yes",
         "Yes",
         "No",
         "No",
         "0"
        ],
        [
         "31",
         "133091",
         "No",
         "Yes",
         "Dermatitis",
         "Antibiotics",
         "Iron deficiency",
         "Moderate",
         "45",
         "No",
         "No",
         "No",
         "Yes",
         "1"
        ],
        [
         "32",
         "157912",
         "Yes",
         "No",
         "Dermatitis",
         "Steroids",
         "Protein deficiency",
         "Moderate",
         "30",
         "Yes",
         "Yes",
         "No",
         "No",
         "0"
        ],
        [
         "33",
         "144334",
         "Yes",
         "No",
         "Ringworm",
         "Steroids",
         "Selenium deficiency",
         "High",
         "24",
         "Yes",
         "Yes",
         "No",
         "Yes",
         "1"
        ],
        [
         "34",
         "136948",
         "No",
         "Yes",
         "Scalp Infection",
         "Antidepressants ",
         "Vitamin D Deficiency",
         "Moderate",
         "31",
         "Yes",
         "Yes",
         "Yes",
         "Yes",
         "1"
        ],
        [
         "35",
         "177638",
         "Yes",
         "Yes",
         "Dermatitis",
         "Chemotherapy",
         "Zinc Deficiency",
         "Low",
         "30",
         "Yes",
         "Yes",
         "Yes",
         "Yes",
         "0"
        ],
        [
         "36",
         "158783",
         "No",
         "Yes",
         "Alopecia Areata ",
         "Antibiotics",
         "Biotin Deficiency ",
         "Low",
         "39",
         "No",
         "No",
         "No",
         "Yes",
         "1"
        ],
        [
         "37",
         "164570",
         "No",
         "No",
         "Eczema",
         "Heart Medication ",
         "No Data",
         "Low",
         "21",
         "Yes",
         "No",
         "No",
         "Yes",
         "1"
        ],
        [
         "38",
         "132733",
         "No",
         "Yes",
         "Scalp Infection",
         "Chemotherapy",
         "Zinc Deficiency",
         "Low",
         "24",
         "Yes",
         "Yes",
         "Yes",
         "No",
         "0"
        ],
        [
         "39",
         "178632",
         "Yes",
         "Yes",
         "Seborrheic Dermatitis",
         "Steroids",
         "Omega-3 fatty acids",
         "Moderate",
         "38",
         "No",
         "No",
         "No",
         "No",
         "0"
        ],
        [
         "40",
         "116434",
         "No",
         "No",
         "No Data",
         "Chemotherapy",
         "Vitamin E deficiency",
         "High",
         "19",
         "Yes",
         "Yes",
         "Yes",
         "No",
         "0"
        ],
        [
         "41",
         "173043",
         "Yes",
         "Yes",
         "Dermatosis",
         "Immunomodulators",
         "Magnesium deficiency",
         "High",
         "39",
         "No",
         "No",
         "Yes",
         "Yes",
         "1"
        ],
        [
         "42",
         "112613",
         "Yes",
         "No",
         "Alopecia Areata ",
         "Accutane",
         "Selenium deficiency",
         "High",
         "30",
         "No",
         "No",
         "No",
         "No",
         "1"
        ],
        [
         "43",
         "111169",
         "No",
         "No",
         "Dermatosis",
         "Blood Pressure Medication",
         "Magnesium deficiency",
         "Low",
         "24",
         "No",
         "Yes",
         "No",
         "Yes",
         "1"
        ],
        [
         "44",
         "125738",
         "Yes",
         "Yes",
         "Thyroid Problems",
         "Rogaine",
         "Vitamin E deficiency",
         "Low",
         "37",
         "No",
         "No",
         "No",
         "No",
         "1"
        ],
        [
         "45",
         "187509",
         "No",
         "No",
         "Androgenetic Alopecia",
         "Accutane",
         "Iron deficiency",
         "Moderate",
         "36",
         "No",
         "No",
         "Yes",
         "Yes",
         "1"
        ],
        [
         "46",
         "154811",
         "No",
         "Yes",
         "Androgenetic Alopecia",
         "Steroids",
         "Vitamin A Deficiency",
         "Moderate",
         "48",
         "Yes",
         "Yes",
         "No",
         "No",
         "0"
        ],
        [
         "47",
         "167156",
         "No",
         "No",
         "No Data",
         "Steroids",
         "Zinc Deficiency",
         "High",
         "18",
         "No",
         "Yes",
         "Yes",
         "No",
         "1"
        ],
        [
         "48",
         "150641",
         "Yes",
         "No",
         "No Data",
         "Blood Pressure Medication",
         "Iron deficiency",
         "High",
         "18",
         "No",
         "Yes",
         "No",
         "Yes",
         "1"
        ],
        [
         "49",
         "147982",
         "No",
         "No",
         "Scalp Infection",
         "Immunomodulators",
         "Vitamin A Deficiency",
         "Moderate",
         "38",
         "Yes",
         "Yes",
         "No",
         "Yes",
         "0"
        ]
       ],
       "shape": {
        "columns": 13,
        "rows": 999
       }
      },
      "text/html": [
       "<div>\n",
       "<style scoped>\n",
       "    .dataframe tbody tr th:only-of-type {\n",
       "        vertical-align: middle;\n",
       "    }\n",
       "\n",
       "    .dataframe tbody tr th {\n",
       "        vertical-align: top;\n",
       "    }\n",
       "\n",
       "    .dataframe thead th {\n",
       "        text-align: right;\n",
       "    }\n",
       "</style>\n",
       "<table border=\"1\" class=\"dataframe\">\n",
       "  <thead>\n",
       "    <tr style=\"text-align: right;\">\n",
       "      <th></th>\n",
       "      <th>Id</th>\n",
       "      <th>Genetics</th>\n",
       "      <th>Hormonal Changes</th>\n",
       "      <th>Medical Conditions</th>\n",
       "      <th>Medications &amp; Treatments</th>\n",
       "      <th>Nutritional Deficiencies</th>\n",
       "      <th>Stress</th>\n",
       "      <th>Age</th>\n",
       "      <th>Poor Hair Care Habits</th>\n",
       "      <th>Environmental Factors</th>\n",
       "      <th>Smoking</th>\n",
       "      <th>Weight Loss</th>\n",
       "      <th>Hair Loss</th>\n",
       "    </tr>\n",
       "  </thead>\n",
       "  <tbody>\n",
       "    <tr>\n",
       "      <th>0</th>\n",
       "      <td>133992</td>\n",
       "      <td>Yes</td>\n",
       "      <td>No</td>\n",
       "      <td>No Data</td>\n",
       "      <td>No Data</td>\n",
       "      <td>Magnesium deficiency</td>\n",
       "      <td>Moderate</td>\n",
       "      <td>19</td>\n",
       "      <td>Yes</td>\n",
       "      <td>Yes</td>\n",
       "      <td>No</td>\n",
       "      <td>No</td>\n",
       "      <td>0</td>\n",
       "    </tr>\n",
       "    <tr>\n",
       "      <th>1</th>\n",
       "      <td>148393</td>\n",
       "      <td>No</td>\n",
       "      <td>No</td>\n",
       "      <td>Eczema</td>\n",
       "      <td>Antibiotics</td>\n",
       "      <td>Magnesium deficiency</td>\n",
       "      <td>High</td>\n",
       "      <td>43</td>\n",
       "      <td>Yes</td>\n",
       "      <td>Yes</td>\n",
       "      <td>No</td>\n",
       "      <td>No</td>\n",
       "      <td>0</td>\n",
       "    </tr>\n",
       "    <tr>\n",
       "      <th>2</th>\n",
       "      <td>155074</td>\n",
       "      <td>No</td>\n",
       "      <td>No</td>\n",
       "      <td>Dermatosis</td>\n",
       "      <td>Antifungal Cream</td>\n",
       "      <td>Protein deficiency</td>\n",
       "      <td>Moderate</td>\n",
       "      <td>26</td>\n",
       "      <td>Yes</td>\n",
       "      <td>Yes</td>\n",
       "      <td>No</td>\n",
       "      <td>Yes</td>\n",
       "      <td>0</td>\n",
       "    </tr>\n",
       "    <tr>\n",
       "      <th>3</th>\n",
       "      <td>118261</td>\n",
       "      <td>Yes</td>\n",
       "      <td>Yes</td>\n",
       "      <td>Ringworm</td>\n",
       "      <td>Antibiotics</td>\n",
       "      <td>Biotin Deficiency</td>\n",
       "      <td>Moderate</td>\n",
       "      <td>46</td>\n",
       "      <td>Yes</td>\n",
       "      <td>Yes</td>\n",
       "      <td>No</td>\n",
       "      <td>No</td>\n",
       "      <td>0</td>\n",
       "    </tr>\n",
       "    <tr>\n",
       "      <th>4</th>\n",
       "      <td>111915</td>\n",
       "      <td>No</td>\n",
       "      <td>No</td>\n",
       "      <td>Psoriasis</td>\n",
       "      <td>Accutane</td>\n",
       "      <td>Iron deficiency</td>\n",
       "      <td>Moderate</td>\n",
       "      <td>30</td>\n",
       "      <td>No</td>\n",
       "      <td>Yes</td>\n",
       "      <td>Yes</td>\n",
       "      <td>No</td>\n",
       "      <td>1</td>\n",
       "    </tr>\n",
       "    <tr>\n",
       "      <th>...</th>\n",
       "      <td>...</td>\n",
       "      <td>...</td>\n",
       "      <td>...</td>\n",
       "      <td>...</td>\n",
       "      <td>...</td>\n",
       "      <td>...</td>\n",
       "      <td>...</td>\n",
       "      <td>...</td>\n",
       "      <td>...</td>\n",
       "      <td>...</td>\n",
       "      <td>...</td>\n",
       "      <td>...</td>\n",
       "      <td>...</td>\n",
       "    </tr>\n",
       "    <tr>\n",
       "      <th>994</th>\n",
       "      <td>184367</td>\n",
       "      <td>Yes</td>\n",
       "      <td>No</td>\n",
       "      <td>Seborrheic Dermatitis</td>\n",
       "      <td>Rogaine</td>\n",
       "      <td>Vitamin A Deficiency</td>\n",
       "      <td>Low</td>\n",
       "      <td>33</td>\n",
       "      <td>Yes</td>\n",
       "      <td>Yes</td>\n",
       "      <td>Yes</td>\n",
       "      <td>Yes</td>\n",
       "      <td>1</td>\n",
       "    </tr>\n",
       "    <tr>\n",
       "      <th>995</th>\n",
       "      <td>164777</td>\n",
       "      <td>Yes</td>\n",
       "      <td>Yes</td>\n",
       "      <td>No Data</td>\n",
       "      <td>Accutane</td>\n",
       "      <td>Protein deficiency</td>\n",
       "      <td>Low</td>\n",
       "      <td>47</td>\n",
       "      <td>No</td>\n",
       "      <td>No</td>\n",
       "      <td>No</td>\n",
       "      <td>Yes</td>\n",
       "      <td>0</td>\n",
       "    </tr>\n",
       "    <tr>\n",
       "      <th>996</th>\n",
       "      <td>143273</td>\n",
       "      <td>No</td>\n",
       "      <td>Yes</td>\n",
       "      <td>Androgenetic Alopecia</td>\n",
       "      <td>Antidepressants</td>\n",
       "      <td>Protein deficiency</td>\n",
       "      <td>Moderate</td>\n",
       "      <td>20</td>\n",
       "      <td>Yes</td>\n",
       "      <td>No</td>\n",
       "      <td>Yes</td>\n",
       "      <td>Yes</td>\n",
       "      <td>1</td>\n",
       "    </tr>\n",
       "    <tr>\n",
       "      <th>997</th>\n",
       "      <td>169123</td>\n",
       "      <td>No</td>\n",
       "      <td>Yes</td>\n",
       "      <td>Dermatitis</td>\n",
       "      <td>Immunomodulators</td>\n",
       "      <td>Biotin Deficiency</td>\n",
       "      <td>Moderate</td>\n",
       "      <td>32</td>\n",
       "      <td>Yes</td>\n",
       "      <td>Yes</td>\n",
       "      <td>Yes</td>\n",
       "      <td>Yes</td>\n",
       "      <td>1</td>\n",
       "    </tr>\n",
       "    <tr>\n",
       "      <th>998</th>\n",
       "      <td>127183</td>\n",
       "      <td>Yes</td>\n",
       "      <td>Yes</td>\n",
       "      <td>Psoriasis</td>\n",
       "      <td>Blood Pressure Medication</td>\n",
       "      <td>Vitamin D Deficiency</td>\n",
       "      <td>Low</td>\n",
       "      <td>34</td>\n",
       "      <td>No</td>\n",
       "      <td>Yes</td>\n",
       "      <td>No</td>\n",
       "      <td>No</td>\n",
       "      <td>1</td>\n",
       "    </tr>\n",
       "  </tbody>\n",
       "</table>\n",
       "<p>999 rows × 13 columns</p>\n",
       "</div>"
      ],
      "text/plain": [
       "         Id Genetics Hormonal Changes     Medical Conditions  \\\n",
       "0    133992      Yes               No                No Data   \n",
       "1    148393       No               No                 Eczema   \n",
       "2    155074       No               No             Dermatosis   \n",
       "3    118261      Yes              Yes               Ringworm   \n",
       "4    111915       No               No              Psoriasis   \n",
       "..      ...      ...              ...                    ...   \n",
       "994  184367      Yes               No  Seborrheic Dermatitis   \n",
       "995  164777      Yes              Yes                No Data   \n",
       "996  143273       No              Yes  Androgenetic Alopecia   \n",
       "997  169123       No              Yes             Dermatitis   \n",
       "998  127183      Yes              Yes              Psoriasis   \n",
       "\n",
       "      Medications & Treatments Nutritional Deficiencies     Stress  Age  \\\n",
       "0                      No Data      Magnesium deficiency  Moderate   19   \n",
       "1                  Antibiotics      Magnesium deficiency      High   43   \n",
       "2             Antifungal Cream        Protein deficiency  Moderate   26   \n",
       "3                  Antibiotics        Biotin Deficiency   Moderate   46   \n",
       "4                     Accutane           Iron deficiency  Moderate   30   \n",
       "..                         ...                       ...       ...  ...   \n",
       "994                    Rogaine      Vitamin A Deficiency       Low   33   \n",
       "995                   Accutane        Protein deficiency       Low   47   \n",
       "996           Antidepressants         Protein deficiency  Moderate   20   \n",
       "997           Immunomodulators        Biotin Deficiency   Moderate   32   \n",
       "998  Blood Pressure Medication      Vitamin D Deficiency       Low   34   \n",
       "\n",
       "    Poor Hair Care Habits  Environmental Factors Smoking Weight Loss   \\\n",
       "0                      Yes                   Yes      No           No   \n",
       "1                      Yes                   Yes      No           No   \n",
       "2                      Yes                   Yes      No          Yes   \n",
       "3                      Yes                   Yes      No           No   \n",
       "4                       No                   Yes     Yes           No   \n",
       "..                     ...                   ...     ...          ...   \n",
       "994                    Yes                   Yes     Yes          Yes   \n",
       "995                     No                    No      No          Yes   \n",
       "996                    Yes                    No     Yes          Yes   \n",
       "997                    Yes                   Yes     Yes          Yes   \n",
       "998                     No                   Yes      No           No   \n",
       "\n",
       "     Hair Loss  \n",
       "0            0  \n",
       "1            0  \n",
       "2            0  \n",
       "3            0  \n",
       "4            1  \n",
       "..         ...  \n",
       "994          1  \n",
       "995          0  \n",
       "996          1  \n",
       "997          1  \n",
       "998          1  \n",
       "\n",
       "[999 rows x 13 columns]"
      ]
     },
     "execution_count": 104,
     "metadata": {},
     "output_type": "execute_result"
    }
   ],
   "source": [
    "#load the Data & collect the raw data \n",
    "df=pd.read_csv(\"Predict Hair Fall.csv\")\n",
    "df"
   ]
  },
  {
   "cell_type": "markdown",
   "metadata": {},
   "source": [
    "Steap-3: Data Cleaning \n"
   ]
  },
  {
   "cell_type": "code",
   "execution_count": 105,
   "metadata": {},
   "outputs": [
    {
     "name": "stdout",
     "output_type": "stream",
     "text": [
      "<class 'pandas.core.frame.DataFrame'>\n",
      "RangeIndex: 999 entries, 0 to 998\n",
      "Data columns (total 13 columns):\n",
      " #   Column                     Non-Null Count  Dtype \n",
      "---  ------                     --------------  ----- \n",
      " 0   Id                         999 non-null    int64 \n",
      " 1   Genetics                   999 non-null    object\n",
      " 2   Hormonal Changes           999 non-null    object\n",
      " 3   Medical Conditions         999 non-null    object\n",
      " 4   Medications & Treatments   999 non-null    object\n",
      " 5   Nutritional Deficiencies   999 non-null    object\n",
      " 6   Stress                     999 non-null    object\n",
      " 7   Age                        999 non-null    int64 \n",
      " 8   Poor Hair Care Habits      999 non-null    object\n",
      " 9   Environmental Factors      999 non-null    object\n",
      " 10  Smoking                    999 non-null    object\n",
      " 11  Weight Loss                999 non-null    object\n",
      " 12  Hair Loss                  999 non-null    int64 \n",
      "dtypes: int64(3), object(10)\n",
      "memory usage: 101.6+ KB\n"
     ]
    }
   ],
   "source": [
    "df.info()\n"
   ]
  },
  {
   "cell_type": "code",
   "execution_count": 106,
   "metadata": {},
   "outputs": [
    {
     "name": "stdout",
     "output_type": "stream",
     "text": [
      "    Genetics Hormonal Changes     Medical Conditions  \\\n",
      "0        Yes               No                No Data   \n",
      "1         No               No                 Eczema   \n",
      "2         No               No             Dermatosis   \n",
      "3        Yes              Yes               Ringworm   \n",
      "4         No               No              Psoriasis   \n",
      "..       ...              ...                    ...   \n",
      "994      Yes               No  Seborrheic Dermatitis   \n",
      "995      Yes              Yes                No Data   \n",
      "996       No              Yes  Androgenetic Alopecia   \n",
      "997       No              Yes             Dermatitis   \n",
      "998      Yes              Yes              Psoriasis   \n",
      "\n",
      "      Medications & Treatments Nutritional Deficiencies     Stress  \\\n",
      "0                      No Data      Magnesium deficiency  Moderate   \n",
      "1                  Antibiotics      Magnesium deficiency      High   \n",
      "2             Antifungal Cream        Protein deficiency  Moderate   \n",
      "3                  Antibiotics        Biotin Deficiency   Moderate   \n",
      "4                     Accutane           Iron deficiency  Moderate   \n",
      "..                         ...                       ...       ...   \n",
      "994                    Rogaine      Vitamin A Deficiency       Low   \n",
      "995                   Accutane        Protein deficiency       Low   \n",
      "996           Antidepressants         Protein deficiency  Moderate   \n",
      "997           Immunomodulators        Biotin Deficiency   Moderate   \n",
      "998  Blood Pressure Medication      Vitamin D Deficiency       Low   \n",
      "\n",
      "    Poor Hair Care Habits  Environmental Factors Smoking Weight Loss   \n",
      "0                      Yes                   Yes      No           No  \n",
      "1                      Yes                   Yes      No           No  \n",
      "2                      Yes                   Yes      No          Yes  \n",
      "3                      Yes                   Yes      No           No  \n",
      "4                       No                   Yes     Yes           No  \n",
      "..                     ...                   ...     ...          ...  \n",
      "994                    Yes                   Yes     Yes          Yes  \n",
      "995                     No                    No      No          Yes  \n",
      "996                    Yes                    No     Yes          Yes  \n",
      "997                    Yes                   Yes     Yes          Yes  \n",
      "998                     No                   Yes      No           No  \n",
      "\n",
      "[999 rows x 10 columns]\n",
      "         Id  Age  Hair Loss\n",
      "0    133992   19          0\n",
      "1    148393   43          0\n",
      "2    155074   26          0\n",
      "3    118261   46          0\n",
      "4    111915   30          1\n",
      "..      ...  ...        ...\n",
      "994  184367   33          1\n",
      "995  164777   47          0\n",
      "996  143273   20          1\n",
      "997  169123   32          1\n",
      "998  127183   34          1\n",
      "\n",
      "[999 rows x 3 columns]\n"
     ]
    }
   ],
   "source": [
    "cal_colm=df.select_dtypes(include=\"O\")\n",
    "print(cal_colm)\n",
    "num_colm=df.select_dtypes(exclude=\"O\")\n",
    "print(num_colm)"
   ]
  },
  {
   "cell_type": "code",
   "execution_count": 107,
   "metadata": {},
   "outputs": [
    {
     "data": {
      "text/plain": [
       "Id                           0\n",
       "Genetics                     0\n",
       "Hormonal Changes             0\n",
       "Medical Conditions           0\n",
       "Medications & Treatments     0\n",
       "Nutritional Deficiencies     0\n",
       "Stress                       0\n",
       "Age                          0\n",
       "Poor Hair Care Habits        0\n",
       "Environmental Factors        0\n",
       "Smoking                      0\n",
       "Weight Loss                  0\n",
       "Hair Loss                    0\n",
       "dtype: int64"
      ]
     },
     "execution_count": 107,
     "metadata": {},
     "output_type": "execute_result"
    }
   ],
   "source": [
    "df.isnull().sum()\n",
    "#there is no null entity persent "
   ]
  },
  {
   "cell_type": "code",
   "execution_count": 108,
   "metadata": {},
   "outputs": [
    {
     "data": {
      "text/plain": [
       "np.int64(0)"
      ]
     },
     "execution_count": 108,
     "metadata": {},
     "output_type": "execute_result"
    }
   ],
   "source": [
    "df.duplicated().sum()\n",
    "#there is no Duplcate coloum\n"
   ]
  },
  {
   "cell_type": "code",
   "execution_count": 109,
   "metadata": {},
   "outputs": [
    {
     "data": {
      "application/vnd.microsoft.datawrangler.viewer.v0+json": {
       "columns": [
        {
         "name": "index",
         "rawType": "int64",
         "type": "integer"
        },
        {
         "name": "Id",
         "rawType": "int64",
         "type": "integer"
        },
        {
         "name": "Genetics",
         "rawType": "object",
         "type": "string"
        },
        {
         "name": "Hormonal Changes",
         "rawType": "object",
         "type": "string"
        },
        {
         "name": "Medical Conditions",
         "rawType": "object",
         "type": "string"
        },
        {
         "name": "Medications & Treatments",
         "rawType": "object",
         "type": "string"
        },
        {
         "name": "Nutritional Deficiencies ",
         "rawType": "object",
         "type": "string"
        },
        {
         "name": "Stress",
         "rawType": "object",
         "type": "string"
        },
        {
         "name": "Age",
         "rawType": "int64",
         "type": "integer"
        },
        {
         "name": "Poor Hair Care Habits ",
         "rawType": "object",
         "type": "string"
        },
        {
         "name": "Environmental Factors",
         "rawType": "object",
         "type": "string"
        },
        {
         "name": "Smoking",
         "rawType": "object",
         "type": "string"
        },
        {
         "name": "Weight Loss ",
         "rawType": "object",
         "type": "string"
        },
        {
         "name": "Hair Loss",
         "rawType": "int64",
         "type": "integer"
        }
       ],
       "conversionMethod": "pd.DataFrame",
       "ref": "f00e7dfa-9019-40ab-a7ee-8b35286b05e2",
       "rows": [
        [
         "0",
         "133992",
         "Yes",
         "No",
         "No Data",
         "No Data",
         "Magnesium deficiency",
         "Moderate",
         "19",
         "Yes",
         "Yes",
         "No",
         "No",
         "0"
        ],
        [
         "1",
         "148393",
         "No",
         "No",
         "Eczema",
         "Antibiotics",
         "Magnesium deficiency",
         "High",
         "43",
         "Yes",
         "Yes",
         "No",
         "No",
         "0"
        ],
        [
         "2",
         "155074",
         "No",
         "No",
         "Dermatosis",
         "Antifungal Cream",
         "Protein deficiency",
         "Moderate",
         "26",
         "Yes",
         "Yes",
         "No",
         "Yes",
         "0"
        ],
        [
         "3",
         "118261",
         "Yes",
         "Yes",
         "Ringworm",
         "Antibiotics",
         "Biotin Deficiency ",
         "Moderate",
         "46",
         "Yes",
         "Yes",
         "No",
         "No",
         "0"
        ],
        [
         "4",
         "111915",
         "No",
         "No",
         "Psoriasis",
         "Accutane",
         "Iron deficiency",
         "Moderate",
         "30",
         "No",
         "Yes",
         "Yes",
         "No",
         "1"
        ]
       ],
       "shape": {
        "columns": 13,
        "rows": 5
       }
      },
      "text/html": [
       "<div>\n",
       "<style scoped>\n",
       "    .dataframe tbody tr th:only-of-type {\n",
       "        vertical-align: middle;\n",
       "    }\n",
       "\n",
       "    .dataframe tbody tr th {\n",
       "        vertical-align: top;\n",
       "    }\n",
       "\n",
       "    .dataframe thead th {\n",
       "        text-align: right;\n",
       "    }\n",
       "</style>\n",
       "<table border=\"1\" class=\"dataframe\">\n",
       "  <thead>\n",
       "    <tr style=\"text-align: right;\">\n",
       "      <th></th>\n",
       "      <th>Id</th>\n",
       "      <th>Genetics</th>\n",
       "      <th>Hormonal Changes</th>\n",
       "      <th>Medical Conditions</th>\n",
       "      <th>Medications &amp; Treatments</th>\n",
       "      <th>Nutritional Deficiencies</th>\n",
       "      <th>Stress</th>\n",
       "      <th>Age</th>\n",
       "      <th>Poor Hair Care Habits</th>\n",
       "      <th>Environmental Factors</th>\n",
       "      <th>Smoking</th>\n",
       "      <th>Weight Loss</th>\n",
       "      <th>Hair Loss</th>\n",
       "    </tr>\n",
       "  </thead>\n",
       "  <tbody>\n",
       "    <tr>\n",
       "      <th>0</th>\n",
       "      <td>133992</td>\n",
       "      <td>Yes</td>\n",
       "      <td>No</td>\n",
       "      <td>No Data</td>\n",
       "      <td>No Data</td>\n",
       "      <td>Magnesium deficiency</td>\n",
       "      <td>Moderate</td>\n",
       "      <td>19</td>\n",
       "      <td>Yes</td>\n",
       "      <td>Yes</td>\n",
       "      <td>No</td>\n",
       "      <td>No</td>\n",
       "      <td>0</td>\n",
       "    </tr>\n",
       "    <tr>\n",
       "      <th>1</th>\n",
       "      <td>148393</td>\n",
       "      <td>No</td>\n",
       "      <td>No</td>\n",
       "      <td>Eczema</td>\n",
       "      <td>Antibiotics</td>\n",
       "      <td>Magnesium deficiency</td>\n",
       "      <td>High</td>\n",
       "      <td>43</td>\n",
       "      <td>Yes</td>\n",
       "      <td>Yes</td>\n",
       "      <td>No</td>\n",
       "      <td>No</td>\n",
       "      <td>0</td>\n",
       "    </tr>\n",
       "    <tr>\n",
       "      <th>2</th>\n",
       "      <td>155074</td>\n",
       "      <td>No</td>\n",
       "      <td>No</td>\n",
       "      <td>Dermatosis</td>\n",
       "      <td>Antifungal Cream</td>\n",
       "      <td>Protein deficiency</td>\n",
       "      <td>Moderate</td>\n",
       "      <td>26</td>\n",
       "      <td>Yes</td>\n",
       "      <td>Yes</td>\n",
       "      <td>No</td>\n",
       "      <td>Yes</td>\n",
       "      <td>0</td>\n",
       "    </tr>\n",
       "    <tr>\n",
       "      <th>3</th>\n",
       "      <td>118261</td>\n",
       "      <td>Yes</td>\n",
       "      <td>Yes</td>\n",
       "      <td>Ringworm</td>\n",
       "      <td>Antibiotics</td>\n",
       "      <td>Biotin Deficiency</td>\n",
       "      <td>Moderate</td>\n",
       "      <td>46</td>\n",
       "      <td>Yes</td>\n",
       "      <td>Yes</td>\n",
       "      <td>No</td>\n",
       "      <td>No</td>\n",
       "      <td>0</td>\n",
       "    </tr>\n",
       "    <tr>\n",
       "      <th>4</th>\n",
       "      <td>111915</td>\n",
       "      <td>No</td>\n",
       "      <td>No</td>\n",
       "      <td>Psoriasis</td>\n",
       "      <td>Accutane</td>\n",
       "      <td>Iron deficiency</td>\n",
       "      <td>Moderate</td>\n",
       "      <td>30</td>\n",
       "      <td>No</td>\n",
       "      <td>Yes</td>\n",
       "      <td>Yes</td>\n",
       "      <td>No</td>\n",
       "      <td>1</td>\n",
       "    </tr>\n",
       "  </tbody>\n",
       "</table>\n",
       "</div>"
      ],
      "text/plain": [
       "       Id Genetics Hormonal Changes Medical Conditions  \\\n",
       "0  133992      Yes               No            No Data   \n",
       "1  148393       No               No             Eczema   \n",
       "2  155074       No               No         Dermatosis   \n",
       "3  118261      Yes              Yes           Ringworm   \n",
       "4  111915       No               No          Psoriasis   \n",
       "\n",
       "  Medications & Treatments Nutritional Deficiencies     Stress  Age  \\\n",
       "0                  No Data      Magnesium deficiency  Moderate   19   \n",
       "1              Antibiotics      Magnesium deficiency      High   43   \n",
       "2         Antifungal Cream        Protein deficiency  Moderate   26   \n",
       "3              Antibiotics        Biotin Deficiency   Moderate   46   \n",
       "4                 Accutane           Iron deficiency  Moderate   30   \n",
       "\n",
       "  Poor Hair Care Habits  Environmental Factors Smoking Weight Loss   Hair Loss  \n",
       "0                    Yes                   Yes      No           No          0  \n",
       "1                    Yes                   Yes      No           No          0  \n",
       "2                    Yes                   Yes      No          Yes          0  \n",
       "3                    Yes                   Yes      No           No          0  \n",
       "4                     No                   Yes     Yes           No          1  "
      ]
     },
     "execution_count": 109,
     "metadata": {},
     "output_type": "execute_result"
    }
   ],
   "source": [
    "df.head()"
   ]
  },
  {
   "cell_type": "code",
   "execution_count": 110,
   "metadata": {},
   "outputs": [
    {
     "data": {
      "text/plain": [
       "Stress\n",
       "Moderate    351\n",
       "Low         327\n",
       "High        321\n",
       "Name: count, dtype: int64"
      ]
     },
     "execution_count": 110,
     "metadata": {},
     "output_type": "execute_result"
    }
   ],
   "source": [
    "df.value_counts(\"Stress\")"
   ]
  },
  {
   "cell_type": "code",
   "execution_count": 111,
   "metadata": {},
   "outputs": [
    {
     "data": {
      "application/vnd.microsoft.datawrangler.viewer.v0+json": {
       "columns": [
        {
         "name": "index",
         "rawType": "int64",
         "type": "integer"
        },
        {
         "name": "Genetics",
         "rawType": "object",
         "type": "string"
        },
        {
         "name": "Hormonal Changes",
         "rawType": "object",
         "type": "string"
        },
        {
         "name": "Medical Conditions",
         "rawType": "object",
         "type": "string"
        },
        {
         "name": "Medications & Treatments",
         "rawType": "object",
         "type": "string"
        },
        {
         "name": "Nutritional Deficiencies ",
         "rawType": "object",
         "type": "string"
        },
        {
         "name": "Stress",
         "rawType": "object",
         "type": "string"
        },
        {
         "name": "Poor Hair Care Habits ",
         "rawType": "object",
         "type": "string"
        },
        {
         "name": "Environmental Factors",
         "rawType": "object",
         "type": "string"
        },
        {
         "name": "Smoking",
         "rawType": "object",
         "type": "string"
        },
        {
         "name": "Weight Loss ",
         "rawType": "object",
         "type": "string"
        }
       ],
       "conversionMethod": "pd.DataFrame",
       "ref": "0295ccdb-2cfe-4744-b174-80a0cab1efdf",
       "rows": [
        [
         "0",
         "Yes",
         "No",
         "No Data",
         "No Data",
         "Magnesium deficiency",
         "Moderate",
         "Yes",
         "Yes",
         "No",
         "No"
        ],
        [
         "1",
         "No",
         "No",
         "Eczema",
         "Antibiotics",
         "Magnesium deficiency",
         "High",
         "Yes",
         "Yes",
         "No",
         "No"
        ],
        [
         "2",
         "No",
         "No",
         "Dermatosis",
         "Antifungal Cream",
         "Protein deficiency",
         "Moderate",
         "Yes",
         "Yes",
         "No",
         "Yes"
        ],
        [
         "3",
         "Yes",
         "Yes",
         "Ringworm",
         "Antibiotics",
         "Biotin Deficiency ",
         "Moderate",
         "Yes",
         "Yes",
         "No",
         "No"
        ],
        [
         "4",
         "No",
         "No",
         "Psoriasis",
         "Accutane",
         "Iron deficiency",
         "Moderate",
         "No",
         "Yes",
         "Yes",
         "No"
        ],
        [
         "5",
         "Yes",
         "No",
         "Psoriasis",
         "Antibiotics",
         "Magnesium deficiency",
         "Low",
         "No",
         "Yes",
         "No",
         "Yes"
        ],
        [
         "6",
         "Yes",
         "Yes",
         "No Data",
         "No Data",
         "Selenium deficiency",
         "High",
         "Yes",
         "No",
         "No",
         "No"
        ],
        [
         "7",
         "Yes",
         "No",
         "Dermatosis",
         "Chemotherapy",
         "Omega-3 fatty acids",
         "High",
         "Yes",
         "No",
         "Yes",
         "No"
        ],
        [
         "8",
         "Yes",
         "No",
         "Eczema",
         "Steroids",
         "Selenium deficiency",
         "Moderate",
         "No",
         "No",
         "Yes",
         "Yes"
        ],
        [
         "9",
         "No",
         "Yes",
         "Ringworm",
         "Rogaine",
         "Magnesium deficiency",
         "Moderate",
         "Yes",
         "Yes",
         "Yes",
         "No"
        ],
        [
         "10",
         "Yes",
         "Yes",
         "Eczema",
         "Blood Pressure Medication",
         "Biotin Deficiency ",
         "High",
         "Yes",
         "Yes",
         "Yes",
         "No"
        ],
        [
         "11",
         "No",
         "Yes",
         "Alopecia Areata ",
         "Accutane",
         "Zinc Deficiency",
         "High",
         "No",
         "No",
         "No",
         "No"
        ],
        [
         "12",
         "Yes",
         "Yes",
         "Scalp Infection",
         "Immunomodulators",
         "Biotin Deficiency ",
         "Moderate",
         "No",
         "Yes",
         "Yes",
         "No"
        ],
        [
         "13",
         "No",
         "No",
         "Psoriasis",
         "Antibiotics",
         "Vitamin A Deficiency",
         "High",
         "Yes",
         "Yes",
         "Yes",
         "Yes"
        ],
        [
         "14",
         "Yes",
         "No",
         "Eczema",
         "Antibiotics",
         "Biotin Deficiency ",
         "High",
         "Yes",
         "Yes",
         "No",
         "Yes"
        ],
        [
         "15",
         "Yes",
         "Yes",
         "Scalp Infection",
         "Rogaine",
         "Vitamin D Deficiency",
         "Moderate",
         "Yes",
         "No",
         "No",
         "Yes"
        ],
        [
         "16",
         "Yes",
         "No",
         "Seborrheic Dermatitis",
         "Antidepressants ",
         "Vitamin D Deficiency",
         "High",
         "Yes",
         "Yes",
         "No",
         "Yes"
        ],
        [
         "17",
         "No",
         "Yes",
         "Dermatosis",
         "Antibiotics",
         "Zinc Deficiency",
         "Low",
         "Yes",
         "No",
         "No",
         "Yes"
        ],
        [
         "18",
         "Yes",
         "Yes",
         "Dermatosis",
         "Accutane",
         "Biotin Deficiency ",
         "Low",
         "No",
         "No",
         "Yes",
         "No"
        ],
        [
         "19",
         "Yes",
         "Yes",
         "Seborrheic Dermatitis",
         "Chemotherapy",
         "Vitamin A Deficiency",
         "High",
         "Yes",
         "Yes",
         "No",
         "Yes"
        ],
        [
         "20",
         "Yes",
         "Yes",
         "Seborrheic Dermatitis",
         "Accutane",
         "Protein deficiency",
         "High",
         "No",
         "Yes",
         "No",
         "Yes"
        ],
        [
         "21",
         "No",
         "No",
         "No Data",
         "Chemotherapy",
         "Zinc Deficiency",
         "High",
         "No",
         "Yes",
         "Yes",
         "Yes"
        ],
        [
         "22",
         "Yes",
         "Yes",
         "Psoriasis",
         "Antibiotics",
         "Vitamin D Deficiency",
         "Low",
         "No",
         "No",
         "Yes",
         "Yes"
        ],
        [
         "23",
         "No",
         "Yes",
         "Scalp Infection",
         "Antidepressants ",
         "Vitamin D Deficiency",
         "High",
         "No",
         "No",
         "Yes",
         "No"
        ],
        [
         "24",
         "No",
         "Yes",
         "Dermatitis",
         "Antibiotics",
         "Protein deficiency",
         "High",
         "Yes",
         "Yes",
         "No",
         "No"
        ],
        [
         "25",
         "Yes",
         "Yes",
         "Dermatosis",
         "Heart Medication ",
         "Vitamin A Deficiency",
         "Moderate",
         "No",
         "No",
         "No",
         "No"
        ],
        [
         "26",
         "No",
         "Yes",
         "Dermatosis",
         "Immunomodulators",
         "Selenium deficiency",
         "High",
         "No",
         "No",
         "No",
         "No"
        ],
        [
         "27",
         "No",
         "Yes",
         "Seborrheic Dermatitis",
         "Antifungal Cream",
         "Zinc Deficiency",
         "Low",
         "No",
         "No",
         "No",
         "No"
        ],
        [
         "28",
         "No",
         "Yes",
         "Thyroid Problems",
         "Chemotherapy",
         "Omega-3 fatty acids",
         "Low",
         "Yes",
         "Yes",
         "Yes",
         "No"
        ],
        [
         "29",
         "No",
         "Yes",
         "Dermatitis",
         "Chemotherapy",
         "No Data",
         "Low",
         "Yes",
         "Yes",
         "Yes",
         "No"
        ],
        [
         "30",
         "No",
         "No",
         "Dermatosis",
         "Chemotherapy",
         "No Data",
         "High",
         "Yes",
         "Yes",
         "No",
         "No"
        ],
        [
         "31",
         "No",
         "Yes",
         "Dermatitis",
         "Antibiotics",
         "Iron deficiency",
         "Moderate",
         "No",
         "No",
         "No",
         "Yes"
        ],
        [
         "32",
         "Yes",
         "No",
         "Dermatitis",
         "Steroids",
         "Protein deficiency",
         "Moderate",
         "Yes",
         "Yes",
         "No",
         "No"
        ],
        [
         "33",
         "Yes",
         "No",
         "Ringworm",
         "Steroids",
         "Selenium deficiency",
         "High",
         "Yes",
         "Yes",
         "No",
         "Yes"
        ],
        [
         "34",
         "No",
         "Yes",
         "Scalp Infection",
         "Antidepressants ",
         "Vitamin D Deficiency",
         "Moderate",
         "Yes",
         "Yes",
         "Yes",
         "Yes"
        ],
        [
         "35",
         "Yes",
         "Yes",
         "Dermatitis",
         "Chemotherapy",
         "Zinc Deficiency",
         "Low",
         "Yes",
         "Yes",
         "Yes",
         "Yes"
        ],
        [
         "36",
         "No",
         "Yes",
         "Alopecia Areata ",
         "Antibiotics",
         "Biotin Deficiency ",
         "Low",
         "No",
         "No",
         "No",
         "Yes"
        ],
        [
         "37",
         "No",
         "No",
         "Eczema",
         "Heart Medication ",
         "No Data",
         "Low",
         "Yes",
         "No",
         "No",
         "Yes"
        ],
        [
         "38",
         "No",
         "Yes",
         "Scalp Infection",
         "Chemotherapy",
         "Zinc Deficiency",
         "Low",
         "Yes",
         "Yes",
         "Yes",
         "No"
        ],
        [
         "39",
         "Yes",
         "Yes",
         "Seborrheic Dermatitis",
         "Steroids",
         "Omega-3 fatty acids",
         "Moderate",
         "No",
         "No",
         "No",
         "No"
        ],
        [
         "40",
         "No",
         "No",
         "No Data",
         "Chemotherapy",
         "Vitamin E deficiency",
         "High",
         "Yes",
         "Yes",
         "Yes",
         "No"
        ],
        [
         "41",
         "Yes",
         "Yes",
         "Dermatosis",
         "Immunomodulators",
         "Magnesium deficiency",
         "High",
         "No",
         "No",
         "Yes",
         "Yes"
        ],
        [
         "42",
         "Yes",
         "No",
         "Alopecia Areata ",
         "Accutane",
         "Selenium deficiency",
         "High",
         "No",
         "No",
         "No",
         "No"
        ],
        [
         "43",
         "No",
         "No",
         "Dermatosis",
         "Blood Pressure Medication",
         "Magnesium deficiency",
         "Low",
         "No",
         "Yes",
         "No",
         "Yes"
        ],
        [
         "44",
         "Yes",
         "Yes",
         "Thyroid Problems",
         "Rogaine",
         "Vitamin E deficiency",
         "Low",
         "No",
         "No",
         "No",
         "No"
        ],
        [
         "45",
         "No",
         "No",
         "Androgenetic Alopecia",
         "Accutane",
         "Iron deficiency",
         "Moderate",
         "No",
         "No",
         "Yes",
         "Yes"
        ],
        [
         "46",
         "No",
         "Yes",
         "Androgenetic Alopecia",
         "Steroids",
         "Vitamin A Deficiency",
         "Moderate",
         "Yes",
         "Yes",
         "No",
         "No"
        ],
        [
         "47",
         "No",
         "No",
         "No Data",
         "Steroids",
         "Zinc Deficiency",
         "High",
         "No",
         "Yes",
         "Yes",
         "No"
        ],
        [
         "48",
         "Yes",
         "No",
         "No Data",
         "Blood Pressure Medication",
         "Iron deficiency",
         "High",
         "No",
         "Yes",
         "No",
         "Yes"
        ],
        [
         "49",
         "No",
         "No",
         "Scalp Infection",
         "Immunomodulators",
         "Vitamin A Deficiency",
         "Moderate",
         "Yes",
         "Yes",
         "No",
         "Yes"
        ]
       ],
       "shape": {
        "columns": 10,
        "rows": 999
       }
      },
      "text/html": [
       "<div>\n",
       "<style scoped>\n",
       "    .dataframe tbody tr th:only-of-type {\n",
       "        vertical-align: middle;\n",
       "    }\n",
       "\n",
       "    .dataframe tbody tr th {\n",
       "        vertical-align: top;\n",
       "    }\n",
       "\n",
       "    .dataframe thead th {\n",
       "        text-align: right;\n",
       "    }\n",
       "</style>\n",
       "<table border=\"1\" class=\"dataframe\">\n",
       "  <thead>\n",
       "    <tr style=\"text-align: right;\">\n",
       "      <th></th>\n",
       "      <th>Genetics</th>\n",
       "      <th>Hormonal Changes</th>\n",
       "      <th>Medical Conditions</th>\n",
       "      <th>Medications &amp; Treatments</th>\n",
       "      <th>Nutritional Deficiencies</th>\n",
       "      <th>Stress</th>\n",
       "      <th>Poor Hair Care Habits</th>\n",
       "      <th>Environmental Factors</th>\n",
       "      <th>Smoking</th>\n",
       "      <th>Weight Loss</th>\n",
       "    </tr>\n",
       "  </thead>\n",
       "  <tbody>\n",
       "    <tr>\n",
       "      <th>0</th>\n",
       "      <td>Yes</td>\n",
       "      <td>No</td>\n",
       "      <td>No Data</td>\n",
       "      <td>No Data</td>\n",
       "      <td>Magnesium deficiency</td>\n",
       "      <td>Moderate</td>\n",
       "      <td>Yes</td>\n",
       "      <td>Yes</td>\n",
       "      <td>No</td>\n",
       "      <td>No</td>\n",
       "    </tr>\n",
       "    <tr>\n",
       "      <th>1</th>\n",
       "      <td>No</td>\n",
       "      <td>No</td>\n",
       "      <td>Eczema</td>\n",
       "      <td>Antibiotics</td>\n",
       "      <td>Magnesium deficiency</td>\n",
       "      <td>High</td>\n",
       "      <td>Yes</td>\n",
       "      <td>Yes</td>\n",
       "      <td>No</td>\n",
       "      <td>No</td>\n",
       "    </tr>\n",
       "    <tr>\n",
       "      <th>2</th>\n",
       "      <td>No</td>\n",
       "      <td>No</td>\n",
       "      <td>Dermatosis</td>\n",
       "      <td>Antifungal Cream</td>\n",
       "      <td>Protein deficiency</td>\n",
       "      <td>Moderate</td>\n",
       "      <td>Yes</td>\n",
       "      <td>Yes</td>\n",
       "      <td>No</td>\n",
       "      <td>Yes</td>\n",
       "    </tr>\n",
       "    <tr>\n",
       "      <th>3</th>\n",
       "      <td>Yes</td>\n",
       "      <td>Yes</td>\n",
       "      <td>Ringworm</td>\n",
       "      <td>Antibiotics</td>\n",
       "      <td>Biotin Deficiency</td>\n",
       "      <td>Moderate</td>\n",
       "      <td>Yes</td>\n",
       "      <td>Yes</td>\n",
       "      <td>No</td>\n",
       "      <td>No</td>\n",
       "    </tr>\n",
       "    <tr>\n",
       "      <th>4</th>\n",
       "      <td>No</td>\n",
       "      <td>No</td>\n",
       "      <td>Psoriasis</td>\n",
       "      <td>Accutane</td>\n",
       "      <td>Iron deficiency</td>\n",
       "      <td>Moderate</td>\n",
       "      <td>No</td>\n",
       "      <td>Yes</td>\n",
       "      <td>Yes</td>\n",
       "      <td>No</td>\n",
       "    </tr>\n",
       "    <tr>\n",
       "      <th>...</th>\n",
       "      <td>...</td>\n",
       "      <td>...</td>\n",
       "      <td>...</td>\n",
       "      <td>...</td>\n",
       "      <td>...</td>\n",
       "      <td>...</td>\n",
       "      <td>...</td>\n",
       "      <td>...</td>\n",
       "      <td>...</td>\n",
       "      <td>...</td>\n",
       "    </tr>\n",
       "    <tr>\n",
       "      <th>994</th>\n",
       "      <td>Yes</td>\n",
       "      <td>No</td>\n",
       "      <td>Seborrheic Dermatitis</td>\n",
       "      <td>Rogaine</td>\n",
       "      <td>Vitamin A Deficiency</td>\n",
       "      <td>Low</td>\n",
       "      <td>Yes</td>\n",
       "      <td>Yes</td>\n",
       "      <td>Yes</td>\n",
       "      <td>Yes</td>\n",
       "    </tr>\n",
       "    <tr>\n",
       "      <th>995</th>\n",
       "      <td>Yes</td>\n",
       "      <td>Yes</td>\n",
       "      <td>No Data</td>\n",
       "      <td>Accutane</td>\n",
       "      <td>Protein deficiency</td>\n",
       "      <td>Low</td>\n",
       "      <td>No</td>\n",
       "      <td>No</td>\n",
       "      <td>No</td>\n",
       "      <td>Yes</td>\n",
       "    </tr>\n",
       "    <tr>\n",
       "      <th>996</th>\n",
       "      <td>No</td>\n",
       "      <td>Yes</td>\n",
       "      <td>Androgenetic Alopecia</td>\n",
       "      <td>Antidepressants</td>\n",
       "      <td>Protein deficiency</td>\n",
       "      <td>Moderate</td>\n",
       "      <td>Yes</td>\n",
       "      <td>No</td>\n",
       "      <td>Yes</td>\n",
       "      <td>Yes</td>\n",
       "    </tr>\n",
       "    <tr>\n",
       "      <th>997</th>\n",
       "      <td>No</td>\n",
       "      <td>Yes</td>\n",
       "      <td>Dermatitis</td>\n",
       "      <td>Immunomodulators</td>\n",
       "      <td>Biotin Deficiency</td>\n",
       "      <td>Moderate</td>\n",
       "      <td>Yes</td>\n",
       "      <td>Yes</td>\n",
       "      <td>Yes</td>\n",
       "      <td>Yes</td>\n",
       "    </tr>\n",
       "    <tr>\n",
       "      <th>998</th>\n",
       "      <td>Yes</td>\n",
       "      <td>Yes</td>\n",
       "      <td>Psoriasis</td>\n",
       "      <td>Blood Pressure Medication</td>\n",
       "      <td>Vitamin D Deficiency</td>\n",
       "      <td>Low</td>\n",
       "      <td>No</td>\n",
       "      <td>Yes</td>\n",
       "      <td>No</td>\n",
       "      <td>No</td>\n",
       "    </tr>\n",
       "  </tbody>\n",
       "</table>\n",
       "<p>999 rows × 10 columns</p>\n",
       "</div>"
      ],
      "text/plain": [
       "    Genetics Hormonal Changes     Medical Conditions  \\\n",
       "0        Yes               No                No Data   \n",
       "1         No               No                 Eczema   \n",
       "2         No               No             Dermatosis   \n",
       "3        Yes              Yes               Ringworm   \n",
       "4         No               No              Psoriasis   \n",
       "..       ...              ...                    ...   \n",
       "994      Yes               No  Seborrheic Dermatitis   \n",
       "995      Yes              Yes                No Data   \n",
       "996       No              Yes  Androgenetic Alopecia   \n",
       "997       No              Yes             Dermatitis   \n",
       "998      Yes              Yes              Psoriasis   \n",
       "\n",
       "      Medications & Treatments Nutritional Deficiencies     Stress  \\\n",
       "0                      No Data      Magnesium deficiency  Moderate   \n",
       "1                  Antibiotics      Magnesium deficiency      High   \n",
       "2             Antifungal Cream        Protein deficiency  Moderate   \n",
       "3                  Antibiotics        Biotin Deficiency   Moderate   \n",
       "4                     Accutane           Iron deficiency  Moderate   \n",
       "..                         ...                       ...       ...   \n",
       "994                    Rogaine      Vitamin A Deficiency       Low   \n",
       "995                   Accutane        Protein deficiency       Low   \n",
       "996           Antidepressants         Protein deficiency  Moderate   \n",
       "997           Immunomodulators        Biotin Deficiency   Moderate   \n",
       "998  Blood Pressure Medication      Vitamin D Deficiency       Low   \n",
       "\n",
       "    Poor Hair Care Habits  Environmental Factors Smoking Weight Loss   \n",
       "0                      Yes                   Yes      No           No  \n",
       "1                      Yes                   Yes      No           No  \n",
       "2                      Yes                   Yes      No          Yes  \n",
       "3                      Yes                   Yes      No           No  \n",
       "4                       No                   Yes     Yes           No  \n",
       "..                     ...                   ...     ...          ...  \n",
       "994                    Yes                   Yes     Yes          Yes  \n",
       "995                     No                    No      No          Yes  \n",
       "996                    Yes                    No     Yes          Yes  \n",
       "997                    Yes                   Yes     Yes          Yes  \n",
       "998                     No                   Yes      No           No  \n",
       "\n",
       "[999 rows x 10 columns]"
      ]
     },
     "execution_count": 111,
     "metadata": {},
     "output_type": "execute_result"
    }
   ],
   "source": [
    "cal_colm"
   ]
  },
  {
   "cell_type": "code",
   "execution_count": 112,
   "metadata": {},
   "outputs": [
    {
     "name": "stdout",
     "output_type": "stream",
     "text": [
      "================================================================================\n",
      "Genetics\n",
      "Yes    522\n",
      "No     477\n",
      "Name: count, dtype: int64\n",
      "================================================================================\n",
      "Hormonal Changes\n",
      "Yes    509\n",
      "No     490\n",
      "Name: count, dtype: int64\n",
      "================================================================================\n",
      "Medical Conditions\n",
      "No Data                  110\n",
      "Alopecia Areata          107\n",
      "Psoriasis                100\n",
      "Thyroid Problems          99\n",
      "Androgenetic Alopecia     98\n",
      "Dermatitis                92\n",
      "Dermatosis                88\n",
      "Seborrheic Dermatitis     88\n",
      "Scalp Infection           79\n",
      "Eczema                    69\n",
      "Ringworm                  69\n",
      "Name: count, dtype: int64\n",
      "================================================================================\n",
      "Medications & Treatments\n",
      "Rogaine                      116\n",
      "Antidepressants              110\n",
      "Steroids                     107\n",
      "Heart Medication             104\n",
      "Accutane                     102\n",
      "Antibiotics                   94\n",
      "Antifungal Cream              94\n",
      "Chemotherapy                  90\n",
      "Blood Pressure Medication     90\n",
      "Immunomodulators              90\n",
      "No Data                        2\n",
      "Name: count, dtype: int64\n",
      "================================================================================\n",
      "Nutritional Deficiencies \n",
      "Zinc Deficiency         108\n",
      "Vitamin D Deficiency    104\n",
      "Biotin Deficiency        99\n",
      "Vitamin A Deficiency     99\n",
      "Omega-3 fatty acids      92\n",
      "Protein deficiency       90\n",
      "Magnesium deficiency     84\n",
      "Vitamin E deficiency     83\n",
      "Selenium deficiency      82\n",
      "No Data                  80\n",
      "Iron deficiency          78\n",
      "Name: count, dtype: int64\n",
      "================================================================================\n",
      "Stress\n",
      "Moderate    351\n",
      "Low         327\n",
      "High        321\n",
      "Name: count, dtype: int64\n",
      "================================================================================\n",
      "Poor Hair Care Habits \n",
      "No     507\n",
      "Yes    492\n",
      "Name: count, dtype: int64\n",
      "================================================================================\n",
      "Environmental Factors\n",
      "Yes    508\n",
      "No     491\n",
      "Name: count, dtype: int64\n",
      "================================================================================\n",
      "Smoking\n",
      "Yes    519\n",
      "No     480\n",
      "Name: count, dtype: int64\n",
      "================================================================================\n",
      "Weight Loss \n",
      "No     527\n",
      "Yes    472\n",
      "Name: count, dtype: int64\n"
     ]
    }
   ],
   "source": [
    "\n",
    "#knoe the cateogy in catogrical coloumns \n",
    "for i in cal_colm:\n",
    "    print(\"==\"*40)\n",
    "    print(df.value_counts(i))\n",
    "    "
   ]
  },
  {
   "cell_type": "markdown",
   "metadata": {},
   "source": [
    "Steap-4 : Exploratory Data Analysis (EDA)\n"
   ]
  },
  {
   "cell_type": "code",
   "execution_count": 113,
   "metadata": {},
   "outputs": [
    {
     "name": "stdout",
     "output_type": "stream",
     "text": [
      "sucessfully imported\n"
     ]
    }
   ],
   "source": [
    "import matplotlib.pyplot as plt \n",
    "import seaborn as sns\n",
    "print(\"sucessfully imported\")"
   ]
  },
  {
   "cell_type": "code",
   "execution_count": 114,
   "metadata": {},
   "outputs": [
    {
     "data": {
      "image/png": "[encoded data removed]",
      "text/plain": [
       "<Figure size 640x480 with 1 Axes>"
      ]
     },
     "metadata": {},
     "output_type": "display_data"
    }
   ],
   "source": [
    "# Distribution of Numeric Variables (Age, Stress, etc.)\n",
    "sns.histplot(df['Age'], kde=False, color='blue', bins=20)\n",
    "plt.title(\"Age Distribution\")\n",
    "plt.show()\n"
   ]
  },
  {
   "cell_type": "code",
   "execution_count": 115,
   "metadata": {},
   "outputs": [
    {
     "data": {
      "image/png": "[encoded data removed]",
      "text/plain": [
       "<Figure size 640x480 with 1 Axes>"
      ]
     },
     "metadata": {},
     "output_type": "display_data"
    }
   ],
   "source": [
    "# . Boxplot of Age vs Hair Loss\n",
    "sns.boxplot(x='Hair Loss', y='Age', data=df)\n",
    "plt.title(\"Age vs Hair Loss\")\n",
    "plt.show()"
   ]
  },
  {
   "cell_type": "code",
   "execution_count": 116,
   "metadata": {},
   "outputs": [
    {
     "data": {
      "image/png": "[encoded data removed]",
      "text/plain": [
       "<Figure size 640x480 with 2 Axes>"
      ]
     },
     "metadata": {},
     "output_type": "display_data"
    }
   ],
   "source": [
    "# . Correlation Heatmap for Numerical Features\n",
    "corr = df[['Age', 'Id', 'Hair Loss']].corr()\n",
    "sns.heatmap(corr, annot=True, cmap='coolwarm', fmt='.2f', linewidths=0.5)\n",
    "plt.title(\"Correlation Heatmap\")\n",
    "plt.show()"
   ]
  },
  {
   "cell_type": "code",
   "execution_count": 117,
   "metadata": {},
   "outputs": [
    {
     "data": {
      "image/png": "[encoded data removed]",
      "text/plain": [
       "<Figure size 640x480 with 1 Axes>"
      ]
     },
     "metadata": {},
     "output_type": "display_data"
    }
   ],
   "source": [
    "# Barplot for Categorical Data (e.g., Smoking vs Hair Loss)\n",
    "sns.countplot(x='Smoking', hue='Hair Loss', data=df)\n",
    "plt.title(\"Smoking vs Hair Loss\")\n",
    "plt.show()"
   ]
  },
  {
   "cell_type": "code",
   "execution_count": 118,
   "metadata": {},
   "outputs": [
    {
     "data": {
      "text/plain": [
       "Index(['Id', 'Genetics', 'Hormonal Changes', 'Medical Conditions',\n",
       "       'Medications & Treatments', 'Nutritional Deficiencies ', 'Stress',\n",
       "       'Age', 'Poor Hair Care Habits ', 'Environmental Factors', 'Smoking',\n",
       "       'Weight Loss ', 'Hair Loss'],\n",
       "      dtype='object')"
      ]
     },
     "execution_count": 118,
     "metadata": {},
     "output_type": "execute_result"
    }
   ],
   "source": [
    "df.columns"
   ]
  },
  {
   "cell_type": "markdown",
   "metadata": {},
   "source": [
    "Steap-5 : Feature Engineering and Selection\n"
   ]
  },
  {
   "cell_type": "code",
   "execution_count": 119,
   "metadata": {},
   "outputs": [],
   "source": [
    "#In this Steap we can remove or created a more coloums from one and multiple coloumns \n",
    "#We can selected the important coloums for Decide the prediction and remove unwanted coloumns"
   ]
  },
  {
   "cell_type": "code",
   "execution_count": 120,
   "metadata": {},
   "outputs": [],
   "source": [
    "#delete the multiple coloumns by coloum wise-(1)\n",
    "\n",
    "df.drop([\"Poor Hair Care Habits \",\"Environmental Factors\",\"Smoking\",\"Id\"],axis=1,inplace=True)\n"
   ]
  },
  {
   "cell_type": "code",
   "execution_count": 121,
   "metadata": {},
   "outputs": [
    {
     "data": {
      "application/vnd.microsoft.datawrangler.viewer.v0+json": {
       "columns": [
        {
         "name": "index",
         "rawType": "int64",
         "type": "integer"
        },
        {
         "name": "Genetics",
         "rawType": "object",
         "type": "string"
        },
        {
         "name": "Hormonal Changes",
         "rawType": "object",
         "type": "string"
        },
        {
         "name": "Medical Conditions",
         "rawType": "object",
         "type": "string"
        },
        {
         "name": "Medications & Treatments",
         "rawType": "object",
         "type": "string"
        },
        {
         "name": "Nutritional Deficiencies ",
         "rawType": "object",
         "type": "string"
        },
        {
         "name": "Stress",
         "rawType": "object",
         "type": "string"
        },
        {
         "name": "Age",
         "rawType": "int64",
         "type": "integer"
        },
        {
         "name": "Weight Loss ",
         "rawType": "object",
         "type": "string"
        },
        {
         "name": "Hair Loss",
         "rawType": "int64",
         "type": "integer"
        }
       ],
       "conversionMethod": "pd.DataFrame",
       "ref": "f94320ef-2655-4ceb-914b-7fd3e72861fa",
       "rows": [
        [
         "0",
         "Yes",
         "No",
         "No Data",
         "No Data",
         "Magnesium deficiency",
         "Moderate",
         "19",
         "No",
         "0"
        ],
        [
         "1",
         "No",
         "No",
         "Eczema",
         "Antibiotics",
         "Magnesium deficiency",
         "High",
         "43",
         "No",
         "0"
        ],
        [
         "2",
         "No",
         "No",
         "Dermatosis",
         "Antifungal Cream",
         "Protein deficiency",
         "Moderate",
         "26",
         "Yes",
         "0"
        ],
        [
         "3",
         "Yes",
         "Yes",
         "Ringworm",
         "Antibiotics",
         "Biotin Deficiency ",
         "Moderate",
         "46",
         "No",
         "0"
        ],
        [
         "4",
         "No",
         "No",
         "Psoriasis",
         "Accutane",
         "Iron deficiency",
         "Moderate",
         "30",
         "No",
         "1"
        ],
        [
         "5",
         "Yes",
         "No",
         "Psoriasis",
         "Antibiotics",
         "Magnesium deficiency",
         "Low",
         "37",
         "Yes",
         "1"
        ],
        [
         "6",
         "Yes",
         "Yes",
         "No Data",
         "No Data",
         "Selenium deficiency",
         "High",
         "40",
         "No",
         "1"
        ],
        [
         "7",
         "Yes",
         "No",
         "Dermatosis",
         "Chemotherapy",
         "Omega-3 fatty acids",
         "High",
         "35",
         "No",
         "0"
        ],
        [
         "8",
         "Yes",
         "No",
         "Eczema",
         "Steroids",
         "Selenium deficiency",
         "Moderate",
         "19",
         "Yes",
         "1"
        ],
        [
         "9",
         "No",
         "Yes",
         "Ringworm",
         "Rogaine",
         "Magnesium deficiency",
         "Moderate",
         "49",
         "No",
         "0"
        ],
        [
         "10",
         "Yes",
         "Yes",
         "Eczema",
         "Blood Pressure Medication",
         "Biotin Deficiency ",
         "High",
         "26",
         "No",
         "0"
        ],
        [
         "11",
         "No",
         "Yes",
         "Alopecia Areata ",
         "Accutane",
         "Zinc Deficiency",
         "High",
         "48",
         "No",
         "1"
        ],
        [
         "12",
         "Yes",
         "Yes",
         "Scalp Infection",
         "Immunomodulators",
         "Biotin Deficiency ",
         "Moderate",
         "20",
         "No",
         "1"
        ],
        [
         "13",
         "No",
         "No",
         "Psoriasis",
         "Antibiotics",
         "Vitamin A Deficiency",
         "High",
         "30",
         "Yes",
         "0"
        ],
        [
         "14",
         "Yes",
         "No",
         "Eczema",
         "Antibiotics",
         "Biotin Deficiency ",
         "High",
         "34",
         "Yes",
         "0"
        ],
        [
         "15",
         "Yes",
         "Yes",
         "Scalp Infection",
         "Rogaine",
         "Vitamin D Deficiency",
         "Moderate",
         "29",
         "Yes",
         "0"
        ],
        [
         "16",
         "Yes",
         "No",
         "Seborrheic Dermatitis",
         "Antidepressants ",
         "Vitamin D Deficiency",
         "High",
         "46",
         "Yes",
         "0"
        ],
        [
         "17",
         "No",
         "Yes",
         "Dermatosis",
         "Antibiotics",
         "Zinc Deficiency",
         "Low",
         "19",
         "Yes",
         "1"
        ],
        [
         "18",
         "Yes",
         "Yes",
         "Dermatosis",
         "Accutane",
         "Biotin Deficiency ",
         "Low",
         "26",
         "No",
         "0"
        ],
        [
         "19",
         "Yes",
         "Yes",
         "Seborrheic Dermatitis",
         "Chemotherapy",
         "Vitamin A Deficiency",
         "High",
         "46",
         "Yes",
         "1"
        ],
        [
         "20",
         "Yes",
         "Yes",
         "Seborrheic Dermatitis",
         "Accutane",
         "Protein deficiency",
         "High",
         "46",
         "Yes",
         "1"
        ],
        [
         "21",
         "No",
         "No",
         "No Data",
         "Chemotherapy",
         "Zinc Deficiency",
         "High",
         "20",
         "Yes",
         "1"
        ],
        [
         "22",
         "Yes",
         "Yes",
         "Psoriasis",
         "Antibiotics",
         "Vitamin D Deficiency",
         "Low",
         "29",
         "Yes",
         "0"
        ],
        [
         "23",
         "No",
         "Yes",
         "Scalp Infection",
         "Antidepressants ",
         "Vitamin D Deficiency",
         "High",
         "37",
         "No",
         "1"
        ],
        [
         "24",
         "No",
         "Yes",
         "Dermatitis",
         "Antibiotics",
         "Protein deficiency",
         "High",
         "33",
         "No",
         "0"
        ],
        [
         "25",
         "Yes",
         "Yes",
         "Dermatosis",
         "Heart Medication ",
         "Vitamin A Deficiency",
         "Moderate",
         "34",
         "No",
         "0"
        ],
        [
         "26",
         "No",
         "Yes",
         "Dermatosis",
         "Immunomodulators",
         "Selenium deficiency",
         "High",
         "28",
         "No",
         "0"
        ],
        [
         "27",
         "No",
         "Yes",
         "Seborrheic Dermatitis",
         "Antifungal Cream",
         "Zinc Deficiency",
         "Low",
         "41",
         "No",
         "0"
        ],
        [
         "28",
         "No",
         "Yes",
         "Thyroid Problems",
         "Chemotherapy",
         "Omega-3 fatty acids",
         "Low",
         "35",
         "No",
         "0"
        ],
        [
         "29",
         "No",
         "Yes",
         "Dermatitis",
         "Chemotherapy",
         "No Data",
         "Low",
         "21",
         "No",
         "0"
        ],
        [
         "30",
         "No",
         "No",
         "Dermatosis",
         "Chemotherapy",
         "No Data",
         "High",
         "22",
         "No",
         "0"
        ],
        [
         "31",
         "No",
         "Yes",
         "Dermatitis",
         "Antibiotics",
         "Iron deficiency",
         "Moderate",
         "45",
         "Yes",
         "1"
        ],
        [
         "32",
         "Yes",
         "No",
         "Dermatitis",
         "Steroids",
         "Protein deficiency",
         "Moderate",
         "30",
         "No",
         "0"
        ],
        [
         "33",
         "Yes",
         "No",
         "Ringworm",
         "Steroids",
         "Selenium deficiency",
         "High",
         "24",
         "Yes",
         "1"
        ],
        [
         "34",
         "No",
         "Yes",
         "Scalp Infection",
         "Antidepressants ",
         "Vitamin D Deficiency",
         "Moderate",
         "31",
         "Yes",
         "1"
        ],
        [
         "35",
         "Yes",
         "Yes",
         "Dermatitis",
         "Chemotherapy",
         "Zinc Deficiency",
         "Low",
         "30",
         "Yes",
         "0"
        ],
        [
         "36",
         "No",
         "Yes",
         "Alopecia Areata ",
         "Antibiotics",
         "Biotin Deficiency ",
         "Low",
         "39",
         "Yes",
         "1"
        ],
        [
         "37",
         "No",
         "No",
         "Eczema",
         "Heart Medication ",
         "No Data",
         "Low",
         "21",
         "Yes",
         "1"
        ],
        [
         "38",
         "No",
         "Yes",
         "Scalp Infection",
         "Chemotherapy",
         "Zinc Deficiency",
         "Low",
         "24",
         "No",
         "0"
        ],
        [
         "39",
         "Yes",
         "Yes",
         "Seborrheic Dermatitis",
         "Steroids",
         "Omega-3 fatty acids",
         "Moderate",
         "38",
         "No",
         "0"
        ],
        [
         "40",
         "No",
         "No",
         "No Data",
         "Chemotherapy",
         "Vitamin E deficiency",
         "High",
         "19",
         "No",
         "0"
        ],
        [
         "41",
         "Yes",
         "Yes",
         "Dermatosis",
         "Immunomodulators",
         "Magnesium deficiency",
         "High",
         "39",
         "Yes",
         "1"
        ],
        [
         "42",
         "Yes",
         "No",
         "Alopecia Areata ",
         "Accutane",
         "Selenium deficiency",
         "High",
         "30",
         "No",
         "1"
        ],
        [
         "43",
         "No",
         "No",
         "Dermatosis",
         "Blood Pressure Medication",
         "Magnesium deficiency",
         "Low",
         "24",
         "Yes",
         "1"
        ],
        [
         "44",
         "Yes",
         "Yes",
         "Thyroid Problems",
         "Rogaine",
         "Vitamin E deficiency",
         "Low",
         "37",
         "No",
         "1"
        ],
        [
         "45",
         "No",
         "No",
         "Androgenetic Alopecia",
         "Accutane",
         "Iron deficiency",
         "Moderate",
         "36",
         "Yes",
         "1"
        ],
        [
         "46",
         "No",
         "Yes",
         "Androgenetic Alopecia",
         "Steroids",
         "Vitamin A Deficiency",
         "Moderate",
         "48",
         "No",
         "0"
        ],
        [
         "47",
         "No",
         "No",
         "No Data",
         "Steroids",
         "Zinc Deficiency",
         "High",
         "18",
         "No",
         "1"
        ],
        [
         "48",
         "Yes",
         "No",
         "No Data",
         "Blood Pressure Medication",
         "Iron deficiency",
         "High",
         "18",
         "Yes",
         "1"
        ],
        [
         "49",
         "No",
         "No",
         "Scalp Infection",
         "Immunomodulators",
         "Vitamin A Deficiency",
         "Moderate",
         "38",
         "Yes",
         "0"
        ]
       ],
       "shape": {
        "columns": 9,
        "rows": 999
       }
      },
      "text/html": [
       "<div>\n",
       "<style scoped>\n",
       "    .dataframe tbody tr th:only-of-type {\n",
       "        vertical-align: middle;\n",
       "    }\n",
       "\n",
       "    .dataframe tbody tr th {\n",
       "        vertical-align: top;\n",
       "    }\n",
       "\n",
       "    .dataframe thead th {\n",
       "        text-align: right;\n",
       "    }\n",
       "</style>\n",
       "<table border=\"1\" class=\"dataframe\">\n",
       "  <thead>\n",
       "    <tr style=\"text-align: right;\">\n",
       "      <th></th>\n",
       "      <th>Genetics</th>\n",
       "      <th>Hormonal Changes</th>\n",
       "      <th>Medical Conditions</th>\n",
       "      <th>Medications &amp; Treatments</th>\n",
       "      <th>Nutritional Deficiencies</th>\n",
       "      <th>Stress</th>\n",
       "      <th>Age</th>\n",
       "      <th>Weight Loss</th>\n",
       "      <th>Hair Loss</th>\n",
       "    </tr>\n",
       "  </thead>\n",
       "  <tbody>\n",
       "    <tr>\n",
       "      <th>0</th>\n",
       "      <td>Yes</td>\n",
       "      <td>No</td>\n",
       "      <td>No Data</td>\n",
       "      <td>No Data</td>\n",
       "      <td>Magnesium deficiency</td>\n",
       "      <td>Moderate</td>\n",
       "      <td>19</td>\n",
       "      <td>No</td>\n",
       "      <td>0</td>\n",
       "    </tr>\n",
       "    <tr>\n",
       "      <th>1</th>\n",
       "      <td>No</td>\n",
       "      <td>No</td>\n",
       "      <td>Eczema</td>\n",
       "      <td>Antibiotics</td>\n",
       "      <td>Magnesium deficiency</td>\n",
       "      <td>High</td>\n",
       "      <td>43</td>\n",
       "      <td>No</td>\n",
       "      <td>0</td>\n",
       "    </tr>\n",
       "    <tr>\n",
       "      <th>2</th>\n",
       "      <td>No</td>\n",
       "      <td>No</td>\n",
       "      <td>Dermatosis</td>\n",
       "      <td>Antifungal Cream</td>\n",
       "      <td>Protein deficiency</td>\n",
       "      <td>Moderate</td>\n",
       "      <td>26</td>\n",
       "      <td>Yes</td>\n",
       "      <td>0</td>\n",
       "    </tr>\n",
       "    <tr>\n",
       "      <th>3</th>\n",
       "      <td>Yes</td>\n",
       "      <td>Yes</td>\n",
       "      <td>Ringworm</td>\n",
       "      <td>Antibiotics</td>\n",
       "      <td>Biotin Deficiency</td>\n",
       "      <td>Moderate</td>\n",
       "      <td>46</td>\n",
       "      <td>No</td>\n",
       "      <td>0</td>\n",
       "    </tr>\n",
       "    <tr>\n",
       "      <th>4</th>\n",
       "      <td>No</td>\n",
       "      <td>No</td>\n",
       "      <td>Psoriasis</td>\n",
       "      <td>Accutane</td>\n",
       "      <td>Iron deficiency</td>\n",
       "      <td>Moderate</td>\n",
       "      <td>30</td>\n",
       "      <td>No</td>\n",
       "      <td>1</td>\n",
       "    </tr>\n",
       "    <tr>\n",
       "      <th>...</th>\n",
       "      <td>...</td>\n",
       "      <td>...</td>\n",
       "      <td>...</td>\n",
       "      <td>...</td>\n",
       "      <td>...</td>\n",
       "      <td>...</td>\n",
       "      <td>...</td>\n",
       "      <td>...</td>\n",
       "      <td>...</td>\n",
       "    </tr>\n",
       "    <tr>\n",
       "      <th>994</th>\n",
       "      <td>Yes</td>\n",
       "      <td>No</td>\n",
       "      <td>Seborrheic Dermatitis</td>\n",
       "      <td>Rogaine</td>\n",
       "      <td>Vitamin A Deficiency</td>\n",
       "      <td>Low</td>\n",
       "      <td>33</td>\n",
       "      <td>Yes</td>\n",
       "      <td>1</td>\n",
       "    </tr>\n",
       "    <tr>\n",
       "      <th>995</th>\n",
       "      <td>Yes</td>\n",
       "      <td>Yes</td>\n",
       "      <td>No Data</td>\n",
       "      <td>Accutane</td>\n",
       "      <td>Protein deficiency</td>\n",
       "      <td>Low</td>\n",
       "      <td>47</td>\n",
       "      <td>Yes</td>\n",
       "      <td>0</td>\n",
       "    </tr>\n",
       "    <tr>\n",
       "      <th>996</th>\n",
       "      <td>No</td>\n",
       "      <td>Yes</td>\n",
       "      <td>Androgenetic Alopecia</td>\n",
       "      <td>Antidepressants</td>\n",
       "      <td>Protein deficiency</td>\n",
       "      <td>Moderate</td>\n",
       "      <td>20</td>\n",
       "      <td>Yes</td>\n",
       "      <td>1</td>\n",
       "    </tr>\n",
       "    <tr>\n",
       "      <th>997</th>\n",
       "      <td>No</td>\n",
       "      <td>Yes</td>\n",
       "      <td>Dermatitis</td>\n",
       "      <td>Immunomodulators</td>\n",
       "      <td>Biotin Deficiency</td>\n",
       "      <td>Moderate</td>\n",
       "      <td>32</td>\n",
       "      <td>Yes</td>\n",
       "      <td>1</td>\n",
       "    </tr>\n",
       "    <tr>\n",
       "      <th>998</th>\n",
       "      <td>Yes</td>\n",
       "      <td>Yes</td>\n",
       "      <td>Psoriasis</td>\n",
       "      <td>Blood Pressure Medication</td>\n",
       "      <td>Vitamin D Deficiency</td>\n",
       "      <td>Low</td>\n",
       "      <td>34</td>\n",
       "      <td>No</td>\n",
       "      <td>1</td>\n",
       "    </tr>\n",
       "  </tbody>\n",
       "</table>\n",
       "<p>999 rows × 9 columns</p>\n",
       "</div>"
      ],
      "text/plain": [
       "    Genetics Hormonal Changes     Medical Conditions  \\\n",
       "0        Yes               No                No Data   \n",
       "1         No               No                 Eczema   \n",
       "2         No               No             Dermatosis   \n",
       "3        Yes              Yes               Ringworm   \n",
       "4         No               No              Psoriasis   \n",
       "..       ...              ...                    ...   \n",
       "994      Yes               No  Seborrheic Dermatitis   \n",
       "995      Yes              Yes                No Data   \n",
       "996       No              Yes  Androgenetic Alopecia   \n",
       "997       No              Yes             Dermatitis   \n",
       "998      Yes              Yes              Psoriasis   \n",
       "\n",
       "      Medications & Treatments Nutritional Deficiencies     Stress  Age  \\\n",
       "0                      No Data      Magnesium deficiency  Moderate   19   \n",
       "1                  Antibiotics      Magnesium deficiency      High   43   \n",
       "2             Antifungal Cream        Protein deficiency  Moderate   26   \n",
       "3                  Antibiotics        Biotin Deficiency   Moderate   46   \n",
       "4                     Accutane           Iron deficiency  Moderate   30   \n",
       "..                         ...                       ...       ...  ...   \n",
       "994                    Rogaine      Vitamin A Deficiency       Low   33   \n",
       "995                   Accutane        Protein deficiency       Low   47   \n",
       "996           Antidepressants         Protein deficiency  Moderate   20   \n",
       "997           Immunomodulators        Biotin Deficiency   Moderate   32   \n",
       "998  Blood Pressure Medication      Vitamin D Deficiency       Low   34   \n",
       "\n",
       "    Weight Loss   Hair Loss  \n",
       "0             No          0  \n",
       "1             No          0  \n",
       "2            Yes          0  \n",
       "3             No          0  \n",
       "4             No          1  \n",
       "..           ...        ...  \n",
       "994          Yes          1  \n",
       "995          Yes          0  \n",
       "996          Yes          1  \n",
       "997          Yes          1  \n",
       "998           No          1  \n",
       "\n",
       "[999 rows x 9 columns]"
      ]
     },
     "execution_count": 121,
     "metadata": {},
     "output_type": "execute_result"
    }
   ],
   "source": [
    "df"
   ]
  },
  {
   "cell_type": "markdown",
   "metadata": {},
   "source": [
    "Steap-6 : Data Preprocessing"
   ]
  },
  {
   "cell_type": "code",
   "execution_count": 122,
   "metadata": {},
   "outputs": [],
   "source": [
    "# It is steap in which we have to convert the catgorical coloumns into a numerical coloumns by the help of the \n",
    "# encoder object and class & split the dataset into wo variable \n",
    "# x= Features coloumns ,Independent Variable \n",
    "# y=Target variable ,Dependent Variable"
   ]
  },
  {
   "cell_type": "code",
   "execution_count": 123,
   "metadata": {},
   "outputs": [],
   "source": [
    "# pip install scikit-learn (it provides the sklearn library)\n",
    "\n",
    "from sklearn.preprocessing import OrdinalEncoder,LabelEncoder,OneHotEncoder\n",
    "\n",
    "\n",
    "# sklearn.preprocessing : it modeule \n",
    "# OrdinalEncoder,LabelEncoder,OneHotEncoder : it is class \n",
    "\n",
    "# OrdinalEncoder is a class that is used to encode categorical features as ordinal integers\n",
    "# ordinal_encoder = OrdinalEncoder() OBJECT CREATED OF THIS CLASS \n",
    "\n",
    "# LabelEncoder is another class in sklearn.preprocessing, which is used to encode labels into numeric form. \n",
    "# It is commonly used for target labels (i.e., when the output variable is categorical).\n",
    "# label_encoder = LabelEncoder()  object created\n",
    "\n",
    "# OneHotEncoder is a class used to convert categorical variables into \n",
    "# one-hot encoded form (binary columns for each category).\n",
    "# onehot_encoder = OneHotEncoder()\n",
    "\n",
    "# /* Class: A blueprint for creating objects (e.g., OrdinalEncoder, LabelEncoder, OneHotEncoder). It defines the properties (attributes) and behaviors (methods) that the objects created from it will have.\n",
    "# Object: An instance of a class that holds actual data and can invoke the class's methods. For example, ordinal_encoder, label_encoder, and onehot_encoder are objects created from their respective classes.*/"
   ]
  },
  {
   "cell_type": "code",
   "execution_count": 124,
   "metadata": {},
   "outputs": [],
   "source": [
    "# Ordinal encoding (converting categories to integer labels)\n",
    "# creating the object of the class\n",
    "encoder=OrdinalEncoder()"
   ]
  },
  {
   "cell_type": "code",
   "execution_count": 125,
   "metadata": {},
   "outputs": [
    {
     "data": {
      "application/vnd.microsoft.datawrangler.viewer.v0+json": {
       "columns": [
        {
         "name": "index",
         "rawType": "int64",
         "type": "integer"
        },
        {
         "name": "Genetics",
         "rawType": "object",
         "type": "string"
        },
        {
         "name": "Hormonal Changes",
         "rawType": "object",
         "type": "string"
        },
        {
         "name": "Medical Conditions",
         "rawType": "object",
         "type": "string"
        },
        {
         "name": "Medications & Treatments",
         "rawType": "object",
         "type": "string"
        },
        {
         "name": "Nutritional Deficiencies ",
         "rawType": "object",
         "type": "string"
        },
        {
         "name": "Stress",
         "rawType": "object",
         "type": "string"
        },
        {
         "name": "Age",
         "rawType": "int64",
         "type": "integer"
        },
        {
         "name": "Weight Loss ",
         "rawType": "object",
         "type": "string"
        },
        {
         "name": "Hair Loss",
         "rawType": "int64",
         "type": "integer"
        }
       ],
       "conversionMethod": "pd.DataFrame",
       "ref": "c7015c08-caa2-4da3-ae87-93d12066f38d",
       "rows": [
        [
         "0",
         "Yes",
         "No",
         "No Data",
         "No Data",
         "Magnesium deficiency",
         "Moderate",
         "19",
         "No",
         "0"
        ],
        [
         "1",
         "No",
         "No",
         "Eczema",
         "Antibiotics",
         "Magnesium deficiency",
         "High",
         "43",
         "No",
         "0"
        ],
        [
         "2",
         "No",
         "No",
         "Dermatosis",
         "Antifungal Cream",
         "Protein deficiency",
         "Moderate",
         "26",
         "Yes",
         "0"
        ],
        [
         "3",
         "Yes",
         "Yes",
         "Ringworm",
         "Antibiotics",
         "Biotin Deficiency ",
         "Moderate",
         "46",
         "No",
         "0"
        ],
        [
         "4",
         "No",
         "No",
         "Psoriasis",
         "Accutane",
         "Iron deficiency",
         "Moderate",
         "30",
         "No",
         "1"
        ]
       ],
       "shape": {
        "columns": 9,
        "rows": 5
       }
      },
      "text/html": [
       "<div>\n",
       "<style scoped>\n",
       "    .dataframe tbody tr th:only-of-type {\n",
       "        vertical-align: middle;\n",
       "    }\n",
       "\n",
       "    .dataframe tbody tr th {\n",
       "        vertical-align: top;\n",
       "    }\n",
       "\n",
       "    .dataframe thead th {\n",
       "        text-align: right;\n",
       "    }\n",
       "</style>\n",
       "<table border=\"1\" class=\"dataframe\">\n",
       "  <thead>\n",
       "    <tr style=\"text-align: right;\">\n",
       "      <th></th>\n",
       "      <th>Genetics</th>\n",
       "      <th>Hormonal Changes</th>\n",
       "      <th>Medical Conditions</th>\n",
       "      <th>Medications &amp; Treatments</th>\n",
       "      <th>Nutritional Deficiencies</th>\n",
       "      <th>Stress</th>\n",
       "      <th>Age</th>\n",
       "      <th>Weight Loss</th>\n",
       "      <th>Hair Loss</th>\n",
       "    </tr>\n",
       "  </thead>\n",
       "  <tbody>\n",
       "    <tr>\n",
       "      <th>0</th>\n",
       "      <td>Yes</td>\n",
       "      <td>No</td>\n",
       "      <td>No Data</td>\n",
       "      <td>No Data</td>\n",
       "      <td>Magnesium deficiency</td>\n",
       "      <td>Moderate</td>\n",
       "      <td>19</td>\n",
       "      <td>No</td>\n",
       "      <td>0</td>\n",
       "    </tr>\n",
       "    <tr>\n",
       "      <th>1</th>\n",
       "      <td>No</td>\n",
       "      <td>No</td>\n",
       "      <td>Eczema</td>\n",
       "      <td>Antibiotics</td>\n",
       "      <td>Magnesium deficiency</td>\n",
       "      <td>High</td>\n",
       "      <td>43</td>\n",
       "      <td>No</td>\n",
       "      <td>0</td>\n",
       "    </tr>\n",
       "    <tr>\n",
       "      <th>2</th>\n",
       "      <td>No</td>\n",
       "      <td>No</td>\n",
       "      <td>Dermatosis</td>\n",
       "      <td>Antifungal Cream</td>\n",
       "      <td>Protein deficiency</td>\n",
       "      <td>Moderate</td>\n",
       "      <td>26</td>\n",
       "      <td>Yes</td>\n",
       "      <td>0</td>\n",
       "    </tr>\n",
       "    <tr>\n",
       "      <th>3</th>\n",
       "      <td>Yes</td>\n",
       "      <td>Yes</td>\n",
       "      <td>Ringworm</td>\n",
       "      <td>Antibiotics</td>\n",
       "      <td>Biotin Deficiency</td>\n",
       "      <td>Moderate</td>\n",
       "      <td>46</td>\n",
       "      <td>No</td>\n",
       "      <td>0</td>\n",
       "    </tr>\n",
       "    <tr>\n",
       "      <th>4</th>\n",
       "      <td>No</td>\n",
       "      <td>No</td>\n",
       "      <td>Psoriasis</td>\n",
       "      <td>Accutane</td>\n",
       "      <td>Iron deficiency</td>\n",
       "      <td>Moderate</td>\n",
       "      <td>30</td>\n",
       "      <td>No</td>\n",
       "      <td>1</td>\n",
       "    </tr>\n",
       "  </tbody>\n",
       "</table>\n",
       "</div>"
      ],
      "text/plain": [
       "  Genetics Hormonal Changes Medical Conditions Medications & Treatments  \\\n",
       "0      Yes               No            No Data                  No Data   \n",
       "1       No               No             Eczema              Antibiotics   \n",
       "2       No               No         Dermatosis         Antifungal Cream   \n",
       "3      Yes              Yes           Ringworm              Antibiotics   \n",
       "4       No               No          Psoriasis                 Accutane   \n",
       "\n",
       "  Nutritional Deficiencies     Stress  Age Weight Loss   Hair Loss  \n",
       "0      Magnesium deficiency  Moderate   19           No          0  \n",
       "1      Magnesium deficiency      High   43           No          0  \n",
       "2        Protein deficiency  Moderate   26          Yes          0  \n",
       "3        Biotin Deficiency   Moderate   46           No          0  \n",
       "4           Iron deficiency  Moderate   30           No          1  "
      ]
     },
     "execution_count": 125,
     "metadata": {},
     "output_type": "execute_result"
    }
   ],
   "source": [
    "df.head()"
   ]
  },
  {
   "cell_type": "code",
   "execution_count": 126,
   "metadata": {},
   "outputs": [
    {
     "data": {
      "application/vnd.microsoft.datawrangler.viewer.v0+json": {
       "columns": [
        {
         "name": "index",
         "rawType": "int64",
         "type": "integer"
        },
        {
         "name": "Genetics",
         "rawType": "object",
         "type": "string"
        },
        {
         "name": "Hormonal Changes",
         "rawType": "object",
         "type": "string"
        },
        {
         "name": "Medical Conditions",
         "rawType": "object",
         "type": "string"
        },
        {
         "name": "Medications & Treatments",
         "rawType": "object",
         "type": "string"
        },
        {
         "name": "Nutritional Deficiencies ",
         "rawType": "object",
         "type": "string"
        },
        {
         "name": "Stress",
         "rawType": "object",
         "type": "string"
        },
        {
         "name": "Weight Loss ",
         "rawType": "object",
         "type": "string"
        }
       ],
       "conversionMethod": "pd.DataFrame",
       "ref": "45d63de0-1a88-4a5e-aa26-55772d29058e",
       "rows": [
        [
         "0",
         "Yes",
         "No",
         "No Data",
         "No Data",
         "Magnesium deficiency",
         "Moderate",
         "No"
        ],
        [
         "1",
         "No",
         "No",
         "Eczema",
         "Antibiotics",
         "Magnesium deficiency",
         "High",
         "No"
        ],
        [
         "2",
         "No",
         "No",
         "Dermatosis",
         "Antifungal Cream",
         "Protein deficiency",
         "Moderate",
         "Yes"
        ],
        [
         "3",
         "Yes",
         "Yes",
         "Ringworm",
         "Antibiotics",
         "Biotin Deficiency ",
         "Moderate",
         "No"
        ],
        [
         "4",
         "No",
         "No",
         "Psoriasis",
         "Accutane",
         "Iron deficiency",
         "Moderate",
         "No"
        ],
        [
         "5",
         "Yes",
         "No",
         "Psoriasis",
         "Antibiotics",
         "Magnesium deficiency",
         "Low",
         "Yes"
        ],
        [
         "6",
         "Yes",
         "Yes",
         "No Data",
         "No Data",
         "Selenium deficiency",
         "High",
         "No"
        ],
        [
         "7",
         "Yes",
         "No",
         "Dermatosis",
         "Chemotherapy",
         "Omega-3 fatty acids",
         "High",
         "No"
        ],
        [
         "8",
         "Yes",
         "No",
         "Eczema",
         "Steroids",
         "Selenium deficiency",
         "Moderate",
         "Yes"
        ],
        [
         "9",
         "No",
         "Yes",
         "Ringworm",
         "Rogaine",
         "Magnesium deficiency",
         "Moderate",
         "No"
        ],
        [
         "10",
         "Yes",
         "Yes",
         "Eczema",
         "Blood Pressure Medication",
         "Biotin Deficiency ",
         "High",
         "No"
        ],
        [
         "11",
         "No",
         "Yes",
         "Alopecia Areata ",
         "Accutane",
         "Zinc Deficiency",
         "High",
         "No"
        ],
        [
         "12",
         "Yes",
         "Yes",
         "Scalp Infection",
         "Immunomodulators",
         "Biotin Deficiency ",
         "Moderate",
         "No"
        ],
        [
         "13",
         "No",
         "No",
         "Psoriasis",
         "Antibiotics",
         "Vitamin A Deficiency",
         "High",
         "Yes"
        ],
        [
         "14",
         "Yes",
         "No",
         "Eczema",
         "Antibiotics",
         "Biotin Deficiency ",
         "High",
         "Yes"
        ],
        [
         "15",
         "Yes",
         "Yes",
         "Scalp Infection",
         "Rogaine",
         "Vitamin D Deficiency",
         "Moderate",
         "Yes"
        ],
        [
         "16",
         "Yes",
         "No",
         "Seborrheic Dermatitis",
         "Antidepressants ",
         "Vitamin D Deficiency",
         "High",
         "Yes"
        ],
        [
         "17",
         "No",
         "Yes",
         "Dermatosis",
         "Antibiotics",
         "Zinc Deficiency",
         "Low",
         "Yes"
        ],
        [
         "18",
         "Yes",
         "Yes",
         "Dermatosis",
         "Accutane",
         "Biotin Deficiency ",
         "Low",
         "No"
        ],
        [
         "19",
         "Yes",
         "Yes",
         "Seborrheic Dermatitis",
         "Chemotherapy",
         "Vitamin A Deficiency",
         "High",
         "Yes"
        ],
        [
         "20",
         "Yes",
         "Yes",
         "Seborrheic Dermatitis",
         "Accutane",
         "Protein deficiency",
         "High",
         "Yes"
        ],
        [
         "21",
         "No",
         "No",
         "No Data",
         "Chemotherapy",
         "Zinc Deficiency",
         "High",
         "Yes"
        ],
        [
         "22",
         "Yes",
         "Yes",
         "Psoriasis",
         "Antibiotics",
         "Vitamin D Deficiency",
         "Low",
         "Yes"
        ],
        [
         "23",
         "No",
         "Yes",
         "Scalp Infection",
         "Antidepressants ",
         "Vitamin D Deficiency",
         "High",
         "No"
        ],
        [
         "24",
         "No",
         "Yes",
         "Dermatitis",
         "Antibiotics",
         "Protein deficiency",
         "High",
         "No"
        ],
        [
         "25",
         "Yes",
         "Yes",
         "Dermatosis",
         "Heart Medication ",
         "Vitamin A Deficiency",
         "Moderate",
         "No"
        ],
        [
         "26",
         "No",
         "Yes",
         "Dermatosis",
         "Immunomodulators",
         "Selenium deficiency",
         "High",
         "No"
        ],
        [
         "27",
         "No",
         "Yes",
         "Seborrheic Dermatitis",
         "Antifungal Cream",
         "Zinc Deficiency",
         "Low",
         "No"
        ],
        [
         "28",
         "No",
         "Yes",
         "Thyroid Problems",
         "Chemotherapy",
         "Omega-3 fatty acids",
         "Low",
         "No"
        ],
        [
         "29",
         "No",
         "Yes",
         "Dermatitis",
         "Chemotherapy",
         "No Data",
         "Low",
         "No"
        ],
        [
         "30",
         "No",
         "No",
         "Dermatosis",
         "Chemotherapy",
         "No Data",
         "High",
         "No"
        ],
        [
         "31",
         "No",
         "Yes",
         "Dermatitis",
         "Antibiotics",
         "Iron deficiency",
         "Moderate",
         "Yes"
        ],
        [
         "32",
         "Yes",
         "No",
         "Dermatitis",
         "Steroids",
         "Protein deficiency",
         "Moderate",
         "No"
        ],
        [
         "33",
         "Yes",
         "No",
         "Ringworm",
         "Steroids",
         "Selenium deficiency",
         "High",
         "Yes"
        ],
        [
         "34",
         "No",
         "Yes",
         "Scalp Infection",
         "Antidepressants ",
         "Vitamin D Deficiency",
         "Moderate",
         "Yes"
        ],
        [
         "35",
         "Yes",
         "Yes",
         "Dermatitis",
         "Chemotherapy",
         "Zinc Deficiency",
         "Low",
         "Yes"
        ],
        [
         "36",
         "No",
         "Yes",
         "Alopecia Areata ",
         "Antibiotics",
         "Biotin Deficiency ",
         "Low",
         "Yes"
        ],
        [
         "37",
         "No",
         "No",
         "Eczema",
         "Heart Medication ",
         "No Data",
         "Low",
         "Yes"
        ],
        [
         "38",
         "No",
         "Yes",
         "Scalp Infection",
         "Chemotherapy",
         "Zinc Deficiency",
         "Low",
         "No"
        ],
        [
         "39",
         "Yes",
         "Yes",
         "Seborrheic Dermatitis",
         "Steroids",
         "Omega-3 fatty acids",
         "Moderate",
         "No"
        ],
        [
         "40",
         "No",
         "No",
         "No Data",
         "Chemotherapy",
         "Vitamin E deficiency",
         "High",
         "No"
        ],
        [
         "41",
         "Yes",
         "Yes",
         "Dermatosis",
         "Immunomodulators",
         "Magnesium deficiency",
         "High",
         "Yes"
        ],
        [
         "42",
         "Yes",
         "No",
         "Alopecia Areata ",
         "Accutane",
         "Selenium deficiency",
         "High",
         "No"
        ],
        [
         "43",
         "No",
         "No",
         "Dermatosis",
         "Blood Pressure Medication",
         "Magnesium deficiency",
         "Low",
         "Yes"
        ],
        [
         "44",
         "Yes",
         "Yes",
         "Thyroid Problems",
         "Rogaine",
         "Vitamin E deficiency",
         "Low",
         "No"
        ],
        [
         "45",
         "No",
         "No",
         "Androgenetic Alopecia",
         "Accutane",
         "Iron deficiency",
         "Moderate",
         "Yes"
        ],
        [
         "46",
         "No",
         "Yes",
         "Androgenetic Alopecia",
         "Steroids",
         "Vitamin A Deficiency",
         "Moderate",
         "No"
        ],
        [
         "47",
         "No",
         "No",
         "No Data",
         "Steroids",
         "Zinc Deficiency",
         "High",
         "No"
        ],
        [
         "48",
         "Yes",
         "No",
         "No Data",
         "Blood Pressure Medication",
         "Iron deficiency",
         "High",
         "Yes"
        ],
        [
         "49",
         "No",
         "No",
         "Scalp Infection",
         "Immunomodulators",
         "Vitamin A Deficiency",
         "Moderate",
         "Yes"
        ]
       ],
       "shape": {
        "columns": 7,
        "rows": 999
       }
      },
      "text/html": [
       "<div>\n",
       "<style scoped>\n",
       "    .dataframe tbody tr th:only-of-type {\n",
       "        vertical-align: middle;\n",
       "    }\n",
       "\n",
       "    .dataframe tbody tr th {\n",
       "        vertical-align: top;\n",
       "    }\n",
       "\n",
       "    .dataframe thead th {\n",
       "        text-align: right;\n",
       "    }\n",
       "</style>\n",
       "<table border=\"1\" class=\"dataframe\">\n",
       "  <thead>\n",
       "    <tr style=\"text-align: right;\">\n",
       "      <th></th>\n",
       "      <th>Genetics</th>\n",
       "      <th>Hormonal Changes</th>\n",
       "      <th>Medical Conditions</th>\n",
       "      <th>Medications &amp; Treatments</th>\n",
       "      <th>Nutritional Deficiencies</th>\n",
       "      <th>Stress</th>\n",
       "      <th>Weight Loss</th>\n",
       "    </tr>\n",
       "  </thead>\n",
       "  <tbody>\n",
       "    <tr>\n",
       "      <th>0</th>\n",
       "      <td>Yes</td>\n",
       "      <td>No</td>\n",
       "      <td>No Data</td>\n",
       "      <td>No Data</td>\n",
       "      <td>Magnesium deficiency</td>\n",
       "      <td>Moderate</td>\n",
       "      <td>No</td>\n",
       "    </tr>\n",
       "    <tr>\n",
       "      <th>1</th>\n",
       "      <td>No</td>\n",
       "      <td>No</td>\n",
       "      <td>Eczema</td>\n",
       "      <td>Antibiotics</td>\n",
       "      <td>Magnesium deficiency</td>\n",
       "      <td>High</td>\n",
       "      <td>No</td>\n",
       "    </tr>\n",
       "    <tr>\n",
       "      <th>2</th>\n",
       "      <td>No</td>\n",
       "      <td>No</td>\n",
       "      <td>Dermatosis</td>\n",
       "      <td>Antifungal Cream</td>\n",
       "      <td>Protein deficiency</td>\n",
       "      <td>Moderate</td>\n",
       "      <td>Yes</td>\n",
       "    </tr>\n",
       "    <tr>\n",
       "      <th>3</th>\n",
       "      <td>Yes</td>\n",
       "      <td>Yes</td>\n",
       "      <td>Ringworm</td>\n",
       "      <td>Antibiotics</td>\n",
       "      <td>Biotin Deficiency</td>\n",
       "      <td>Moderate</td>\n",
       "      <td>No</td>\n",
       "    </tr>\n",
       "    <tr>\n",
       "      <th>4</th>\n",
       "      <td>No</td>\n",
       "      <td>No</td>\n",
       "      <td>Psoriasis</td>\n",
       "      <td>Accutane</td>\n",
       "      <td>Iron deficiency</td>\n",
       "      <td>Moderate</td>\n",
       "      <td>No</td>\n",
       "    </tr>\n",
       "    <tr>\n",
       "      <th>...</th>\n",
       "      <td>...</td>\n",
       "      <td>...</td>\n",
       "      <td>...</td>\n",
       "      <td>...</td>\n",
       "      <td>...</td>\n",
       "      <td>...</td>\n",
       "      <td>...</td>\n",
       "    </tr>\n",
       "    <tr>\n",
       "      <th>994</th>\n",
       "      <td>Yes</td>\n",
       "      <td>No</td>\n",
       "      <td>Seborrheic Dermatitis</td>\n",
       "      <td>Rogaine</td>\n",
       "      <td>Vitamin A Deficiency</td>\n",
       "      <td>Low</td>\n",
       "      <td>Yes</td>\n",
       "    </tr>\n",
       "    <tr>\n",
       "      <th>995</th>\n",
       "      <td>Yes</td>\n",
       "      <td>Yes</td>\n",
       "      <td>No Data</td>\n",
       "      <td>Accutane</td>\n",
       "      <td>Protein deficiency</td>\n",
       "      <td>Low</td>\n",
       "      <td>Yes</td>\n",
       "    </tr>\n",
       "    <tr>\n",
       "      <th>996</th>\n",
       "      <td>No</td>\n",
       "      <td>Yes</td>\n",
       "      <td>Androgenetic Alopecia</td>\n",
       "      <td>Antidepressants</td>\n",
       "      <td>Protein deficiency</td>\n",
       "      <td>Moderate</td>\n",
       "      <td>Yes</td>\n",
       "    </tr>\n",
       "    <tr>\n",
       "      <th>997</th>\n",
       "      <td>No</td>\n",
       "      <td>Yes</td>\n",
       "      <td>Dermatitis</td>\n",
       "      <td>Immunomodulators</td>\n",
       "      <td>Biotin Deficiency</td>\n",
       "      <td>Moderate</td>\n",
       "      <td>Yes</td>\n",
       "    </tr>\n",
       "    <tr>\n",
       "      <th>998</th>\n",
       "      <td>Yes</td>\n",
       "      <td>Yes</td>\n",
       "      <td>Psoriasis</td>\n",
       "      <td>Blood Pressure Medication</td>\n",
       "      <td>Vitamin D Deficiency</td>\n",
       "      <td>Low</td>\n",
       "      <td>No</td>\n",
       "    </tr>\n",
       "  </tbody>\n",
       "</table>\n",
       "<p>999 rows × 7 columns</p>\n",
       "</div>"
      ],
      "text/plain": [
       "    Genetics Hormonal Changes     Medical Conditions  \\\n",
       "0        Yes               No                No Data   \n",
       "1         No               No                 Eczema   \n",
       "2         No               No             Dermatosis   \n",
       "3        Yes              Yes               Ringworm   \n",
       "4         No               No              Psoriasis   \n",
       "..       ...              ...                    ...   \n",
       "994      Yes               No  Seborrheic Dermatitis   \n",
       "995      Yes              Yes                No Data   \n",
       "996       No              Yes  Androgenetic Alopecia   \n",
       "997       No              Yes             Dermatitis   \n",
       "998      Yes              Yes              Psoriasis   \n",
       "\n",
       "      Medications & Treatments Nutritional Deficiencies     Stress  \\\n",
       "0                      No Data      Magnesium deficiency  Moderate   \n",
       "1                  Antibiotics      Magnesium deficiency      High   \n",
       "2             Antifungal Cream        Protein deficiency  Moderate   \n",
       "3                  Antibiotics        Biotin Deficiency   Moderate   \n",
       "4                     Accutane           Iron deficiency  Moderate   \n",
       "..                         ...                       ...       ...   \n",
       "994                    Rogaine      Vitamin A Deficiency       Low   \n",
       "995                   Accutane        Protein deficiency       Low   \n",
       "996           Antidepressants         Protein deficiency  Moderate   \n",
       "997           Immunomodulators        Biotin Deficiency   Moderate   \n",
       "998  Blood Pressure Medication      Vitamin D Deficiency       Low   \n",
       "\n",
       "    Weight Loss   \n",
       "0             No  \n",
       "1             No  \n",
       "2            Yes  \n",
       "3             No  \n",
       "4             No  \n",
       "..           ...  \n",
       "994          Yes  \n",
       "995          Yes  \n",
       "996          Yes  \n",
       "997          Yes  \n",
       "998           No  \n",
       "\n",
       "[999 rows x 7 columns]"
      ]
     },
     "execution_count": 126,
     "metadata": {},
     "output_type": "execute_result"
    }
   ],
   "source": [
    "df.select_dtypes(include=\"O\")"
   ]
  },
  {
   "cell_type": "code",
   "execution_count": 127,
   "metadata": {},
   "outputs": [],
   "source": [
    "catgorical_data=df.select_dtypes(include=\"O\")"
   ]
  },
  {
   "cell_type": "code",
   "execution_count": 128,
   "metadata": {},
   "outputs": [
    {
     "name": "stdout",
     "output_type": "stream",
     "text": [
      "<class 'pandas.core.frame.DataFrame'>\n",
      "RangeIndex: 999 entries, 0 to 998\n",
      "Data columns (total 7 columns):\n",
      " #   Column                     Non-Null Count  Dtype \n",
      "---  ------                     --------------  ----- \n",
      " 0   Genetics                   999 non-null    object\n",
      " 1   Hormonal Changes           999 non-null    object\n",
      " 2   Medical Conditions         999 non-null    object\n",
      " 3   Medications & Treatments   999 non-null    object\n",
      " 4   Nutritional Deficiencies   999 non-null    object\n",
      " 5   Stress                     999 non-null    object\n",
      " 6   Weight Loss                999 non-null    object\n",
      "dtypes: object(7)\n",
      "memory usage: 54.8+ KB\n"
     ]
    }
   ],
   "source": [
    "catgorical_data.info()"
   ]
  },
  {
   "cell_type": "code",
   "execution_count": 129,
   "metadata": {},
   "outputs": [
    {
     "data": {
      "text/html": [
       "<style>#sk-container-id-4 {\n",
       "  /* Definition of color scheme common for light and dark mode */\n",
       "  --sklearn-color-text: #000;\n",
       "  --sklearn-color-text-muted: #666;\n",
       "  --sklearn-color-line: gray;\n",
       "  /* Definition of color scheme for unfitted estimators */\n",
       "  --sklearn-color-unfitted-level-0: #fff5e6;\n",
       "  --sklearn-color-unfitted-level-1: #f6e4d2;\n",
       "  --sklearn-color-unfitted-level-2: #ffe0b3;\n",
       "  --sklearn-color-unfitted-level-3: chocolate;\n",
       "  /* Definition of color scheme for fitted estimators */\n",
       "  --sklearn-color-fitted-level-0: #f0f8ff;\n",
       "  --sklearn-color-fitted-level-1: #d4ebff;\n",
       "  --sklearn-color-fitted-level-2: #b3dbfd;\n",
       "  --sklearn-color-fitted-level-3: cornflowerblue;\n",
       "\n",
       "  /* Specific color for light theme */\n",
       "  --sklearn-color-text-on-default-background: var(--sg-text-color, var(--theme-code-foreground, var(--jp-content-font-color1, black)));\n",
       "  --sklearn-color-background: var(--sg-background-color, var(--theme-background, var(--jp-layout-color0, white)));\n",
       "  --sklearn-color-border-box: var(--sg-text-color, var(--theme-code-foreground, var(--jp-content-font-color1, black)));\n",
       "  --sklearn-color-icon: #696969;\n",
       "\n",
       "  @media (prefers-color-scheme: dark) {\n",
       "    /* Redefinition of color scheme for dark theme */\n",
       "    --sklearn-color-text-on-default-background: var(--sg-text-color, var(--theme-code-foreground, var(--jp-content-font-color1, white)));\n",
       "    --sklearn-color-background: var(--sg-background-color, var(--theme-background, var(--jp-layout-color0, #111)));\n",
       "    --sklearn-color-border-box: var(--sg-text-color, var(--theme-code-foreground, var(--jp-content-font-color1, white)));\n",
       "    --sklearn-color-icon: #878787;\n",
       "  }\n",
       "}\n",
       "\n",
       "#sk-container-id-4 {\n",
       "  color: var(--sklearn-color-text);\n",
       "}\n",
       "\n",
       "#sk-container-id-4 pre {\n",
       "  padding: 0;\n",
       "}\n",
       "\n",
       "#sk-container-id-4 input.sk-hidden--visually {\n",
       "  border: 0;\n",
       "  clip: rect(1px 1px 1px 1px);\n",
       "  clip: rect(1px, 1px, 1px, 1px);\n",
       "  height: 1px;\n",
       "  margin: -1px;\n",
       "  overflow: hidden;\n",
       "  padding: 0;\n",
       "  position: absolute;\n",
       "  width: 1px;\n",
       "}\n",
       "\n",
       "#sk-container-id-4 div.sk-dashed-wrapped {\n",
       "  border: 1px dashed var(--sklearn-color-line);\n",
       "  margin: 0 0.4em 0.5em 0.4em;\n",
       "  box-sizing: border-box;\n",
       "  padding-bottom: 0.4em;\n",
       "  background-color: var(--sklearn-color-background);\n",
       "}\n",
       "\n",
       "#sk-container-id-4 div.sk-container {\n",
       "  /* jupyter's `normalize.less` sets `[hidden] { display: none; }`\n",
       "     but bootstrap.min.css set `[hidden] { display: none !important; }`\n",
       "     so we also need the `!important` here to be able to override the\n",
       "     default hidden behavior on the sphinx rendered scikit-learn.org.\n",
       "     See: https://github.com/scikit-learn/scikit-learn/issues/21755 */\n",
       "  display: inline-block !important;\n",
       "  position: relative;\n",
       "}\n",
       "\n",
       "#sk-container-id-4 div.sk-text-repr-fallback {\n",
       "  display: none;\n",
       "}\n",
       "\n",
       "div.sk-parallel-item,\n",
       "div.sk-serial,\n",
       "div.sk-item {\n",
       "  /* draw centered vertical line to link estimators */\n",
       "  background-image: linear-gradient(var(--sklearn-color-text-on-default-background), var(--sklearn-color-text-on-default-background));\n",
       "  background-size: 2px 100%;\n",
       "  background-repeat: no-repeat;\n",
       "  background-position: center center;\n",
       "}\n",
       "\n",
       "/* Parallel-specific style estimator block */\n",
       "\n",
       "#sk-container-id-4 div.sk-parallel-item::after {\n",
       "  content: \"\";\n",
       "  width: 100%;\n",
       "  border-bottom: 2px solid var(--sklearn-color-text-on-default-background);\n",
       "  flex-grow: 1;\n",
       "}\n",
       "\n",
       "#sk-container-id-4 div.sk-parallel {\n",
       "  display: flex;\n",
       "  align-items: stretch;\n",
       "  justify-content: center;\n",
       "  background-color: var(--sklearn-color-background);\n",
       "  position: relative;\n",
       "}\n",
       "\n",
       "#sk-container-id-4 div.sk-parallel-item {\n",
       "  display: flex;\n",
       "  flex-direction: column;\n",
       "}\n",
       "\n",
       "#sk-container-id-4 div.sk-parallel-item:first-child::after {\n",
       "  align-self: flex-end;\n",
       "  width: 50%;\n",
       "}\n",
       "\n",
       "#sk-container-id-4 div.sk-parallel-item:last-child::after {\n",
       "  align-self: flex-start;\n",
       "  width: 50%;\n",
       "}\n",
       "\n",
       "#sk-container-id-4 div.sk-parallel-item:only-child::after {\n",
       "  width: 0;\n",
       "}\n",
       "\n",
       "/* Serial-specific style estimator block */\n",
       "\n",
       "#sk-container-id-4 div.sk-serial {\n",
       "  display: flex;\n",
       "  flex-direction: column;\n",
       "  align-items: center;\n",
       "  background-color: var(--sklearn-color-background);\n",
       "  padding-right: 1em;\n",
       "  padding-left: 1em;\n",
       "}\n",
       "\n",
       "\n",
       "/* Toggleable style: style used for estimator/Pipeline/ColumnTransformer box that is\n",
       "clickable and can be expanded/collapsed.\n",
       "- Pipeline and ColumnTransformer use this feature and define the default style\n",
       "- Estimators will overwrite some part of the style using the `sk-estimator` class\n",
       "*/\n",
       "\n",
       "/* Pipeline and ColumnTransformer style (default) */\n",
       "\n",
       "#sk-container-id-4 div.sk-toggleable {\n",
       "  /* Default theme specific background. It is overwritten whether we have a\n",
       "  specific estimator or a Pipeline/ColumnTransformer */\n",
       "  background-color: var(--sklearn-color-background);\n",
       "}\n",
       "\n",
       "/* Toggleable label */\n",
       "#sk-container-id-4 label.sk-toggleable__label {\n",
       "  cursor: pointer;\n",
       "  display: flex;\n",
       "  width: 100%;\n",
       "  margin-bottom: 0;\n",
       "  padding: 0.5em;\n",
       "  box-sizing: border-box;\n",
       "  text-align: center;\n",
       "  align-items: start;\n",
       "  justify-content: space-between;\n",
       "  gap: 0.5em;\n",
       "}\n",
       "\n",
       "#sk-container-id-4 label.sk-toggleable__label .caption {\n",
       "  font-size: 0.6rem;\n",
       "  font-weight: lighter;\n",
       "  color: var(--sklearn-color-text-muted);\n",
       "}\n",
       "\n",
       "#sk-container-id-4 label.sk-toggleable__label-arrow:before {\n",
       "  /* Arrow on the left of the label */\n",
       "  content: \"▸\";\n",
       "  float: left;\n",
       "  margin-right: 0.25em;\n",
       "  color: var(--sklearn-color-icon);\n",
       "}\n",
       "\n",
       "#sk-container-id-4 label.sk-toggleable__label-arrow:hover:before {\n",
       "  color: var(--sklearn-color-text);\n",
       "}\n",
       "\n",
       "/* Toggleable content - dropdown */\n",
       "\n",
       "#sk-container-id-4 div.sk-toggleable__content {\n",
       "  max-height: 0;\n",
       "  max-width: 0;\n",
       "  overflow: hidden;\n",
       "  text-align: left;\n",
       "  /* unfitted */\n",
       "  background-color: var(--sklearn-color-unfitted-level-0);\n",
       "}\n",
       "\n",
       "#sk-container-id-4 div.sk-toggleable__content.fitted {\n",
       "  /* fitted */\n",
       "  background-color: var(--sklearn-color-fitted-level-0);\n",
       "}\n",
       "\n",
       "#sk-container-id-4 div.sk-toggleable__content pre {\n",
       "  margin: 0.2em;\n",
       "  border-radius: 0.25em;\n",
       "  color: var(--sklearn-color-text);\n",
       "  /* unfitted */\n",
       "  background-color: var(--sklearn-color-unfitted-level-0);\n",
       "}\n",
       "\n",
       "#sk-container-id-4 div.sk-toggleable__content.fitted pre {\n",
       "  /* unfitted */\n",
       "  background-color: var(--sklearn-color-fitted-level-0);\n",
       "}\n",
       "\n",
       "#sk-container-id-4 input.sk-toggleable__control:checked~div.sk-toggleable__content {\n",
       "  /* Expand drop-down */\n",
       "  max-height: 200px;\n",
       "  max-width: 100%;\n",
       "  overflow: auto;\n",
       "}\n",
       "\n",
       "#sk-container-id-4 input.sk-toggleable__control:checked~label.sk-toggleable__label-arrow:before {\n",
       "  content: \"▾\";\n",
       "}\n",
       "\n",
       "/* Pipeline/ColumnTransformer-specific style */\n",
       "\n",
       "#sk-container-id-4 div.sk-label input.sk-toggleable__control:checked~label.sk-toggleable__label {\n",
       "  color: var(--sklearn-color-text);\n",
       "  background-color: var(--sklearn-color-unfitted-level-2);\n",
       "}\n",
       "\n",
       "#sk-container-id-4 div.sk-label.fitted input.sk-toggleable__control:checked~label.sk-toggleable__label {\n",
       "  background-color: var(--sklearn-color-fitted-level-2);\n",
       "}\n",
       "\n",
       "/* Estimator-specific style */\n",
       "\n",
       "/* Colorize estimator box */\n",
       "#sk-container-id-4 div.sk-estimator input.sk-toggleable__control:checked~label.sk-toggleable__label {\n",
       "  /* unfitted */\n",
       "  background-color: var(--sklearn-color-unfitted-level-2);\n",
       "}\n",
       "\n",
       "#sk-container-id-4 div.sk-estimator.fitted input.sk-toggleable__control:checked~label.sk-toggleable__label {\n",
       "  /* fitted */\n",
       "  background-color: var(--sklearn-color-fitted-level-2);\n",
       "}\n",
       "\n",
       "#sk-container-id-4 div.sk-label label.sk-toggleable__label,\n",
       "#sk-container-id-4 div.sk-label label {\n",
       "  /* The background is the default theme color */\n",
       "  color: var(--sklearn-color-text-on-default-background);\n",
       "}\n",
       "\n",
       "/* On hover, darken the color of the background */\n",
       "#sk-container-id-4 div.sk-label:hover label.sk-toggleable__label {\n",
       "  color: var(--sklearn-color-text);\n",
       "  background-color: var(--sklearn-color-unfitted-level-2);\n",
       "}\n",
       "\n",
       "/* Label box, darken color on hover, fitted */\n",
       "#sk-container-id-4 div.sk-label.fitted:hover label.sk-toggleable__label.fitted {\n",
       "  color: var(--sklearn-color-text);\n",
       "  background-color: var(--sklearn-color-fitted-level-2);\n",
       "}\n",
       "\n",
       "/* Estimator label */\n",
       "\n",
       "#sk-container-id-4 div.sk-label label {\n",
       "  font-family: monospace;\n",
       "  font-weight: bold;\n",
       "  display: inline-block;\n",
       "  line-height: 1.2em;\n",
       "}\n",
       "\n",
       "#sk-container-id-4 div.sk-label-container {\n",
       "  text-align: center;\n",
       "}\n",
       "\n",
       "/* Estimator-specific */\n",
       "#sk-container-id-4 div.sk-estimator {\n",
       "  font-family: monospace;\n",
       "  border: 1px dotted var(--sklearn-color-border-box);\n",
       "  border-radius: 0.25em;\n",
       "  box-sizing: border-box;\n",
       "  margin-bottom: 0.5em;\n",
       "  /* unfitted */\n",
       "  background-color: var(--sklearn-color-unfitted-level-0);\n",
       "}\n",
       "\n",
       "#sk-container-id-4 div.sk-estimator.fitted {\n",
       "  /* fitted */\n",
       "  background-color: var(--sklearn-color-fitted-level-0);\n",
       "}\n",
       "\n",
       "/* on hover */\n",
       "#sk-container-id-4 div.sk-estimator:hover {\n",
       "  /* unfitted */\n",
       "  background-color: var(--sklearn-color-unfitted-level-2);\n",
       "}\n",
       "\n",
       "#sk-container-id-4 div.sk-estimator.fitted:hover {\n",
       "  /* fitted */\n",
       "  background-color: var(--sklearn-color-fitted-level-2);\n",
       "}\n",
       "\n",
       "/* Specification for estimator info (e.g. \"i\" and \"?\") */\n",
       "\n",
       "/* Common style for \"i\" and \"?\" */\n",
       "\n",
       ".sk-estimator-doc-link,\n",
       "a:link.sk-estimator-doc-link,\n",
       "a:visited.sk-estimator-doc-link {\n",
       "  float: right;\n",
       "  font-size: smaller;\n",
       "  line-height: 1em;\n",
       "  font-family: monospace;\n",
       "  background-color: var(--sklearn-color-background);\n",
       "  border-radius: 1em;\n",
       "  height: 1em;\n",
       "  width: 1em;\n",
       "  text-decoration: none !important;\n",
       "  margin-left: 0.5em;\n",
       "  text-align: center;\n",
       "  /* unfitted */\n",
       "  border: var(--sklearn-color-unfitted-level-1) 1pt solid;\n",
       "  color: var(--sklearn-color-unfitted-level-1);\n",
       "}\n",
       "\n",
       ".sk-estimator-doc-link.fitted,\n",
       "a:link.sk-estimator-doc-link.fitted,\n",
       "a:visited.sk-estimator-doc-link.fitted {\n",
       "  /* fitted */\n",
       "  border: var(--sklearn-color-fitted-level-1) 1pt solid;\n",
       "  color: var(--sklearn-color-fitted-level-1);\n",
       "}\n",
       "\n",
       "/* On hover */\n",
       "div.sk-estimator:hover .sk-estimator-doc-link:hover,\n",
       ".sk-estimator-doc-link:hover,\n",
       "div.sk-label-container:hover .sk-estimator-doc-link:hover,\n",
       ".sk-estimator-doc-link:hover {\n",
       "  /* unfitted */\n",
       "  background-color: var(--sklearn-color-unfitted-level-3);\n",
       "  color: var(--sklearn-color-background);\n",
       "  text-decoration: none;\n",
       "}\n",
       "\n",
       "div.sk-estimator.fitted:hover .sk-estimator-doc-link.fitted:hover,\n",
       ".sk-estimator-doc-link.fitted:hover,\n",
       "div.sk-label-container:hover .sk-estimator-doc-link.fitted:hover,\n",
       ".sk-estimator-doc-link.fitted:hover {\n",
       "  /* fitted */\n",
       "  background-color: var(--sklearn-color-fitted-level-3);\n",
       "  color: var(--sklearn-color-background);\n",
       "  text-decoration: none;\n",
       "}\n",
       "\n",
       "/* Span, style for the box shown on hovering the info icon */\n",
       ".sk-estimator-doc-link span {\n",
       "  display: none;\n",
       "  z-index: 9999;\n",
       "  position: relative;\n",
       "  font-weight: normal;\n",
       "  right: .2ex;\n",
       "  padding: .5ex;\n",
       "  margin: .5ex;\n",
       "  width: min-content;\n",
       "  min-width: 20ex;\n",
       "  max-width: 50ex;\n",
       "  color: var(--sklearn-color-text);\n",
       "  box-shadow: 2pt 2pt 4pt #999;\n",
       "  /* unfitted */\n",
       "  background: var(--sklearn-color-unfitted-level-0);\n",
       "  border: .5pt solid var(--sklearn-color-unfitted-level-3);\n",
       "}\n",
       "\n",
       ".sk-estimator-doc-link.fitted span {\n",
       "  /* fitted */\n",
       "  background: var(--sklearn-color-fitted-level-0);\n",
       "  border: var(--sklearn-color-fitted-level-3);\n",
       "}\n",
       "\n",
       ".sk-estimator-doc-link:hover span {\n",
       "  display: block;\n",
       "}\n",
       "\n",
       "/* \"?\"-specific style due to the `<a>` HTML tag */\n",
       "\n",
       "#sk-container-id-4 a.estimator_doc_link {\n",
       "  float: right;\n",
       "  font-size: 1rem;\n",
       "  line-height: 1em;\n",
       "  font-family: monospace;\n",
       "  background-color: var(--sklearn-color-background);\n",
       "  border-radius: 1rem;\n",
       "  height: 1rem;\n",
       "  width: 1rem;\n",
       "  text-decoration: none;\n",
       "  /* unfitted */\n",
       "  color: var(--sklearn-color-unfitted-level-1);\n",
       "  border: var(--sklearn-color-unfitted-level-1) 1pt solid;\n",
       "}\n",
       "\n",
       "#sk-container-id-4 a.estimator_doc_link.fitted {\n",
       "  /* fitted */\n",
       "  border: var(--sklearn-color-fitted-level-1) 1pt solid;\n",
       "  color: var(--sklearn-color-fitted-level-1);\n",
       "}\n",
       "\n",
       "/* On hover */\n",
       "#sk-container-id-4 a.estimator_doc_link:hover {\n",
       "  /* unfitted */\n",
       "  background-color: var(--sklearn-color-unfitted-level-3);\n",
       "  color: var(--sklearn-color-background);\n",
       "  text-decoration: none;\n",
       "}\n",
       "\n",
       "#sk-container-id-4 a.estimator_doc_link.fitted:hover {\n",
       "  /* fitted */\n",
       "  background-color: var(--sklearn-color-fitted-level-3);\n",
       "}\n",
       "</style><div id=\"sk-container-id-4\" class=\"sk-top-container\"><div class=\"sk-text-repr-fallback\"><pre>OrdinalEncoder()</pre><b>In a Jupyter environment, please rerun this cell to show the HTML representation or trust the notebook. <br />On GitHub, the HTML representation is unable to render, please try loading this page with nbviewer.org.</b></div><div class=\"sk-container\" hidden><div class=\"sk-item\"><div class=\"sk-estimator fitted sk-toggleable\"><input class=\"sk-toggleable__control sk-hidden--visually\" id=\"sk-estimator-id-4\" type=\"checkbox\" checked><label for=\"sk-estimator-id-4\" class=\"sk-toggleable__label fitted sk-toggleable__label-arrow\"><div><div>OrdinalEncoder</div></div><div><a class=\"sk-estimator-doc-link fitted\" rel=\"noreferrer\" target=\"_blank\" href=\"https://scikit-learn.org/1.6/modules/generated/sklearn.preprocessing.OrdinalEncoder.html\">?<span>Documentation for OrdinalEncoder</span></a><span class=\"sk-estimator-doc-link fitted\">i<span>Fitted</span></span></div></label><div class=\"sk-toggleable__content fitted\"><pre>OrdinalEncoder()</pre></div> </div></div></div></div>"
      ],
      "text/plain": [
       "OrdinalEncoder()"
      ]
     },
     "execution_count": 129,
     "metadata": {},
     "output_type": "execute_result"
    }
   ],
   "source": [
    "# Fit catgorical dataset \n",
    "encoder.fit(catgorical_data)"
   ]
  },
  {
   "cell_type": "code",
   "execution_count": 130,
   "metadata": {},
   "outputs": [
    {
     "data": {
      "application/vnd.microsoft.datawrangler.viewer.v0+json": {
       "columns": [
        {
         "name": "index",
         "rawType": "int64",
         "type": "integer"
        },
        {
         "name": "Genetics",
         "rawType": "object",
         "type": "string"
        },
        {
         "name": "Hormonal Changes",
         "rawType": "object",
         "type": "string"
        },
        {
         "name": "Medical Conditions",
         "rawType": "object",
         "type": "string"
        },
        {
         "name": "Medications & Treatments",
         "rawType": "object",
         "type": "string"
        },
        {
         "name": "Nutritional Deficiencies ",
         "rawType": "object",
         "type": "string"
        },
        {
         "name": "Stress",
         "rawType": "object",
         "type": "string"
        },
        {
         "name": "Weight Loss ",
         "rawType": "object",
         "type": "string"
        }
       ],
       "conversionMethod": "pd.DataFrame",
       "ref": "6847b53b-f478-4ca6-b99b-9945a7a61beb",
       "rows": [
        [
         "0",
         "Yes",
         "No",
         "No Data",
         "No Data",
         "Magnesium deficiency",
         "Moderate",
         "No"
        ],
        [
         "1",
         "No",
         "No",
         "Eczema",
         "Antibiotics",
         "Magnesium deficiency",
         "High",
         "No"
        ],
        [
         "2",
         "No",
         "No",
         "Dermatosis",
         "Antifungal Cream",
         "Protein deficiency",
         "Moderate",
         "Yes"
        ],
        [
         "3",
         "Yes",
         "Yes",
         "Ringworm",
         "Antibiotics",
         "Biotin Deficiency ",
         "Moderate",
         "No"
        ],
        [
         "4",
         "No",
         "No",
         "Psoriasis",
         "Accutane",
         "Iron deficiency",
         "Moderate",
         "No"
        ],
        [
         "5",
         "Yes",
         "No",
         "Psoriasis",
         "Antibiotics",
         "Magnesium deficiency",
         "Low",
         "Yes"
        ],
        [
         "6",
         "Yes",
         "Yes",
         "No Data",
         "No Data",
         "Selenium deficiency",
         "High",
         "No"
        ],
        [
         "7",
         "Yes",
         "No",
         "Dermatosis",
         "Chemotherapy",
         "Omega-3 fatty acids",
         "High",
         "No"
        ],
        [
         "8",
         "Yes",
         "No",
         "Eczema",
         "Steroids",
         "Selenium deficiency",
         "Moderate",
         "Yes"
        ],
        [
         "9",
         "No",
         "Yes",
         "Ringworm",
         "Rogaine",
         "Magnesium deficiency",
         "Moderate",
         "No"
        ],
        [
         "10",
         "Yes",
         "Yes",
         "Eczema",
         "Blood Pressure Medication",
         "Biotin Deficiency ",
         "High",
         "No"
        ],
        [
         "11",
         "No",
         "Yes",
         "Alopecia Areata ",
         "Accutane",
         "Zinc Deficiency",
         "High",
         "No"
        ],
        [
         "12",
         "Yes",
         "Yes",
         "Scalp Infection",
         "Immunomodulators",
         "Biotin Deficiency ",
         "Moderate",
         "No"
        ],
        [
         "13",
         "No",
         "No",
         "Psoriasis",
         "Antibiotics",
         "Vitamin A Deficiency",
         "High",
         "Yes"
        ],
        [
         "14",
         "Yes",
         "No",
         "Eczema",
         "Antibiotics",
         "Biotin Deficiency ",
         "High",
         "Yes"
        ],
        [
         "15",
         "Yes",
         "Yes",
         "Scalp Infection",
         "Rogaine",
         "Vitamin D Deficiency",
         "Moderate",
         "Yes"
        ],
        [
         "16",
         "Yes",
         "No",
         "Seborrheic Dermatitis",
         "Antidepressants ",
         "Vitamin D Deficiency",
         "High",
         "Yes"
        ],
        [
         "17",
         "No",
         "Yes",
         "Dermatosis",
         "Antibiotics",
         "Zinc Deficiency",
         "Low",
         "Yes"
        ],
        [
         "18",
         "Yes",
         "Yes",
         "Dermatosis",
         "Accutane",
         "Biotin Deficiency ",
         "Low",
         "No"
        ],
        [
         "19",
         "Yes",
         "Yes",
         "Seborrheic Dermatitis",
         "Chemotherapy",
         "Vitamin A Deficiency",
         "High",
         "Yes"
        ],
        [
         "20",
         "Yes",
         "Yes",
         "Seborrheic Dermatitis",
         "Accutane",
         "Protein deficiency",
         "High",
         "Yes"
        ],
        [
         "21",
         "No",
         "No",
         "No Data",
         "Chemotherapy",
         "Zinc Deficiency",
         "High",
         "Yes"
        ],
        [
         "22",
         "Yes",
         "Yes",
         "Psoriasis",
         "Antibiotics",
         "Vitamin D Deficiency",
         "Low",
         "Yes"
        ],
        [
         "23",
         "No",
         "Yes",
         "Scalp Infection",
         "Antidepressants ",
         "Vitamin D Deficiency",
         "High",
         "No"
        ],
        [
         "24",
         "No",
         "Yes",
         "Dermatitis",
         "Antibiotics",
         "Protein deficiency",
         "High",
         "No"
        ],
        [
         "25",
         "Yes",
         "Yes",
         "Dermatosis",
         "Heart Medication ",
         "Vitamin A Deficiency",
         "Moderate",
         "No"
        ],
        [
         "26",
         "No",
         "Yes",
         "Dermatosis",
         "Immunomodulators",
         "Selenium deficiency",
         "High",
         "No"
        ],
        [
         "27",
         "No",
         "Yes",
         "Seborrheic Dermatitis",
         "Antifungal Cream",
         "Zinc Deficiency",
         "Low",
         "No"
        ],
        [
         "28",
         "No",
         "Yes",
         "Thyroid Problems",
         "Chemotherapy",
         "Omega-3 fatty acids",
         "Low",
         "No"
        ],
        [
         "29",
         "No",
         "Yes",
         "Dermatitis",
         "Chemotherapy",
         "No Data",
         "Low",
         "No"
        ],
        [
         "30",
         "No",
         "No",
         "Dermatosis",
         "Chemotherapy",
         "No Data",
         "High",
         "No"
        ],
        [
         "31",
         "No",
         "Yes",
         "Dermatitis",
         "Antibiotics",
         "Iron deficiency",
         "Moderate",
         "Yes"
        ],
        [
         "32",
         "Yes",
         "No",
         "Dermatitis",
         "Steroids",
         "Protein deficiency",
         "Moderate",
         "No"
        ],
        [
         "33",
         "Yes",
         "No",
         "Ringworm",
         "Steroids",
         "Selenium deficiency",
         "High",
         "Yes"
        ],
        [
         "34",
         "No",
         "Yes",
         "Scalp Infection",
         "Antidepressants ",
         "Vitamin D Deficiency",
         "Moderate",
         "Yes"
        ],
        [
         "35",
         "Yes",
         "Yes",
         "Dermatitis",
         "Chemotherapy",
         "Zinc Deficiency",
         "Low",
         "Yes"
        ],
        [
         "36",
         "No",
         "Yes",
         "Alopecia Areata ",
         "Antibiotics",
         "Biotin Deficiency ",
         "Low",
         "Yes"
        ],
        [
         "37",
         "No",
         "No",
         "Eczema",
         "Heart Medication ",
         "No Data",
         "Low",
         "Yes"
        ],
        [
         "38",
         "No",
         "Yes",
         "Scalp Infection",
         "Chemotherapy",
         "Zinc Deficiency",
         "Low",
         "No"
        ],
        [
         "39",
         "Yes",
         "Yes",
         "Seborrheic Dermatitis",
         "Steroids",
         "Omega-3 fatty acids",
         "Moderate",
         "No"
        ],
        [
         "40",
         "No",
         "No",
         "No Data",
         "Chemotherapy",
         "Vitamin E deficiency",
         "High",
         "No"
        ],
        [
         "41",
         "Yes",
         "Yes",
         "Dermatosis",
         "Immunomodulators",
         "Magnesium deficiency",
         "High",
         "Yes"
        ],
        [
         "42",
         "Yes",
         "No",
         "Alopecia Areata ",
         "Accutane",
         "Selenium deficiency",
         "High",
         "No"
        ],
        [
         "43",
         "No",
         "No",
         "Dermatosis",
         "Blood Pressure Medication",
         "Magnesium deficiency",
         "Low",
         "Yes"
        ],
        [
         "44",
         "Yes",
         "Yes",
         "Thyroid Problems",
         "Rogaine",
         "Vitamin E deficiency",
         "Low",
         "No"
        ],
        [
         "45",
         "No",
         "No",
         "Androgenetic Alopecia",
         "Accutane",
         "Iron deficiency",
         "Moderate",
         "Yes"
        ],
        [
         "46",
         "No",
         "Yes",
         "Androgenetic Alopecia",
         "Steroids",
         "Vitamin A Deficiency",
         "Moderate",
         "No"
        ],
        [
         "47",
         "No",
         "No",
         "No Data",
         "Steroids",
         "Zinc Deficiency",
         "High",
         "No"
        ],
        [
         "48",
         "Yes",
         "No",
         "No Data",
         "Blood Pressure Medication",
         "Iron deficiency",
         "High",
         "Yes"
        ],
        [
         "49",
         "No",
         "No",
         "Scalp Infection",
         "Immunomodulators",
         "Vitamin A Deficiency",
         "Moderate",
         "Yes"
        ]
       ],
       "shape": {
        "columns": 7,
        "rows": 999
       }
      },
      "text/html": [
       "<div>\n",
       "<style scoped>\n",
       "    .dataframe tbody tr th:only-of-type {\n",
       "        vertical-align: middle;\n",
       "    }\n",
       "\n",
       "    .dataframe tbody tr th {\n",
       "        vertical-align: top;\n",
       "    }\n",
       "\n",
       "    .dataframe thead th {\n",
       "        text-align: right;\n",
       "    }\n",
       "</style>\n",
       "<table border=\"1\" class=\"dataframe\">\n",
       "  <thead>\n",
       "    <tr style=\"text-align: right;\">\n",
       "      <th></th>\n",
       "      <th>Genetics</th>\n",
       "      <th>Hormonal Changes</th>\n",
       "      <th>Medical Conditions</th>\n",
       "      <th>Medications &amp; Treatments</th>\n",
       "      <th>Nutritional Deficiencies</th>\n",
       "      <th>Stress</th>\n",
       "      <th>Weight Loss</th>\n",
       "    </tr>\n",
       "  </thead>\n",
       "  <tbody>\n",
       "    <tr>\n",
       "      <th>0</th>\n",
       "      <td>Yes</td>\n",
       "      <td>No</td>\n",
       "      <td>No Data</td>\n",
       "      <td>No Data</td>\n",
       "      <td>Magnesium deficiency</td>\n",
       "      <td>Moderate</td>\n",
       "      <td>No</td>\n",
       "    </tr>\n",
       "    <tr>\n",
       "      <th>1</th>\n",
       "      <td>No</td>\n",
       "      <td>No</td>\n",
       "      <td>Eczema</td>\n",
       "      <td>Antibiotics</td>\n",
       "      <td>Magnesium deficiency</td>\n",
       "      <td>High</td>\n",
       "      <td>No</td>\n",
       "    </tr>\n",
       "    <tr>\n",
       "      <th>2</th>\n",
       "      <td>No</td>\n",
       "      <td>No</td>\n",
       "      <td>Dermatosis</td>\n",
       "      <td>Antifungal Cream</td>\n",
       "      <td>Protein deficiency</td>\n",
       "      <td>Moderate</td>\n",
       "      <td>Yes</td>\n",
       "    </tr>\n",
       "    <tr>\n",
       "      <th>3</th>\n",
       "      <td>Yes</td>\n",
       "      <td>Yes</td>\n",
       "      <td>Ringworm</td>\n",
       "      <td>Antibiotics</td>\n",
       "      <td>Biotin Deficiency</td>\n",
       "      <td>Moderate</td>\n",
       "      <td>No</td>\n",
       "    </tr>\n",
       "    <tr>\n",
       "      <th>4</th>\n",
       "      <td>No</td>\n",
       "      <td>No</td>\n",
       "      <td>Psoriasis</td>\n",
       "      <td>Accutane</td>\n",
       "      <td>Iron deficiency</td>\n",
       "      <td>Moderate</td>\n",
       "      <td>No</td>\n",
       "    </tr>\n",
       "    <tr>\n",
       "      <th>...</th>\n",
       "      <td>...</td>\n",
       "      <td>...</td>\n",
       "      <td>...</td>\n",
       "      <td>...</td>\n",
       "      <td>...</td>\n",
       "      <td>...</td>\n",
       "      <td>...</td>\n",
       "    </tr>\n",
       "    <tr>\n",
       "      <th>994</th>\n",
       "      <td>Yes</td>\n",
       "      <td>No</td>\n",
       "      <td>Seborrheic Dermatitis</td>\n",
       "      <td>Rogaine</td>\n",
       "      <td>Vitamin A Deficiency</td>\n",
       "      <td>Low</td>\n",
       "      <td>Yes</td>\n",
       "    </tr>\n",
       "    <tr>\n",
       "      <th>995</th>\n",
       "      <td>Yes</td>\n",
       "      <td>Yes</td>\n",
       "      <td>No Data</td>\n",
       "      <td>Accutane</td>\n",
       "      <td>Protein deficiency</td>\n",
       "      <td>Low</td>\n",
       "      <td>Yes</td>\n",
       "    </tr>\n",
       "    <tr>\n",
       "      <th>996</th>\n",
       "      <td>No</td>\n",
       "      <td>Yes</td>\n",
       "      <td>Androgenetic Alopecia</td>\n",
       "      <td>Antidepressants</td>\n",
       "      <td>Protein deficiency</td>\n",
       "      <td>Moderate</td>\n",
       "      <td>Yes</td>\n",
       "    </tr>\n",
       "    <tr>\n",
       "      <th>997</th>\n",
       "      <td>No</td>\n",
       "      <td>Yes</td>\n",
       "      <td>Dermatitis</td>\n",
       "      <td>Immunomodulators</td>\n",
       "      <td>Biotin Deficiency</td>\n",
       "      <td>Moderate</td>\n",
       "      <td>Yes</td>\n",
       "    </tr>\n",
       "    <tr>\n",
       "      <th>998</th>\n",
       "      <td>Yes</td>\n",
       "      <td>Yes</td>\n",
       "      <td>Psoriasis</td>\n",
       "      <td>Blood Pressure Medication</td>\n",
       "      <td>Vitamin D Deficiency</td>\n",
       "      <td>Low</td>\n",
       "      <td>No</td>\n",
       "    </tr>\n",
       "  </tbody>\n",
       "</table>\n",
       "<p>999 rows × 7 columns</p>\n",
       "</div>"
      ],
      "text/plain": [
       "    Genetics Hormonal Changes     Medical Conditions  \\\n",
       "0        Yes               No                No Data   \n",
       "1         No               No                 Eczema   \n",
       "2         No               No             Dermatosis   \n",
       "3        Yes              Yes               Ringworm   \n",
       "4         No               No              Psoriasis   \n",
       "..       ...              ...                    ...   \n",
       "994      Yes               No  Seborrheic Dermatitis   \n",
       "995      Yes              Yes                No Data   \n",
       "996       No              Yes  Androgenetic Alopecia   \n",
       "997       No              Yes             Dermatitis   \n",
       "998      Yes              Yes              Psoriasis   \n",
       "\n",
       "      Medications & Treatments Nutritional Deficiencies     Stress  \\\n",
       "0                      No Data      Magnesium deficiency  Moderate   \n",
       "1                  Antibiotics      Magnesium deficiency      High   \n",
       "2             Antifungal Cream        Protein deficiency  Moderate   \n",
       "3                  Antibiotics        Biotin Deficiency   Moderate   \n",
       "4                     Accutane           Iron deficiency  Moderate   \n",
       "..                         ...                       ...       ...   \n",
       "994                    Rogaine      Vitamin A Deficiency       Low   \n",
       "995                   Accutane        Protein deficiency       Low   \n",
       "996           Antidepressants         Protein deficiency  Moderate   \n",
       "997           Immunomodulators        Biotin Deficiency   Moderate   \n",
       "998  Blood Pressure Medication      Vitamin D Deficiency       Low   \n",
       "\n",
       "    Weight Loss   \n",
       "0             No  \n",
       "1             No  \n",
       "2            Yes  \n",
       "3             No  \n",
       "4             No  \n",
       "..           ...  \n",
       "994          Yes  \n",
       "995          Yes  \n",
       "996          Yes  \n",
       "997          Yes  \n",
       "998           No  \n",
       "\n",
       "[999 rows x 7 columns]"
      ]
     },
     "execution_count": 130,
     "metadata": {},
     "output_type": "execute_result"
    }
   ],
   "source": [
    "catgorical_data"
   ]
  },
  {
   "cell_type": "code",
   "execution_count": 131,
   "metadata": {},
   "outputs": [],
   "source": [
    "# transform the dataset\n",
    "encoded_data = encoder.transform(catgorical_data)"
   ]
  },
  {
   "cell_type": "code",
   "execution_count": 132,
   "metadata": {},
   "outputs": [
    {
     "data": {
      "text/plain": [
       "array([[1., 0., 5., ..., 2., 2., 0.],\n",
       "       [0., 0., 4., ..., 2., 0., 0.],\n",
       "       [0., 0., 3., ..., 5., 2., 1.],\n",
       "       ...,\n",
       "       [0., 1., 1., ..., 5., 2., 1.],\n",
       "       [0., 1., 2., ..., 0., 2., 1.],\n",
       "       [1., 1., 6., ..., 8., 1., 0.]], shape=(999, 7))"
      ]
     },
     "execution_count": 132,
     "metadata": {},
     "output_type": "execute_result"
    }
   ],
   "source": [
    "encoded_data\n"
   ]
  },
  {
   "cell_type": "code",
   "execution_count": 133,
   "metadata": {},
   "outputs": [
    {
     "data": {
      "text/plain": [
       "array(['Genetics', 'Hormonal Changes', 'Medical Conditions',\n",
       "       'Medications & Treatments', 'Nutritional Deficiencies ', 'Stress',\n",
       "       'Weight Loss '], dtype=object)"
      ]
     },
     "execution_count": 133,
     "metadata": {},
     "output_type": "execute_result"
    }
   ],
   "source": [
    "encoder.get_feature_names_out()"
   ]
  },
  {
   "cell_type": "code",
   "execution_count": 134,
   "metadata": {},
   "outputs": [],
   "source": [
    "cal2 = pd.DataFrame(encoded_data, columns=encoder.get_feature_names_out())"
   ]
  },
  {
   "cell_type": "code",
   "execution_count": 135,
   "metadata": {},
   "outputs": [
    {
     "data": {
      "application/vnd.microsoft.datawrangler.viewer.v0+json": {
       "columns": [
        {
         "name": "index",
         "rawType": "int64",
         "type": "integer"
        },
        {
         "name": "Genetics",
         "rawType": "float64",
         "type": "float"
        },
        {
         "name": "Hormonal Changes",
         "rawType": "float64",
         "type": "float"
        },
        {
         "name": "Medical Conditions",
         "rawType": "float64",
         "type": "float"
        },
        {
         "name": "Medications & Treatments",
         "rawType": "float64",
         "type": "float"
        },
        {
         "name": "Nutritional Deficiencies ",
         "rawType": "float64",
         "type": "float"
        },
        {
         "name": "Stress",
         "rawType": "float64",
         "type": "float"
        },
        {
         "name": "Weight Loss ",
         "rawType": "float64",
         "type": "float"
        }
       ],
       "conversionMethod": "pd.DataFrame",
       "ref": "ba0914cd-4710-4225-8adf-129c8065c7bc",
       "rows": [
        [
         "0",
         "1.0",
         "0.0",
         "5.0",
         "8.0",
         "2.0",
         "2.0",
         "0.0"
        ],
        [
         "1",
         "0.0",
         "0.0",
         "4.0",
         "1.0",
         "2.0",
         "0.0",
         "0.0"
        ],
        [
         "2",
         "0.0",
         "0.0",
         "3.0",
         "3.0",
         "5.0",
         "2.0",
         "1.0"
        ],
        [
         "3",
         "1.0",
         "1.0",
         "7.0",
         "1.0",
         "0.0",
         "2.0",
         "0.0"
        ],
        [
         "4",
         "0.0",
         "0.0",
         "6.0",
         "0.0",
         "1.0",
         "2.0",
         "0.0"
        ],
        [
         "5",
         "1.0",
         "0.0",
         "6.0",
         "1.0",
         "2.0",
         "1.0",
         "1.0"
        ],
        [
         "6",
         "1.0",
         "1.0",
         "5.0",
         "8.0",
         "6.0",
         "0.0",
         "0.0"
        ],
        [
         "7",
         "1.0",
         "0.0",
         "3.0",
         "5.0",
         "4.0",
         "0.0",
         "0.0"
        ],
        [
         "8",
         "1.0",
         "0.0",
         "4.0",
         "10.0",
         "6.0",
         "2.0",
         "1.0"
        ],
        [
         "9",
         "0.0",
         "1.0",
         "7.0",
         "9.0",
         "2.0",
         "2.0",
         "0.0"
        ],
        [
         "10",
         "1.0",
         "1.0",
         "4.0",
         "4.0",
         "0.0",
         "0.0",
         "0.0"
        ],
        [
         "11",
         "0.0",
         "1.0",
         "0.0",
         "0.0",
         "10.0",
         "0.0",
         "0.0"
        ],
        [
         "12",
         "1.0",
         "1.0",
         "8.0",
         "7.0",
         "0.0",
         "2.0",
         "0.0"
        ],
        [
         "13",
         "0.0",
         "0.0",
         "6.0",
         "1.0",
         "7.0",
         "0.0",
         "1.0"
        ],
        [
         "14",
         "1.0",
         "0.0",
         "4.0",
         "1.0",
         "0.0",
         "0.0",
         "1.0"
        ],
        [
         "15",
         "1.0",
         "1.0",
         "8.0",
         "9.0",
         "8.0",
         "2.0",
         "1.0"
        ],
        [
         "16",
         "1.0",
         "0.0",
         "9.0",
         "2.0",
         "8.0",
         "0.0",
         "1.0"
        ],
        [
         "17",
         "0.0",
         "1.0",
         "3.0",
         "1.0",
         "10.0",
         "1.0",
         "1.0"
        ],
        [
         "18",
         "1.0",
         "1.0",
         "3.0",
         "0.0",
         "0.0",
         "1.0",
         "0.0"
        ],
        [
         "19",
         "1.0",
         "1.0",
         "9.0",
         "5.0",
         "7.0",
         "0.0",
         "1.0"
        ],
        [
         "20",
         "1.0",
         "1.0",
         "9.0",
         "0.0",
         "5.0",
         "0.0",
         "1.0"
        ],
        [
         "21",
         "0.0",
         "0.0",
         "5.0",
         "5.0",
         "10.0",
         "0.0",
         "1.0"
        ],
        [
         "22",
         "1.0",
         "1.0",
         "6.0",
         "1.0",
         "8.0",
         "1.0",
         "1.0"
        ],
        [
         "23",
         "0.0",
         "1.0",
         "8.0",
         "2.0",
         "8.0",
         "0.0",
         "0.0"
        ],
        [
         "24",
         "0.0",
         "1.0",
         "2.0",
         "1.0",
         "5.0",
         "0.0",
         "0.0"
        ],
        [
         "25",
         "1.0",
         "1.0",
         "3.0",
         "6.0",
         "7.0",
         "2.0",
         "0.0"
        ],
        [
         "26",
         "0.0",
         "1.0",
         "3.0",
         "7.0",
         "6.0",
         "0.0",
         "0.0"
        ],
        [
         "27",
         "0.0",
         "1.0",
         "9.0",
         "3.0",
         "10.0",
         "1.0",
         "0.0"
        ],
        [
         "28",
         "0.0",
         "1.0",
         "10.0",
         "5.0",
         "4.0",
         "1.0",
         "0.0"
        ],
        [
         "29",
         "0.0",
         "1.0",
         "2.0",
         "5.0",
         "3.0",
         "1.0",
         "0.0"
        ],
        [
         "30",
         "0.0",
         "0.0",
         "3.0",
         "5.0",
         "3.0",
         "0.0",
         "0.0"
        ],
        [
         "31",
         "0.0",
         "1.0",
         "2.0",
         "1.0",
         "1.0",
         "2.0",
         "1.0"
        ],
        [
         "32",
         "1.0",
         "0.0",
         "2.0",
         "10.0",
         "5.0",
         "2.0",
         "0.0"
        ],
        [
         "33",
         "1.0",
         "0.0",
         "7.0",
         "10.0",
         "6.0",
         "0.0",
         "1.0"
        ],
        [
         "34",
         "0.0",
         "1.0",
         "8.0",
         "2.0",
         "8.0",
         "2.0",
         "1.0"
        ],
        [
         "35",
         "1.0",
         "1.0",
         "2.0",
         "5.0",
         "10.0",
         "1.0",
         "1.0"
        ],
        [
         "36",
         "0.0",
         "1.0",
         "0.0",
         "1.0",
         "0.0",
         "1.0",
         "1.0"
        ],
        [
         "37",
         "0.0",
         "0.0",
         "4.0",
         "6.0",
         "3.0",
         "1.0",
         "1.0"
        ],
        [
         "38",
         "0.0",
         "1.0",
         "8.0",
         "5.0",
         "10.0",
         "1.0",
         "0.0"
        ],
        [
         "39",
         "1.0",
         "1.0",
         "9.0",
         "10.0",
         "4.0",
         "2.0",
         "0.0"
        ],
        [
         "40",
         "0.0",
         "0.0",
         "5.0",
         "5.0",
         "9.0",
         "0.0",
         "0.0"
        ],
        [
         "41",
         "1.0",
         "1.0",
         "3.0",
         "7.0",
         "2.0",
         "0.0",
         "1.0"
        ],
        [
         "42",
         "1.0",
         "0.0",
         "0.0",
         "0.0",
         "6.0",
         "0.0",
         "0.0"
        ],
        [
         "43",
         "0.0",
         "0.0",
         "3.0",
         "4.0",
         "2.0",
         "1.0",
         "1.0"
        ],
        [
         "44",
         "1.0",
         "1.0",
         "10.0",
         "9.0",
         "9.0",
         "1.0",
         "0.0"
        ],
        [
         "45",
         "0.0",
         "0.0",
         "1.0",
         "0.0",
         "1.0",
         "2.0",
         "1.0"
        ],
        [
         "46",
         "0.0",
         "1.0",
         "1.0",
         "10.0",
         "7.0",
         "2.0",
         "0.0"
        ],
        [
         "47",
         "0.0",
         "0.0",
         "5.0",
         "10.0",
         "10.0",
         "0.0",
         "0.0"
        ],
        [
         "48",
         "1.0",
         "0.0",
         "5.0",
         "4.0",
         "1.0",
         "0.0",
         "1.0"
        ],
        [
         "49",
         "0.0",
         "0.0",
         "8.0",
         "7.0",
         "7.0",
         "2.0",
         "1.0"
        ]
       ],
       "shape": {
        "columns": 7,
        "rows": 999
       }
      },
      "text/html": [
       "<div>\n",
       "<style scoped>\n",
       "    .dataframe tbody tr th:only-of-type {\n",
       "        vertical-align: middle;\n",
       "    }\n",
       "\n",
       "    .dataframe tbody tr th {\n",
       "        vertical-align: top;\n",
       "    }\n",
       "\n",
       "    .dataframe thead th {\n",
       "        text-align: right;\n",
       "    }\n",
       "</style>\n",
       "<table border=\"1\" class=\"dataframe\">\n",
       "  <thead>\n",
       "    <tr style=\"text-align: right;\">\n",
       "      <th></th>\n",
       "      <th>Genetics</th>\n",
       "      <th>Hormonal Changes</th>\n",
       "      <th>Medical Conditions</th>\n",
       "      <th>Medications &amp; Treatments</th>\n",
       "      <th>Nutritional Deficiencies</th>\n",
       "      <th>Stress</th>\n",
       "      <th>Weight Loss</th>\n",
       "    </tr>\n",
       "  </thead>\n",
       "  <tbody>\n",
       "    <tr>\n",
       "      <th>0</th>\n",
       "      <td>1.0</td>\n",
       "      <td>0.0</td>\n",
       "      <td>5.0</td>\n",
       "      <td>8.0</td>\n",
       "      <td>2.0</td>\n",
       "      <td>2.0</td>\n",
       "      <td>0.0</td>\n",
       "    </tr>\n",
       "    <tr>\n",
       "      <th>1</th>\n",
       "      <td>0.0</td>\n",
       "      <td>0.0</td>\n",
       "      <td>4.0</td>\n",
       "      <td>1.0</td>\n",
       "      <td>2.0</td>\n",
       "      <td>0.0</td>\n",
       "      <td>0.0</td>\n",
       "    </tr>\n",
       "    <tr>\n",
       "      <th>2</th>\n",
       "      <td>0.0</td>\n",
       "      <td>0.0</td>\n",
       "      <td>3.0</td>\n",
       "      <td>3.0</td>\n",
       "      <td>5.0</td>\n",
       "      <td>2.0</td>\n",
       "      <td>1.0</td>\n",
       "    </tr>\n",
       "    <tr>\n",
       "      <th>3</th>\n",
       "      <td>1.0</td>\n",
       "      <td>1.0</td>\n",
       "      <td>7.0</td>\n",
       "      <td>1.0</td>\n",
       "      <td>0.0</td>\n",
       "      <td>2.0</td>\n",
       "      <td>0.0</td>\n",
       "    </tr>\n",
       "    <tr>\n",
       "      <th>4</th>\n",
       "      <td>0.0</td>\n",
       "      <td>0.0</td>\n",
       "      <td>6.0</td>\n",
       "      <td>0.0</td>\n",
       "      <td>1.0</td>\n",
       "      <td>2.0</td>\n",
       "      <td>0.0</td>\n",
       "    </tr>\n",
       "    <tr>\n",
       "      <th>...</th>\n",
       "      <td>...</td>\n",
       "      <td>...</td>\n",
       "      <td>...</td>\n",
       "      <td>...</td>\n",
       "      <td>...</td>\n",
       "      <td>...</td>\n",
       "      <td>...</td>\n",
       "    </tr>\n",
       "    <tr>\n",
       "      <th>994</th>\n",
       "      <td>1.0</td>\n",
       "      <td>0.0</td>\n",
       "      <td>9.0</td>\n",
       "      <td>9.0</td>\n",
       "      <td>7.0</td>\n",
       "      <td>1.0</td>\n",
       "      <td>1.0</td>\n",
       "    </tr>\n",
       "    <tr>\n",
       "      <th>995</th>\n",
       "      <td>1.0</td>\n",
       "      <td>1.0</td>\n",
       "      <td>5.0</td>\n",
       "      <td>0.0</td>\n",
       "      <td>5.0</td>\n",
       "      <td>1.0</td>\n",
       "      <td>1.0</td>\n",
       "    </tr>\n",
       "    <tr>\n",
       "      <th>996</th>\n",
       "      <td>0.0</td>\n",
       "      <td>1.0</td>\n",
       "      <td>1.0</td>\n",
       "      <td>2.0</td>\n",
       "      <td>5.0</td>\n",
       "      <td>2.0</td>\n",
       "      <td>1.0</td>\n",
       "    </tr>\n",
       "    <tr>\n",
       "      <th>997</th>\n",
       "      <td>0.0</td>\n",
       "      <td>1.0</td>\n",
       "      <td>2.0</td>\n",
       "      <td>7.0</td>\n",
       "      <td>0.0</td>\n",
       "      <td>2.0</td>\n",
       "      <td>1.0</td>\n",
       "    </tr>\n",
       "    <tr>\n",
       "      <th>998</th>\n",
       "      <td>1.0</td>\n",
       "      <td>1.0</td>\n",
       "      <td>6.0</td>\n",
       "      <td>4.0</td>\n",
       "      <td>8.0</td>\n",
       "      <td>1.0</td>\n",
       "      <td>0.0</td>\n",
       "    </tr>\n",
       "  </tbody>\n",
       "</table>\n",
       "<p>999 rows × 7 columns</p>\n",
       "</div>"
      ],
      "text/plain": [
       "     Genetics  Hormonal Changes  Medical Conditions  Medications & Treatments  \\\n",
       "0         1.0               0.0                 5.0                       8.0   \n",
       "1         0.0               0.0                 4.0                       1.0   \n",
       "2         0.0               0.0                 3.0                       3.0   \n",
       "3         1.0               1.0                 7.0                       1.0   \n",
       "4         0.0               0.0                 6.0                       0.0   \n",
       "..        ...               ...                 ...                       ...   \n",
       "994       1.0               0.0                 9.0                       9.0   \n",
       "995       1.0               1.0                 5.0                       0.0   \n",
       "996       0.0               1.0                 1.0                       2.0   \n",
       "997       0.0               1.0                 2.0                       7.0   \n",
       "998       1.0               1.0                 6.0                       4.0   \n",
       "\n",
       "     Nutritional Deficiencies   Stress  Weight Loss   \n",
       "0                          2.0     2.0           0.0  \n",
       "1                          2.0     0.0           0.0  \n",
       "2                          5.0     2.0           1.0  \n",
       "3                          0.0     2.0           0.0  \n",
       "4                          1.0     2.0           0.0  \n",
       "..                         ...     ...           ...  \n",
       "994                        7.0     1.0           1.0  \n",
       "995                        5.0     1.0           1.0  \n",
       "996                        5.0     2.0           1.0  \n",
       "997                        0.0     2.0           1.0  \n",
       "998                        8.0     1.0           0.0  \n",
       "\n",
       "[999 rows x 7 columns]"
      ]
     },
     "execution_count": 135,
     "metadata": {},
     "output_type": "execute_result"
    }
   ],
   "source": [
    "cal2"
   ]
  },
  {
   "cell_type": "code",
   "execution_count": 136,
   "metadata": {},
   "outputs": [
    {
     "name": "stdout",
     "output_type": "stream",
     "text": [
      "================================================================================\n",
      "Genetics\n",
      "1.0    522\n",
      "0.0    477\n",
      "Name: count, dtype: int64\n",
      "================================================================================\n",
      "Hormonal Changes\n",
      "1.0    509\n",
      "0.0    490\n",
      "Name: count, dtype: int64\n",
      "================================================================================\n",
      "Medical Conditions\n",
      "5.0     110\n",
      "0.0     107\n",
      "6.0     100\n",
      "10.0     99\n",
      "1.0      98\n",
      "2.0      92\n",
      "3.0      88\n",
      "9.0      88\n",
      "8.0      79\n",
      "4.0      69\n",
      "7.0      69\n",
      "Name: count, dtype: int64\n",
      "================================================================================\n",
      "Medications & Treatments\n",
      "9.0     116\n",
      "2.0     110\n",
      "10.0    107\n",
      "6.0     104\n",
      "0.0     102\n",
      "1.0      94\n",
      "3.0      94\n",
      "5.0      90\n",
      "4.0      90\n",
      "7.0      90\n",
      "8.0       2\n",
      "Name: count, dtype: int64\n",
      "================================================================================\n",
      "Nutritional Deficiencies \n",
      "10.0    108\n",
      "8.0     104\n",
      "0.0      99\n",
      "7.0      99\n",
      "4.0      92\n",
      "5.0      90\n",
      "2.0      84\n",
      "9.0      83\n",
      "6.0      82\n",
      "3.0      80\n",
      "1.0      78\n",
      "Name: count, dtype: int64\n",
      "================================================================================\n",
      "Stress\n",
      "2.0    351\n",
      "1.0    327\n",
      "0.0    321\n",
      "Name: count, dtype: int64\n",
      "================================================================================\n",
      "Weight Loss \n",
      "0.0    527\n",
      "1.0    472\n",
      "Name: count, dtype: int64\n"
     ]
    }
   ],
   "source": [
    "#knoe the cateogy in catogrical coloumns \n",
    "for i in cal2:\n",
    "    print(\"==\"*40)\n",
    "    print(cal2.value_counts(i))"
   ]
  },
  {
   "cell_type": "code",
   "execution_count": 137,
   "metadata": {},
   "outputs": [],
   "source": [
    "#combine the numerical dataset and emcoded dataset in one \n",
    "final_df = pd.concat([ num_colm,cal2 ] , axis = 1)"
   ]
  },
  {
   "cell_type": "code",
   "execution_count": 138,
   "metadata": {},
   "outputs": [],
   "source": [
    "df=final_df  "
   ]
  },
  {
   "cell_type": "code",
   "execution_count": 139,
   "metadata": {},
   "outputs": [
    {
     "name": "stdout",
     "output_type": "stream",
     "text": [
      "<class 'pandas.core.frame.DataFrame'>\n",
      "RangeIndex: 999 entries, 0 to 998\n",
      "Data columns (total 10 columns):\n",
      " #   Column                     Non-Null Count  Dtype  \n",
      "---  ------                     --------------  -----  \n",
      " 0   Id                         999 non-null    int64  \n",
      " 1   Age                        999 non-null    int64  \n",
      " 2   Hair Loss                  999 non-null    int64  \n",
      " 3   Genetics                   999 non-null    float64\n",
      " 4   Hormonal Changes           999 non-null    float64\n",
      " 5   Medical Conditions         999 non-null    float64\n",
      " 6   Medications & Treatments   999 non-null    float64\n",
      " 7   Nutritional Deficiencies   999 non-null    float64\n",
      " 8   Stress                     999 non-null    float64\n",
      " 9   Weight Loss                999 non-null    float64\n",
      "dtypes: float64(7), int64(3)\n",
      "memory usage: 78.2 KB\n"
     ]
    }
   ],
   "source": [
    "final_df.info() #all coloumns are converted into numerical "
   ]
  },
  {
   "cell_type": "markdown",
   "metadata": {},
   "source": [
    "steap-7: Data Spliting "
   ]
  },
  {
   "cell_type": "code",
   "execution_count": 140,
   "metadata": {},
   "outputs": [],
   "source": [
    "# split the data set\n",
    "# y= Target Varaible(Hair Loss)\n",
    "# x= Feature Variable(Remaining variable)"
   ]
  },
  {
   "cell_type": "code",
   "execution_count": 141,
   "metadata": {},
   "outputs": [
    {
     "data": {
      "application/vnd.microsoft.datawrangler.viewer.v0+json": {
       "columns": [
        {
         "name": "index",
         "rawType": "int64",
         "type": "integer"
        },
        {
         "name": "Id",
         "rawType": "int64",
         "type": "integer"
        },
        {
         "name": "Age",
         "rawType": "int64",
         "type": "integer"
        },
        {
         "name": "Genetics",
         "rawType": "float64",
         "type": "float"
        },
        {
         "name": "Hormonal Changes",
         "rawType": "float64",
         "type": "float"
        },
        {
         "name": "Medical Conditions",
         "rawType": "float64",
         "type": "float"
        },
        {
         "name": "Medications & Treatments",
         "rawType": "float64",
         "type": "float"
        },
        {
         "name": "Nutritional Deficiencies ",
         "rawType": "float64",
         "type": "float"
        },
        {
         "name": "Stress",
         "rawType": "float64",
         "type": "float"
        },
        {
         "name": "Weight Loss ",
         "rawType": "float64",
         "type": "float"
        }
       ],
       "conversionMethod": "pd.DataFrame",
       "ref": "e2a88e61-0e20-4f35-bfb6-e3db84b9b27f",
       "rows": [
        [
         "0",
         "133992",
         "19",
         "1.0",
         "0.0",
         "5.0",
         "8.0",
         "2.0",
         "2.0",
         "0.0"
        ],
        [
         "1",
         "148393",
         "43",
         "0.0",
         "0.0",
         "4.0",
         "1.0",
         "2.0",
         "0.0",
         "0.0"
        ],
        [
         "2",
         "155074",
         "26",
         "0.0",
         "0.0",
         "3.0",
         "3.0",
         "5.0",
         "2.0",
         "1.0"
        ],
        [
         "3",
         "118261",
         "46",
         "1.0",
         "1.0",
         "7.0",
         "1.0",
         "0.0",
         "2.0",
         "0.0"
        ],
        [
         "4",
         "111915",
         "30",
         "0.0",
         "0.0",
         "6.0",
         "0.0",
         "1.0",
         "2.0",
         "0.0"
        ],
        [
         "5",
         "139661",
         "37",
         "1.0",
         "0.0",
         "6.0",
         "1.0",
         "2.0",
         "1.0",
         "1.0"
        ],
        [
         "6",
         "169255",
         "40",
         "1.0",
         "1.0",
         "5.0",
         "8.0",
         "6.0",
         "0.0",
         "0.0"
        ],
        [
         "7",
         "112032",
         "35",
         "1.0",
         "0.0",
         "3.0",
         "5.0",
         "4.0",
         "0.0",
         "0.0"
        ],
        [
         "8",
         "140785",
         "19",
         "1.0",
         "0.0",
         "4.0",
         "10.0",
         "6.0",
         "2.0",
         "1.0"
        ],
        [
         "9",
         "187999",
         "49",
         "0.0",
         "1.0",
         "7.0",
         "9.0",
         "2.0",
         "2.0",
         "0.0"
        ],
        [
         "10",
         "118858",
         "26",
         "1.0",
         "1.0",
         "4.0",
         "4.0",
         "0.0",
         "0.0",
         "0.0"
        ],
        [
         "11",
         "159158",
         "48",
         "0.0",
         "1.0",
         "0.0",
         "0.0",
         "10.0",
         "0.0",
         "0.0"
        ],
        [
         "12",
         "156086",
         "20",
         "1.0",
         "1.0",
         "8.0",
         "7.0",
         "0.0",
         "2.0",
         "0.0"
        ],
        [
         "13",
         "178256",
         "30",
         "0.0",
         "0.0",
         "6.0",
         "1.0",
         "7.0",
         "0.0",
         "1.0"
        ],
        [
         "14",
         "150154",
         "34",
         "1.0",
         "0.0",
         "4.0",
         "1.0",
         "0.0",
         "0.0",
         "1.0"
        ],
        [
         "15",
         "130552",
         "29",
         "1.0",
         "1.0",
         "8.0",
         "9.0",
         "8.0",
         "2.0",
         "1.0"
        ],
        [
         "16",
         "116190",
         "46",
         "1.0",
         "0.0",
         "9.0",
         "2.0",
         "8.0",
         "0.0",
         "1.0"
        ],
        [
         "17",
         "194441",
         "19",
         "0.0",
         "1.0",
         "3.0",
         "1.0",
         "10.0",
         "1.0",
         "1.0"
        ],
        [
         "18",
         "147404",
         "26",
         "1.0",
         "1.0",
         "3.0",
         "0.0",
         "0.0",
         "1.0",
         "0.0"
        ],
        [
         "19",
         "136709",
         "46",
         "1.0",
         "1.0",
         "9.0",
         "5.0",
         "7.0",
         "0.0",
         "1.0"
        ],
        [
         "20",
         "187362",
         "46",
         "1.0",
         "1.0",
         "9.0",
         "0.0",
         "5.0",
         "0.0",
         "1.0"
        ],
        [
         "21",
         "133804",
         "20",
         "0.0",
         "0.0",
         "5.0",
         "5.0",
         "10.0",
         "0.0",
         "1.0"
        ],
        [
         "22",
         "148974",
         "29",
         "1.0",
         "1.0",
         "6.0",
         "1.0",
         "8.0",
         "1.0",
         "1.0"
        ],
        [
         "23",
         "116818",
         "37",
         "0.0",
         "1.0",
         "8.0",
         "2.0",
         "8.0",
         "0.0",
         "0.0"
        ],
        [
         "24",
         "142062",
         "33",
         "0.0",
         "1.0",
         "2.0",
         "1.0",
         "5.0",
         "0.0",
         "0.0"
        ],
        [
         "25",
         "147833",
         "34",
         "1.0",
         "1.0",
         "3.0",
         "6.0",
         "7.0",
         "2.0",
         "0.0"
        ],
        [
         "26",
         "190967",
         "28",
         "0.0",
         "1.0",
         "3.0",
         "7.0",
         "6.0",
         "0.0",
         "0.0"
        ],
        [
         "27",
         "114579",
         "41",
         "0.0",
         "1.0",
         "9.0",
         "3.0",
         "10.0",
         "1.0",
         "0.0"
        ],
        [
         "28",
         "159949",
         "35",
         "0.0",
         "1.0",
         "10.0",
         "5.0",
         "4.0",
         "1.0",
         "0.0"
        ],
        [
         "29",
         "117296",
         "21",
         "0.0",
         "1.0",
         "2.0",
         "5.0",
         "3.0",
         "1.0",
         "0.0"
        ],
        [
         "30",
         "139857",
         "22",
         "0.0",
         "0.0",
         "3.0",
         "5.0",
         "3.0",
         "0.0",
         "0.0"
        ],
        [
         "31",
         "133091",
         "45",
         "0.0",
         "1.0",
         "2.0",
         "1.0",
         "1.0",
         "2.0",
         "1.0"
        ],
        [
         "32",
         "157912",
         "30",
         "1.0",
         "0.0",
         "2.0",
         "10.0",
         "5.0",
         "2.0",
         "0.0"
        ],
        [
         "33",
         "144334",
         "24",
         "1.0",
         "0.0",
         "7.0",
         "10.0",
         "6.0",
         "0.0",
         "1.0"
        ],
        [
         "34",
         "136948",
         "31",
         "0.0",
         "1.0",
         "8.0",
         "2.0",
         "8.0",
         "2.0",
         "1.0"
        ],
        [
         "35",
         "177638",
         "30",
         "1.0",
         "1.0",
         "2.0",
         "5.0",
         "10.0",
         "1.0",
         "1.0"
        ],
        [
         "36",
         "158783",
         "39",
         "0.0",
         "1.0",
         "0.0",
         "1.0",
         "0.0",
         "1.0",
         "1.0"
        ],
        [
         "37",
         "164570",
         "21",
         "0.0",
         "0.0",
         "4.0",
         "6.0",
         "3.0",
         "1.0",
         "1.0"
        ],
        [
         "38",
         "132733",
         "24",
         "0.0",
         "1.0",
         "8.0",
         "5.0",
         "10.0",
         "1.0",
         "0.0"
        ],
        [
         "39",
         "178632",
         "38",
         "1.0",
         "1.0",
         "9.0",
         "10.0",
         "4.0",
         "2.0",
         "0.0"
        ],
        [
         "40",
         "116434",
         "19",
         "0.0",
         "0.0",
         "5.0",
         "5.0",
         "9.0",
         "0.0",
         "0.0"
        ],
        [
         "41",
         "173043",
         "39",
         "1.0",
         "1.0",
         "3.0",
         "7.0",
         "2.0",
         "0.0",
         "1.0"
        ],
        [
         "42",
         "112613",
         "30",
         "1.0",
         "0.0",
         "0.0",
         "0.0",
         "6.0",
         "0.0",
         "0.0"
        ],
        [
         "43",
         "111169",
         "24",
         "0.0",
         "0.0",
         "3.0",
         "4.0",
         "2.0",
         "1.0",
         "1.0"
        ],
        [
         "44",
         "125738",
         "37",
         "1.0",
         "1.0",
         "10.0",
         "9.0",
         "9.0",
         "1.0",
         "0.0"
        ],
        [
         "45",
         "187509",
         "36",
         "0.0",
         "0.0",
         "1.0",
         "0.0",
         "1.0",
         "2.0",
         "1.0"
        ],
        [
         "46",
         "154811",
         "48",
         "0.0",
         "1.0",
         "1.0",
         "10.0",
         "7.0",
         "2.0",
         "0.0"
        ],
        [
         "47",
         "167156",
         "18",
         "0.0",
         "0.0",
         "5.0",
         "10.0",
         "10.0",
         "0.0",
         "0.0"
        ],
        [
         "48",
         "150641",
         "18",
         "1.0",
         "0.0",
         "5.0",
         "4.0",
         "1.0",
         "0.0",
         "1.0"
        ],
        [
         "49",
         "147982",
         "38",
         "0.0",
         "0.0",
         "8.0",
         "7.0",
         "7.0",
         "2.0",
         "1.0"
        ]
       ],
       "shape": {
        "columns": 9,
        "rows": 999
       }
      },
      "text/html": [
       "<div>\n",
       "<style scoped>\n",
       "    .dataframe tbody tr th:only-of-type {\n",
       "        vertical-align: middle;\n",
       "    }\n",
       "\n",
       "    .dataframe tbody tr th {\n",
       "        vertical-align: top;\n",
       "    }\n",
       "\n",
       "    .dataframe thead th {\n",
       "        text-align: right;\n",
       "    }\n",
       "</style>\n",
       "<table border=\"1\" class=\"dataframe\">\n",
       "  <thead>\n",
       "    <tr style=\"text-align: right;\">\n",
       "      <th></th>\n",
       "      <th>Id</th>\n",
       "      <th>Age</th>\n",
       "      <th>Genetics</th>\n",
       "      <th>Hormonal Changes</th>\n",
       "      <th>Medical Conditions</th>\n",
       "      <th>Medications &amp; Treatments</th>\n",
       "      <th>Nutritional Deficiencies</th>\n",
       "      <th>Stress</th>\n",
       "      <th>Weight Loss</th>\n",
       "    </tr>\n",
       "  </thead>\n",
       "  <tbody>\n",
       "    <tr>\n",
       "      <th>0</th>\n",
       "      <td>133992</td>\n",
       "      <td>19</td>\n",
       "      <td>1.0</td>\n",
       "      <td>0.0</td>\n",
       "      <td>5.0</td>\n",
       "      <td>8.0</td>\n",
       "      <td>2.0</td>\n",
       "      <td>2.0</td>\n",
       "      <td>0.0</td>\n",
       "    </tr>\n",
       "    <tr>\n",
       "      <th>1</th>\n",
       "      <td>148393</td>\n",
       "      <td>43</td>\n",
       "      <td>0.0</td>\n",
       "      <td>0.0</td>\n",
       "      <td>4.0</td>\n",
       "      <td>1.0</td>\n",
       "      <td>2.0</td>\n",
       "      <td>0.0</td>\n",
       "      <td>0.0</td>\n",
       "    </tr>\n",
       "    <tr>\n",
       "      <th>2</th>\n",
       "      <td>155074</td>\n",
       "      <td>26</td>\n",
       "      <td>0.0</td>\n",
       "      <td>0.0</td>\n",
       "      <td>3.0</td>\n",
       "      <td>3.0</td>\n",
       "      <td>5.0</td>\n",
       "      <td>2.0</td>\n",
       "      <td>1.0</td>\n",
       "    </tr>\n",
       "    <tr>\n",
       "      <th>3</th>\n",
       "      <td>118261</td>\n",
       "      <td>46</td>\n",
       "      <td>1.0</td>\n",
       "      <td>1.0</td>\n",
       "      <td>7.0</td>\n",
       "      <td>1.0</td>\n",
       "      <td>0.0</td>\n",
       "      <td>2.0</td>\n",
       "      <td>0.0</td>\n",
       "    </tr>\n",
       "    <tr>\n",
       "      <th>4</th>\n",
       "      <td>111915</td>\n",
       "      <td>30</td>\n",
       "      <td>0.0</td>\n",
       "      <td>0.0</td>\n",
       "      <td>6.0</td>\n",
       "      <td>0.0</td>\n",
       "      <td>1.0</td>\n",
       "      <td>2.0</td>\n",
       "      <td>0.0</td>\n",
       "    </tr>\n",
       "    <tr>\n",
       "      <th>...</th>\n",
       "      <td>...</td>\n",
       "      <td>...</td>\n",
       "      <td>...</td>\n",
       "      <td>...</td>\n",
       "      <td>...</td>\n",
       "      <td>...</td>\n",
       "      <td>...</td>\n",
       "      <td>...</td>\n",
       "      <td>...</td>\n",
       "    </tr>\n",
       "    <tr>\n",
       "      <th>994</th>\n",
       "      <td>184367</td>\n",
       "      <td>33</td>\n",
       "      <td>1.0</td>\n",
       "      <td>0.0</td>\n",
       "      <td>9.0</td>\n",
       "      <td>9.0</td>\n",
       "      <td>7.0</td>\n",
       "      <td>1.0</td>\n",
       "      <td>1.0</td>\n",
       "    </tr>\n",
       "    <tr>\n",
       "      <th>995</th>\n",
       "      <td>164777</td>\n",
       "      <td>47</td>\n",
       "      <td>1.0</td>\n",
       "      <td>1.0</td>\n",
       "      <td>5.0</td>\n",
       "      <td>0.0</td>\n",
       "      <td>5.0</td>\n",
       "      <td>1.0</td>\n",
       "      <td>1.0</td>\n",
       "    </tr>\n",
       "    <tr>\n",
       "      <th>996</th>\n",
       "      <td>143273</td>\n",
       "      <td>20</td>\n",
       "      <td>0.0</td>\n",
       "      <td>1.0</td>\n",
       "      <td>1.0</td>\n",
       "      <td>2.0</td>\n",
       "      <td>5.0</td>\n",
       "      <td>2.0</td>\n",
       "      <td>1.0</td>\n",
       "    </tr>\n",
       "    <tr>\n",
       "      <th>997</th>\n",
       "      <td>169123</td>\n",
       "      <td>32</td>\n",
       "      <td>0.0</td>\n",
       "      <td>1.0</td>\n",
       "      <td>2.0</td>\n",
       "      <td>7.0</td>\n",
       "      <td>0.0</td>\n",
       "      <td>2.0</td>\n",
       "      <td>1.0</td>\n",
       "    </tr>\n",
       "    <tr>\n",
       "      <th>998</th>\n",
       "      <td>127183</td>\n",
       "      <td>34</td>\n",
       "      <td>1.0</td>\n",
       "      <td>1.0</td>\n",
       "      <td>6.0</td>\n",
       "      <td>4.0</td>\n",
       "      <td>8.0</td>\n",
       "      <td>1.0</td>\n",
       "      <td>0.0</td>\n",
       "    </tr>\n",
       "  </tbody>\n",
       "</table>\n",
       "<p>999 rows × 9 columns</p>\n",
       "</div>"
      ],
      "text/plain": [
       "         Id  Age  Genetics  Hormonal Changes  Medical Conditions  \\\n",
       "0    133992   19       1.0               0.0                 5.0   \n",
       "1    148393   43       0.0               0.0                 4.0   \n",
       "2    155074   26       0.0               0.0                 3.0   \n",
       "3    118261   46       1.0               1.0                 7.0   \n",
       "4    111915   30       0.0               0.0                 6.0   \n",
       "..      ...  ...       ...               ...                 ...   \n",
       "994  184367   33       1.0               0.0                 9.0   \n",
       "995  164777   47       1.0               1.0                 5.0   \n",
       "996  143273   20       0.0               1.0                 1.0   \n",
       "997  169123   32       0.0               1.0                 2.0   \n",
       "998  127183   34       1.0               1.0                 6.0   \n",
       "\n",
       "     Medications & Treatments  Nutritional Deficiencies   Stress  Weight Loss   \n",
       "0                         8.0                        2.0     2.0           0.0  \n",
       "1                         1.0                        2.0     0.0           0.0  \n",
       "2                         3.0                        5.0     2.0           1.0  \n",
       "3                         1.0                        0.0     2.0           0.0  \n",
       "4                         0.0                        1.0     2.0           0.0  \n",
       "..                        ...                        ...     ...           ...  \n",
       "994                       9.0                        7.0     1.0           1.0  \n",
       "995                       0.0                        5.0     1.0           1.0  \n",
       "996                       2.0                        5.0     2.0           1.0  \n",
       "997                       7.0                        0.0     2.0           1.0  \n",
       "998                       4.0                        8.0     1.0           0.0  \n",
       "\n",
       "[999 rows x 9 columns]"
      ]
     },
     "execution_count": 141,
     "metadata": {},
     "output_type": "execute_result"
    }
   ],
   "source": [
    "#feature variable \n",
    "x=df.drop(\"Hair Loss\",axis=1)\n",
    "x"
   ]
  },
  {
   "cell_type": "code",
   "execution_count": 142,
   "metadata": {},
   "outputs": [
    {
     "data": {
      "application/vnd.microsoft.datawrangler.viewer.v0+json": {
       "columns": [
        {
         "name": "index",
         "rawType": "int64",
         "type": "integer"
        },
        {
         "name": "Hair Loss",
         "rawType": "int64",
         "type": "integer"
        }
       ],
       "conversionMethod": "pd.DataFrame",
       "ref": "249e6546-389b-4a42-b17a-f3553e6b2480",
       "rows": [
        [
         "0",
         "0"
        ],
        [
         "1",
         "0"
        ],
        [
         "2",
         "0"
        ],
        [
         "3",
         "0"
        ],
        [
         "4",
         "1"
        ],
        [
         "5",
         "1"
        ],
        [
         "6",
         "1"
        ],
        [
         "7",
         "0"
        ],
        [
         "8",
         "1"
        ],
        [
         "9",
         "0"
        ],
        [
         "10",
         "0"
        ],
        [
         "11",
         "1"
        ],
        [
         "12",
         "1"
        ],
        [
         "13",
         "0"
        ],
        [
         "14",
         "0"
        ],
        [
         "15",
         "0"
        ],
        [
         "16",
         "0"
        ],
        [
         "17",
         "1"
        ],
        [
         "18",
         "0"
        ],
        [
         "19",
         "1"
        ],
        [
         "20",
         "1"
        ],
        [
         "21",
         "1"
        ],
        [
         "22",
         "0"
        ],
        [
         "23",
         "1"
        ],
        [
         "24",
         "0"
        ],
        [
         "25",
         "0"
        ],
        [
         "26",
         "0"
        ],
        [
         "27",
         "0"
        ],
        [
         "28",
         "0"
        ],
        [
         "29",
         "0"
        ],
        [
         "30",
         "0"
        ],
        [
         "31",
         "1"
        ],
        [
         "32",
         "0"
        ],
        [
         "33",
         "1"
        ],
        [
         "34",
         "1"
        ],
        [
         "35",
         "0"
        ],
        [
         "36",
         "1"
        ],
        [
         "37",
         "1"
        ],
        [
         "38",
         "0"
        ],
        [
         "39",
         "0"
        ],
        [
         "40",
         "0"
        ],
        [
         "41",
         "1"
        ],
        [
         "42",
         "1"
        ],
        [
         "43",
         "1"
        ],
        [
         "44",
         "1"
        ],
        [
         "45",
         "1"
        ],
        [
         "46",
         "0"
        ],
        [
         "47",
         "1"
        ],
        [
         "48",
         "1"
        ],
        [
         "49",
         "0"
        ]
       ],
       "shape": {
        "columns": 1,
        "rows": 999
       }
      },
      "text/html": [
       "<div>\n",
       "<style scoped>\n",
       "    .dataframe tbody tr th:only-of-type {\n",
       "        vertical-align: middle;\n",
       "    }\n",
       "\n",
       "    .dataframe tbody tr th {\n",
       "        vertical-align: top;\n",
       "    }\n",
       "\n",
       "    .dataframe thead th {\n",
       "        text-align: right;\n",
       "    }\n",
       "</style>\n",
       "<table border=\"1\" class=\"dataframe\">\n",
       "  <thead>\n",
       "    <tr style=\"text-align: right;\">\n",
       "      <th></th>\n",
       "      <th>Hair Loss</th>\n",
       "    </tr>\n",
       "  </thead>\n",
       "  <tbody>\n",
       "    <tr>\n",
       "      <th>0</th>\n",
       "      <td>0</td>\n",
       "    </tr>\n",
       "    <tr>\n",
       "      <th>1</th>\n",
       "      <td>0</td>\n",
       "    </tr>\n",
       "    <tr>\n",
       "      <th>2</th>\n",
       "      <td>0</td>\n",
       "    </tr>\n",
       "    <tr>\n",
       "      <th>3</th>\n",
       "      <td>0</td>\n",
       "    </tr>\n",
       "    <tr>\n",
       "      <th>4</th>\n",
       "      <td>1</td>\n",
       "    </tr>\n",
       "    <tr>\n",
       "      <th>...</th>\n",
       "      <td>...</td>\n",
       "    </tr>\n",
       "    <tr>\n",
       "      <th>994</th>\n",
       "      <td>1</td>\n",
       "    </tr>\n",
       "    <tr>\n",
       "      <th>995</th>\n",
       "      <td>0</td>\n",
       "    </tr>\n",
       "    <tr>\n",
       "      <th>996</th>\n",
       "      <td>1</td>\n",
       "    </tr>\n",
       "    <tr>\n",
       "      <th>997</th>\n",
       "      <td>1</td>\n",
       "    </tr>\n",
       "    <tr>\n",
       "      <th>998</th>\n",
       "      <td>1</td>\n",
       "    </tr>\n",
       "  </tbody>\n",
       "</table>\n",
       "<p>999 rows × 1 columns</p>\n",
       "</div>"
      ],
      "text/plain": [
       "     Hair Loss\n",
       "0            0\n",
       "1            0\n",
       "2            0\n",
       "3            0\n",
       "4            1\n",
       "..         ...\n",
       "994          1\n",
       "995          0\n",
       "996          1\n",
       "997          1\n",
       "998          1\n",
       "\n",
       "[999 rows x 1 columns]"
      ]
     },
     "execution_count": 142,
     "metadata": {},
     "output_type": "execute_result"
    }
   ],
   "source": [
    "#target variable \n",
    "y=df[[\"Hair Loss\"]]\n",
    "y"
   ]
  },
  {
   "cell_type": "code",
   "execution_count": 143,
   "metadata": {},
   "outputs": [],
   "source": [
    "# It is the part of data spliting \n",
    "# train test split \n",
    "from sklearn.model_selection import train_test_split\n",
    "x_train,x_test,y_train,y_test = train_test_split(x,y,test_size=0.2,random_state = 42)"
   ]
  },
  {
   "cell_type": "code",
   "execution_count": 144,
   "metadata": {},
   "outputs": [
    {
     "data": {
      "application/vnd.microsoft.datawrangler.viewer.v0+json": {
       "columns": [
        {
         "name": "index",
         "rawType": "int64",
         "type": "integer"
        },
        {
         "name": "Id",
         "rawType": "int64",
         "type": "integer"
        },
        {
         "name": "Age",
         "rawType": "int64",
         "type": "integer"
        },
        {
         "name": "Genetics",
         "rawType": "float64",
         "type": "float"
        },
        {
         "name": "Hormonal Changes",
         "rawType": "float64",
         "type": "float"
        },
        {
         "name": "Medical Conditions",
         "rawType": "float64",
         "type": "float"
        },
        {
         "name": "Medications & Treatments",
         "rawType": "float64",
         "type": "float"
        },
        {
         "name": "Nutritional Deficiencies ",
         "rawType": "float64",
         "type": "float"
        },
        {
         "name": "Stress",
         "rawType": "float64",
         "type": "float"
        },
        {
         "name": "Weight Loss ",
         "rawType": "float64",
         "type": "float"
        }
       ],
       "conversionMethod": "pd.DataFrame",
       "ref": "d9f4fa08-32f2-4873-b8d2-fa362ea5b10d",
       "rows": [
        [
         "778",
         "132098",
         "29",
         "1.0",
         "0.0",
         "7.0",
         "10.0",
         "0.0",
         "2.0",
         "0.0"
        ],
        [
         "286",
         "130376",
         "27",
         "0.0",
         "0.0",
         "6.0",
         "5.0",
         "0.0",
         "0.0",
         "0.0"
        ],
        [
         "165",
         "180554",
         "49",
         "0.0",
         "0.0",
         "5.0",
         "1.0",
         "6.0",
         "1.0",
         "0.0"
        ],
        [
         "960",
         "171377",
         "38",
         "1.0",
         "0.0",
         "8.0",
         "9.0",
         "4.0",
         "2.0",
         "1.0"
        ],
        [
         "493",
         "115151",
         "45",
         "0.0",
         "0.0",
         "10.0",
         "5.0",
         "10.0",
         "2.0",
         "0.0"
        ],
        [
         "985",
         "136269",
         "33",
         "1.0",
         "0.0",
         "9.0",
         "4.0",
         "0.0",
         "1.0",
         "1.0"
        ],
        [
         "65",
         "174267",
         "25",
         "1.0",
         "1.0",
         "2.0",
         "2.0",
         "8.0",
         "0.0",
         "1.0"
        ],
        [
         "141",
         "158241",
         "27",
         "0.0",
         "1.0",
         "1.0",
         "5.0",
         "8.0",
         "0.0",
         "1.0"
        ],
        [
         "244",
         "180544",
         "20",
         "0.0",
         "1.0",
         "0.0",
         "10.0",
         "0.0",
         "1.0",
         "0.0"
        ],
        [
         "826",
         "180395",
         "22",
         "1.0",
         "1.0",
         "6.0",
         "10.0",
         "3.0",
         "2.0",
         "1.0"
        ],
        [
         "801",
         "179914",
         "37",
         "1.0",
         "0.0",
         "0.0",
         "6.0",
         "7.0",
         "0.0",
         "1.0"
        ],
        [
         "310",
         "135813",
         "22",
         "1.0",
         "0.0",
         "2.0",
         "7.0",
         "3.0",
         "1.0",
         "1.0"
        ],
        [
         "830",
         "158275",
         "34",
         "1.0",
         "1.0",
         "4.0",
         "4.0",
         "10.0",
         "0.0",
         "1.0"
        ],
        [
         "589",
         "124222",
         "49",
         "0.0",
         "0.0",
         "5.0",
         "1.0",
         "8.0",
         "0.0",
         "1.0"
        ],
        [
         "450",
         "153329",
         "29",
         "1.0",
         "0.0",
         "6.0",
         "6.0",
         "2.0",
         "1.0",
         "1.0"
        ],
        [
         "256",
         "133865",
         "48",
         "0.0",
         "0.0",
         "4.0",
         "2.0",
         "8.0",
         "0.0",
         "1.0"
        ],
        [
         "977",
         "128405",
         "25",
         "1.0",
         "1.0",
         "0.0",
         "0.0",
         "9.0",
         "1.0",
         "0.0"
        ],
        [
         "381",
         "170695",
         "43",
         "1.0",
         "1.0",
         "3.0",
         "10.0",
         "10.0",
         "2.0",
         "0.0"
        ],
        [
         "478",
         "136484",
         "38",
         "1.0",
         "1.0",
         "1.0",
         "2.0",
         "2.0",
         "2.0",
         "0.0"
        ],
        [
         "49",
         "147982",
         "38",
         "0.0",
         "0.0",
         "8.0",
         "7.0",
         "7.0",
         "2.0",
         "1.0"
        ],
        [
         "939",
         "189230",
         "32",
         "0.0",
         "0.0",
         "4.0",
         "5.0",
         "2.0",
         "1.0",
         "0.0"
        ],
        [
         "254",
         "197508",
         "45",
         "1.0",
         "0.0",
         "10.0",
         "0.0",
         "6.0",
         "2.0",
         "0.0"
        ],
        [
         "543",
         "121286",
         "36",
         "1.0",
         "1.0",
         "4.0",
         "2.0",
         "1.0",
         "0.0",
         "1.0"
        ],
        [
         "750",
         "186607",
         "31",
         "0.0",
         "0.0",
         "6.0",
         "7.0",
         "4.0",
         "0.0",
         "1.0"
        ],
        [
         "903",
         "120608",
         "26",
         "0.0",
         "0.0",
         "1.0",
         "9.0",
         "4.0",
         "1.0",
         "0.0"
        ],
        [
         "535",
         "194524",
         "32",
         "0.0",
         "1.0",
         "6.0",
         "3.0",
         "4.0",
         "2.0",
         "0.0"
        ],
        [
         "916",
         "128614",
         "38",
         "0.0",
         "1.0",
         "3.0",
         "5.0",
         "5.0",
         "2.0",
         "1.0"
        ],
        [
         "993",
         "196218",
         "23",
         "0.0",
         "1.0",
         "8.0",
         "7.0",
         "3.0",
         "2.0",
         "1.0"
        ],
        [
         "479",
         "145431",
         "37",
         "0.0",
         "1.0",
         "7.0",
         "5.0",
         "9.0",
         "2.0",
         "1.0"
        ],
        [
         "909",
         "138590",
         "28",
         "1.0",
         "0.0",
         "8.0",
         "2.0",
         "0.0",
         "0.0",
         "0.0"
        ],
        [
         "33",
         "144334",
         "24",
         "1.0",
         "0.0",
         "7.0",
         "10.0",
         "6.0",
         "0.0",
         "1.0"
        ],
        [
         "31",
         "133091",
         "45",
         "0.0",
         "1.0",
         "2.0",
         "1.0",
         "1.0",
         "2.0",
         "1.0"
        ],
        [
         "231",
         "181937",
         "32",
         "1.0",
         "1.0",
         "1.0",
         "9.0",
         "0.0",
         "1.0",
         "1.0"
        ],
        [
         "746",
         "152276",
         "33",
         "0.0",
         "1.0",
         "3.0",
         "9.0",
         "9.0",
         "1.0",
         "1.0"
        ],
        [
         "192",
         "169583",
         "24",
         "0.0",
         "0.0",
         "0.0",
         "3.0",
         "1.0",
         "2.0",
         "0.0"
        ],
        [
         "332",
         "179608",
         "48",
         "1.0",
         "1.0",
         "1.0",
         "9.0",
         "8.0",
         "0.0",
         "1.0"
        ],
        [
         "3",
         "118261",
         "46",
         "1.0",
         "1.0",
         "7.0",
         "1.0",
         "0.0",
         "2.0",
         "0.0"
        ],
        [
         "204",
         "127139",
         "27",
         "1.0",
         "1.0",
         "7.0",
         "6.0",
         "6.0",
         "2.0",
         "0.0"
        ],
        [
         "323",
         "180503",
         "47",
         "1.0",
         "0.0",
         "5.0",
         "0.0",
         "10.0",
         "0.0",
         "0.0"
        ],
        [
         "572",
         "146783",
         "42",
         "1.0",
         "1.0",
         "4.0",
         "5.0",
         "10.0",
         "1.0",
         "0.0"
        ],
        [
         "305",
         "114276",
         "38",
         "1.0",
         "1.0",
         "3.0",
         "6.0",
         "10.0",
         "2.0",
         "1.0"
        ],
        [
         "109",
         "180856",
         "50",
         "0.0",
         "0.0",
         "5.0",
         "0.0",
         "8.0",
         "1.0",
         "0.0"
        ],
        [
         "482",
         "112416",
         "41",
         "0.0",
         "0.0",
         "10.0",
         "4.0",
         "7.0",
         "0.0",
         "1.0"
        ],
        [
         "77",
         "194962",
         "49",
         "0.0",
         "1.0",
         "5.0",
         "6.0",
         "9.0",
         "0.0",
         "1.0"
        ],
        [
         "84",
         "176953",
         "43",
         "1.0",
         "0.0",
         "7.0",
         "3.0",
         "4.0",
         "1.0",
         "1.0"
        ],
        [
         "428",
         "196877",
         "37",
         "0.0",
         "0.0",
         "1.0",
         "3.0",
         "6.0",
         "2.0",
         "0.0"
        ],
        [
         "82",
         "123676",
         "18",
         "0.0",
         "1.0",
         "5.0",
         "3.0",
         "0.0",
         "0.0",
         "0.0"
        ],
        [
         "527",
         "162469",
         "44",
         "0.0",
         "1.0",
         "2.0",
         "7.0",
         "5.0",
         "2.0",
         "0.0"
        ],
        [
         "551",
         "112587",
         "43",
         "1.0",
         "0.0",
         "8.0",
         "10.0",
         "4.0",
         "1.0",
         "1.0"
        ],
        [
         "362",
         "160168",
         "48",
         "1.0",
         "0.0",
         "10.0",
         "2.0",
         "5.0",
         "2.0",
         "1.0"
        ]
       ],
       "shape": {
        "columns": 9,
        "rows": 799
       }
      },
      "text/html": [
       "<div>\n",
       "<style scoped>\n",
       "    .dataframe tbody tr th:only-of-type {\n",
       "        vertical-align: middle;\n",
       "    }\n",
       "\n",
       "    .dataframe tbody tr th {\n",
       "        vertical-align: top;\n",
       "    }\n",
       "\n",
       "    .dataframe thead th {\n",
       "        text-align: right;\n",
       "    }\n",
       "</style>\n",
       "<table border=\"1\" class=\"dataframe\">\n",
       "  <thead>\n",
       "    <tr style=\"text-align: right;\">\n",
       "      <th></th>\n",
       "      <th>Id</th>\n",
       "      <th>Age</th>\n",
       "      <th>Genetics</th>\n",
       "      <th>Hormonal Changes</th>\n",
       "      <th>Medical Conditions</th>\n",
       "      <th>Medications &amp; Treatments</th>\n",
       "      <th>Nutritional Deficiencies</th>\n",
       "      <th>Stress</th>\n",
       "      <th>Weight Loss</th>\n",
       "    </tr>\n",
       "  </thead>\n",
       "  <tbody>\n",
       "    <tr>\n",
       "      <th>778</th>\n",
       "      <td>132098</td>\n",
       "      <td>29</td>\n",
       "      <td>1.0</td>\n",
       "      <td>0.0</td>\n",
       "      <td>7.0</td>\n",
       "      <td>10.0</td>\n",
       "      <td>0.0</td>\n",
       "      <td>2.0</td>\n",
       "      <td>0.0</td>\n",
       "    </tr>\n",
       "    <tr>\n",
       "      <th>286</th>\n",
       "      <td>130376</td>\n",
       "      <td>27</td>\n",
       "      <td>0.0</td>\n",
       "      <td>0.0</td>\n",
       "      <td>6.0</td>\n",
       "      <td>5.0</td>\n",
       "      <td>0.0</td>\n",
       "      <td>0.0</td>\n",
       "      <td>0.0</td>\n",
       "    </tr>\n",
       "    <tr>\n",
       "      <th>165</th>\n",
       "      <td>180554</td>\n",
       "      <td>49</td>\n",
       "      <td>0.0</td>\n",
       "      <td>0.0</td>\n",
       "      <td>5.0</td>\n",
       "      <td>1.0</td>\n",
       "      <td>6.0</td>\n",
       "      <td>1.0</td>\n",
       "      <td>0.0</td>\n",
       "    </tr>\n",
       "    <tr>\n",
       "      <th>960</th>\n",
       "      <td>171377</td>\n",
       "      <td>38</td>\n",
       "      <td>1.0</td>\n",
       "      <td>0.0</td>\n",
       "      <td>8.0</td>\n",
       "      <td>9.0</td>\n",
       "      <td>4.0</td>\n",
       "      <td>2.0</td>\n",
       "      <td>1.0</td>\n",
       "    </tr>\n",
       "    <tr>\n",
       "      <th>493</th>\n",
       "      <td>115151</td>\n",
       "      <td>45</td>\n",
       "      <td>0.0</td>\n",
       "      <td>0.0</td>\n",
       "      <td>10.0</td>\n",
       "      <td>5.0</td>\n",
       "      <td>10.0</td>\n",
       "      <td>2.0</td>\n",
       "      <td>0.0</td>\n",
       "    </tr>\n",
       "    <tr>\n",
       "      <th>...</th>\n",
       "      <td>...</td>\n",
       "      <td>...</td>\n",
       "      <td>...</td>\n",
       "      <td>...</td>\n",
       "      <td>...</td>\n",
       "      <td>...</td>\n",
       "      <td>...</td>\n",
       "      <td>...</td>\n",
       "      <td>...</td>\n",
       "    </tr>\n",
       "    <tr>\n",
       "      <th>106</th>\n",
       "      <td>151443</td>\n",
       "      <td>34</td>\n",
       "      <td>0.0</td>\n",
       "      <td>1.0</td>\n",
       "      <td>10.0</td>\n",
       "      <td>2.0</td>\n",
       "      <td>5.0</td>\n",
       "      <td>0.0</td>\n",
       "      <td>1.0</td>\n",
       "    </tr>\n",
       "    <tr>\n",
       "      <th>270</th>\n",
       "      <td>184325</td>\n",
       "      <td>35</td>\n",
       "      <td>1.0</td>\n",
       "      <td>1.0</td>\n",
       "      <td>1.0</td>\n",
       "      <td>2.0</td>\n",
       "      <td>0.0</td>\n",
       "      <td>0.0</td>\n",
       "      <td>0.0</td>\n",
       "    </tr>\n",
       "    <tr>\n",
       "      <th>860</th>\n",
       "      <td>151918</td>\n",
       "      <td>34</td>\n",
       "      <td>1.0</td>\n",
       "      <td>0.0</td>\n",
       "      <td>9.0</td>\n",
       "      <td>7.0</td>\n",
       "      <td>10.0</td>\n",
       "      <td>1.0</td>\n",
       "      <td>0.0</td>\n",
       "    </tr>\n",
       "    <tr>\n",
       "      <th>435</th>\n",
       "      <td>189092</td>\n",
       "      <td>48</td>\n",
       "      <td>1.0</td>\n",
       "      <td>1.0</td>\n",
       "      <td>0.0</td>\n",
       "      <td>0.0</td>\n",
       "      <td>9.0</td>\n",
       "      <td>1.0</td>\n",
       "      <td>1.0</td>\n",
       "    </tr>\n",
       "    <tr>\n",
       "      <th>102</th>\n",
       "      <td>179153</td>\n",
       "      <td>19</td>\n",
       "      <td>1.0</td>\n",
       "      <td>0.0</td>\n",
       "      <td>6.0</td>\n",
       "      <td>4.0</td>\n",
       "      <td>7.0</td>\n",
       "      <td>2.0</td>\n",
       "      <td>0.0</td>\n",
       "    </tr>\n",
       "  </tbody>\n",
       "</table>\n",
       "<p>799 rows × 9 columns</p>\n",
       "</div>"
      ],
      "text/plain": [
       "         Id  Age  Genetics  Hormonal Changes  Medical Conditions  \\\n",
       "778  132098   29       1.0               0.0                 7.0   \n",
       "286  130376   27       0.0               0.0                 6.0   \n",
       "165  180554   49       0.0               0.0                 5.0   \n",
       "960  171377   38       1.0               0.0                 8.0   \n",
       "493  115151   45       0.0               0.0                10.0   \n",
       "..      ...  ...       ...               ...                 ...   \n",
       "106  151443   34       0.0               1.0                10.0   \n",
       "270  184325   35       1.0               1.0                 1.0   \n",
       "860  151918   34       1.0               0.0                 9.0   \n",
       "435  189092   48       1.0               1.0                 0.0   \n",
       "102  179153   19       1.0               0.0                 6.0   \n",
       "\n",
       "     Medications & Treatments  Nutritional Deficiencies   Stress  Weight Loss   \n",
       "778                      10.0                        0.0     2.0           0.0  \n",
       "286                       5.0                        0.0     0.0           0.0  \n",
       "165                       1.0                        6.0     1.0           0.0  \n",
       "960                       9.0                        4.0     2.0           1.0  \n",
       "493                       5.0                       10.0     2.0           0.0  \n",
       "..                        ...                        ...     ...           ...  \n",
       "106                       2.0                        5.0     0.0           1.0  \n",
       "270                       2.0                        0.0     0.0           0.0  \n",
       "860                       7.0                       10.0     1.0           0.0  \n",
       "435                       0.0                        9.0     1.0           1.0  \n",
       "102                       4.0                        7.0     2.0           0.0  \n",
       "\n",
       "[799 rows x 9 columns]"
      ]
     },
     "execution_count": 144,
     "metadata": {},
     "output_type": "execute_result"
    }
   ],
   "source": [
    "x_train"
   ]
  },
  {
   "cell_type": "code",
   "execution_count": 145,
   "metadata": {},
   "outputs": [
    {
     "data": {
      "application/vnd.microsoft.datawrangler.viewer.v0+json": {
       "columns": [
        {
         "name": "index",
         "rawType": "int64",
         "type": "integer"
        },
        {
         "name": "Hair Loss",
         "rawType": "int64",
         "type": "integer"
        }
       ],
       "conversionMethod": "pd.DataFrame",
       "ref": "5ba85432-8966-4681-8871-0ed2a0bb8a8b",
       "rows": [
        [
         "778",
         "1"
        ],
        [
         "286",
         "0"
        ],
        [
         "165",
         "0"
        ],
        [
         "960",
         "0"
        ],
        [
         "493",
         "0"
        ],
        [
         "985",
         "0"
        ],
        [
         "65",
         "0"
        ],
        [
         "141",
         "1"
        ],
        [
         "244",
         "1"
        ],
        [
         "826",
         "1"
        ],
        [
         "801",
         "1"
        ],
        [
         "310",
         "1"
        ],
        [
         "830",
         "0"
        ],
        [
         "589",
         "1"
        ],
        [
         "450",
         "1"
        ],
        [
         "256",
         "0"
        ],
        [
         "977",
         "0"
        ],
        [
         "381",
         "1"
        ],
        [
         "478",
         "1"
        ],
        [
         "49",
         "0"
        ],
        [
         "939",
         "0"
        ],
        [
         "254",
         "0"
        ],
        [
         "543",
         "0"
        ],
        [
         "750",
         "0"
        ],
        [
         "903",
         "0"
        ],
        [
         "535",
         "1"
        ],
        [
         "916",
         "0"
        ],
        [
         "993",
         "0"
        ],
        [
         "479",
         "1"
        ],
        [
         "909",
         "1"
        ],
        [
         "33",
         "1"
        ],
        [
         "31",
         "1"
        ],
        [
         "231",
         "1"
        ],
        [
         "746",
         "0"
        ],
        [
         "192",
         "0"
        ],
        [
         "332",
         "1"
        ],
        [
         "3",
         "0"
        ],
        [
         "204",
         "1"
        ],
        [
         "323",
         "1"
        ],
        [
         "572",
         "0"
        ],
        [
         "305",
         "0"
        ],
        [
         "109",
         "1"
        ],
        [
         "482",
         "0"
        ],
        [
         "77",
         "0"
        ],
        [
         "84",
         "0"
        ],
        [
         "428",
         "1"
        ],
        [
         "82",
         "0"
        ],
        [
         "527",
         "1"
        ],
        [
         "551",
         "0"
        ],
        [
         "362",
         "0"
        ]
       ],
       "shape": {
        "columns": 1,
        "rows": 799
       }
      },
      "text/html": [
       "<div>\n",
       "<style scoped>\n",
       "    .dataframe tbody tr th:only-of-type {\n",
       "        vertical-align: middle;\n",
       "    }\n",
       "\n",
       "    .dataframe tbody tr th {\n",
       "        vertical-align: top;\n",
       "    }\n",
       "\n",
       "    .dataframe thead th {\n",
       "        text-align: right;\n",
       "    }\n",
       "</style>\n",
       "<table border=\"1\" class=\"dataframe\">\n",
       "  <thead>\n",
       "    <tr style=\"text-align: right;\">\n",
       "      <th></th>\n",
       "      <th>Hair Loss</th>\n",
       "    </tr>\n",
       "  </thead>\n",
       "  <tbody>\n",
       "    <tr>\n",
       "      <th>778</th>\n",
       "      <td>1</td>\n",
       "    </tr>\n",
       "    <tr>\n",
       "      <th>286</th>\n",
       "      <td>0</td>\n",
       "    </tr>\n",
       "    <tr>\n",
       "      <th>165</th>\n",
       "      <td>0</td>\n",
       "    </tr>\n",
       "    <tr>\n",
       "      <th>960</th>\n",
       "      <td>0</td>\n",
       "    </tr>\n",
       "    <tr>\n",
       "      <th>493</th>\n",
       "      <td>0</td>\n",
       "    </tr>\n",
       "    <tr>\n",
       "      <th>...</th>\n",
       "      <td>...</td>\n",
       "    </tr>\n",
       "    <tr>\n",
       "      <th>106</th>\n",
       "      <td>0</td>\n",
       "    </tr>\n",
       "    <tr>\n",
       "      <th>270</th>\n",
       "      <td>0</td>\n",
       "    </tr>\n",
       "    <tr>\n",
       "      <th>860</th>\n",
       "      <td>0</td>\n",
       "    </tr>\n",
       "    <tr>\n",
       "      <th>435</th>\n",
       "      <td>1</td>\n",
       "    </tr>\n",
       "    <tr>\n",
       "      <th>102</th>\n",
       "      <td>1</td>\n",
       "    </tr>\n",
       "  </tbody>\n",
       "</table>\n",
       "<p>799 rows × 1 columns</p>\n",
       "</div>"
      ],
      "text/plain": [
       "     Hair Loss\n",
       "778          1\n",
       "286          0\n",
       "165          0\n",
       "960          0\n",
       "493          0\n",
       "..         ...\n",
       "106          0\n",
       "270          0\n",
       "860          0\n",
       "435          1\n",
       "102          1\n",
       "\n",
       "[799 rows x 1 columns]"
      ]
     },
     "execution_count": 145,
     "metadata": {},
     "output_type": "execute_result"
    }
   ],
   "source": [
    "y_train"
   ]
  },
  {
   "cell_type": "code",
   "execution_count": 146,
   "metadata": {},
   "outputs": [
    {
     "data": {
      "application/vnd.microsoft.datawrangler.viewer.v0+json": {
       "columns": [
        {
         "name": "index",
         "rawType": "int64",
         "type": "integer"
        },
        {
         "name": "Id",
         "rawType": "int64",
         "type": "integer"
        },
        {
         "name": "Age",
         "rawType": "int64",
         "type": "integer"
        },
        {
         "name": "Genetics",
         "rawType": "float64",
         "type": "float"
        },
        {
         "name": "Hormonal Changes",
         "rawType": "float64",
         "type": "float"
        },
        {
         "name": "Medical Conditions",
         "rawType": "float64",
         "type": "float"
        },
        {
         "name": "Medications & Treatments",
         "rawType": "float64",
         "type": "float"
        },
        {
         "name": "Nutritional Deficiencies ",
         "rawType": "float64",
         "type": "float"
        },
        {
         "name": "Stress",
         "rawType": "float64",
         "type": "float"
        },
        {
         "name": "Weight Loss ",
         "rawType": "float64",
         "type": "float"
        }
       ],
       "conversionMethod": "pd.DataFrame",
       "ref": "706b0c26-095a-4739-9e4a-efa11f14bf56",
       "rows": [
        [
         "453",
         "111376",
         "23",
         "0.0",
         "1.0",
         "10.0",
         "6.0",
         "3.0",
         "0.0",
         "1.0"
        ],
        [
         "793",
         "174372",
         "50",
         "0.0",
         "1.0",
         "6.0",
         "10.0",
         "10.0",
         "2.0",
         "1.0"
        ],
        [
         "209",
         "159160",
         "48",
         "0.0",
         "0.0",
         "6.0",
         "10.0",
         "7.0",
         "0.0",
         "0.0"
        ],
        [
         "309",
         "185085",
         "33",
         "1.0",
         "0.0",
         "4.0",
         "6.0",
         "10.0",
         "2.0",
         "0.0"
        ],
        [
         "740",
         "133998",
         "30",
         "0.0",
         "0.0",
         "0.0",
         "4.0",
         "1.0",
         "1.0",
         "1.0"
        ],
        [
         "578",
         "154095",
         "39",
         "1.0",
         "1.0",
         "2.0",
         "1.0",
         "4.0",
         "0.0",
         "0.0"
        ],
        [
         "895",
         "129264",
         "44",
         "0.0",
         "0.0",
         "2.0",
         "7.0",
         "4.0",
         "0.0",
         "1.0"
        ],
        [
         "545",
         "123808",
         "18",
         "0.0",
         "1.0",
         "9.0",
         "2.0",
         "10.0",
         "1.0",
         "0.0"
        ],
        [
         "436",
         "198711",
         "33",
         "1.0",
         "0.0",
         "6.0",
         "0.0",
         "7.0",
         "2.0",
         "0.0"
        ],
        [
         "678",
         "152637",
         "36",
         "1.0",
         "0.0",
         "9.0",
         "9.0",
         "4.0",
         "1.0",
         "0.0"
        ],
        [
         "935",
         "193974",
         "45",
         "0.0",
         "0.0",
         "1.0",
         "3.0",
         "7.0",
         "0.0",
         "0.0"
        ],
        [
         "635",
         "196976",
         "23",
         "0.0",
         "1.0",
         "8.0",
         "3.0",
         "3.0",
         "2.0",
         "1.0"
        ],
        [
         "866",
         "172639",
         "47",
         "1.0",
         "1.0",
         "5.0",
         "0.0",
         "7.0",
         "1.0",
         "1.0"
        ],
        [
         "603",
         "177647",
         "45",
         "1.0",
         "1.0",
         "10.0",
         "5.0",
         "1.0",
         "0.0",
         "1.0"
        ],
        [
         "720",
         "165774",
         "22",
         "1.0",
         "0.0",
         "7.0",
         "10.0",
         "3.0",
         "2.0",
         "0.0"
        ],
        [
         "70",
         "128455",
         "23",
         "1.0",
         "0.0",
         "0.0",
         "10.0",
         "3.0",
         "2.0",
         "0.0"
        ],
        [
         "824",
         "149279",
         "49",
         "1.0",
         "1.0",
         "5.0",
         "1.0",
         "8.0",
         "1.0",
         "0.0"
        ],
        [
         "468",
         "145504",
         "29",
         "0.0",
         "0.0",
         "6.0",
         "0.0",
         "5.0",
         "0.0",
         "1.0"
        ],
        [
         "382",
         "189001",
         "29",
         "1.0",
         "1.0",
         "10.0",
         "10.0",
         "1.0",
         "2.0",
         "1.0"
        ],
        [
         "208",
         "191665",
         "39",
         "1.0",
         "0.0",
         "10.0",
         "4.0",
         "10.0",
         "1.0",
         "0.0"
        ],
        [
         "570",
         "116294",
         "50",
         "1.0",
         "0.0",
         "5.0",
         "0.0",
         "10.0",
         "1.0",
         "1.0"
        ],
        [
         "377",
         "136309",
         "19",
         "1.0",
         "1.0",
         "0.0",
         "9.0",
         "7.0",
         "1.0",
         "1.0"
        ],
        [
         "898",
         "197000",
         "40",
         "0.0",
         "1.0",
         "5.0",
         "3.0",
         "8.0",
         "0.0",
         "0.0"
        ],
        [
         "887",
         "159120",
         "39",
         "1.0",
         "1.0",
         "1.0",
         "7.0",
         "10.0",
         "0.0",
         "0.0"
        ],
        [
         "901",
         "165640",
         "23",
         "0.0",
         "0.0",
         "7.0",
         "2.0",
         "3.0",
         "1.0",
         "1.0"
        ],
        [
         "59",
         "110488",
         "35",
         "0.0",
         "0.0",
         "1.0",
         "5.0",
         "0.0",
         "2.0",
         "0.0"
        ],
        [
         "168",
         "143097",
         "43",
         "1.0",
         "0.0",
         "9.0",
         "4.0",
         "7.0",
         "0.0",
         "0.0"
        ],
        [
         "249",
         "113227",
         "39",
         "1.0",
         "1.0",
         "9.0",
         "3.0",
         "0.0",
         "2.0",
         "0.0"
        ],
        [
         "810",
         "128487",
         "30",
         "0.0",
         "1.0",
         "0.0",
         "2.0",
         "4.0",
         "1.0",
         "1.0"
        ],
        [
         "344",
         "165273",
         "23",
         "0.0",
         "1.0",
         "1.0",
         "10.0",
         "3.0",
         "0.0",
         "0.0"
        ],
        [
         "595",
         "154790",
         "31",
         "0.0",
         "1.0",
         "1.0",
         "4.0",
         "2.0",
         "0.0",
         "0.0"
        ],
        [
         "318",
         "145189",
         "24",
         "1.0",
         "0.0",
         "1.0",
         "3.0",
         "8.0",
         "2.0",
         "0.0"
        ],
        [
         "625",
         "165340",
         "50",
         "1.0",
         "1.0",
         "5.0",
         "3.0",
         "5.0",
         "0.0",
         "0.0"
        ],
        [
         "542",
         "165000",
         "41",
         "0.0",
         "0.0",
         "1.0",
         "7.0",
         "1.0",
         "1.0",
         "0.0"
        ],
        [
         "622",
         "115399",
         "43",
         "0.0",
         "1.0",
         "7.0",
         "10.0",
         "4.0",
         "0.0",
         "0.0"
        ],
        [
         "694",
         "178812",
         "35",
         "0.0",
         "0.0",
         "4.0",
         "6.0",
         "0.0",
         "2.0",
         "1.0"
        ],
        [
         "158",
         "184677",
         "33",
         "0.0",
         "0.0",
         "9.0",
         "10.0",
         "9.0",
         "0.0",
         "1.0"
        ],
        [
         "198",
         "118011",
         "30",
         "1.0",
         "1.0",
         "10.0",
         "1.0",
         "4.0",
         "2.0",
         "0.0"
        ],
        [
         "662",
         "170887",
         "21",
         "0.0",
         "0.0",
         "10.0",
         "1.0",
         "3.0",
         "0.0",
         "0.0"
        ],
        [
         "597",
         "138122",
         "28",
         "1.0",
         "1.0",
         "0.0",
         "4.0",
         "1.0",
         "1.0",
         "0.0"
        ],
        [
         "788",
         "117509",
         "35",
         "1.0",
         "0.0",
         "3.0",
         "2.0",
         "7.0",
         "2.0",
         "0.0"
        ],
        [
         "380",
         "115049",
         "36",
         "1.0",
         "1.0",
         "7.0",
         "7.0",
         "9.0",
         "0.0",
         "0.0"
        ],
        [
         "937",
         "127598",
         "38",
         "0.0",
         "1.0",
         "10.0",
         "3.0",
         "5.0",
         "0.0",
         "1.0"
        ],
        [
         "425",
         "170125",
         "41",
         "0.0",
         "1.0",
         "6.0",
         "7.0",
         "4.0",
         "2.0",
         "0.0"
        ],
        [
         "199",
         "167742",
         "44",
         "1.0",
         "0.0",
         "0.0",
         "3.0",
         "10.0",
         "0.0",
         "1.0"
        ],
        [
         "576",
         "158697",
         "37",
         "0.0",
         "0.0",
         "10.0",
         "4.0",
         "10.0",
         "1.0",
         "1.0"
        ],
        [
         "266",
         "164224",
         "46",
         "1.0",
         "0.0",
         "3.0",
         "9.0",
         "4.0",
         "2.0",
         "0.0"
        ],
        [
         "737",
         "166446",
         "35",
         "0.0",
         "0.0",
         "9.0",
         "7.0",
         "0.0",
         "1.0",
         "0.0"
        ],
        [
         "76",
         "159164",
         "22",
         "0.0",
         "0.0",
         "9.0",
         "7.0",
         "3.0",
         "0.0",
         "0.0"
        ],
        [
         "870",
         "148574",
         "45",
         "0.0",
         "1.0",
         "1.0",
         "10.0",
         "9.0",
         "0.0",
         "0.0"
        ]
       ],
       "shape": {
        "columns": 9,
        "rows": 200
       }
      },
      "text/html": [
       "<div>\n",
       "<style scoped>\n",
       "    .dataframe tbody tr th:only-of-type {\n",
       "        vertical-align: middle;\n",
       "    }\n",
       "\n",
       "    .dataframe tbody tr th {\n",
       "        vertical-align: top;\n",
       "    }\n",
       "\n",
       "    .dataframe thead th {\n",
       "        text-align: right;\n",
       "    }\n",
       "</style>\n",
       "<table border=\"1\" class=\"dataframe\">\n",
       "  <thead>\n",
       "    <tr style=\"text-align: right;\">\n",
       "      <th></th>\n",
       "      <th>Id</th>\n",
       "      <th>Age</th>\n",
       "      <th>Genetics</th>\n",
       "      <th>Hormonal Changes</th>\n",
       "      <th>Medical Conditions</th>\n",
       "      <th>Medications &amp; Treatments</th>\n",
       "      <th>Nutritional Deficiencies</th>\n",
       "      <th>Stress</th>\n",
       "      <th>Weight Loss</th>\n",
       "    </tr>\n",
       "  </thead>\n",
       "  <tbody>\n",
       "    <tr>\n",
       "      <th>453</th>\n",
       "      <td>111376</td>\n",
       "      <td>23</td>\n",
       "      <td>0.0</td>\n",
       "      <td>1.0</td>\n",
       "      <td>10.0</td>\n",
       "      <td>6.0</td>\n",
       "      <td>3.0</td>\n",
       "      <td>0.0</td>\n",
       "      <td>1.0</td>\n",
       "    </tr>\n",
       "    <tr>\n",
       "      <th>793</th>\n",
       "      <td>174372</td>\n",
       "      <td>50</td>\n",
       "      <td>0.0</td>\n",
       "      <td>1.0</td>\n",
       "      <td>6.0</td>\n",
       "      <td>10.0</td>\n",
       "      <td>10.0</td>\n",
       "      <td>2.0</td>\n",
       "      <td>1.0</td>\n",
       "    </tr>\n",
       "    <tr>\n",
       "      <th>209</th>\n",
       "      <td>159160</td>\n",
       "      <td>48</td>\n",
       "      <td>0.0</td>\n",
       "      <td>0.0</td>\n",
       "      <td>6.0</td>\n",
       "      <td>10.0</td>\n",
       "      <td>7.0</td>\n",
       "      <td>0.0</td>\n",
       "      <td>0.0</td>\n",
       "    </tr>\n",
       "    <tr>\n",
       "      <th>309</th>\n",
       "      <td>185085</td>\n",
       "      <td>33</td>\n",
       "      <td>1.0</td>\n",
       "      <td>0.0</td>\n",
       "      <td>4.0</td>\n",
       "      <td>6.0</td>\n",
       "      <td>10.0</td>\n",
       "      <td>2.0</td>\n",
       "      <td>0.0</td>\n",
       "    </tr>\n",
       "    <tr>\n",
       "      <th>740</th>\n",
       "      <td>133998</td>\n",
       "      <td>30</td>\n",
       "      <td>0.0</td>\n",
       "      <td>0.0</td>\n",
       "      <td>0.0</td>\n",
       "      <td>4.0</td>\n",
       "      <td>1.0</td>\n",
       "      <td>1.0</td>\n",
       "      <td>1.0</td>\n",
       "    </tr>\n",
       "    <tr>\n",
       "      <th>...</th>\n",
       "      <td>...</td>\n",
       "      <td>...</td>\n",
       "      <td>...</td>\n",
       "      <td>...</td>\n",
       "      <td>...</td>\n",
       "      <td>...</td>\n",
       "      <td>...</td>\n",
       "      <td>...</td>\n",
       "      <td>...</td>\n",
       "    </tr>\n",
       "    <tr>\n",
       "      <th>78</th>\n",
       "      <td>199428</td>\n",
       "      <td>34</td>\n",
       "      <td>0.0</td>\n",
       "      <td>1.0</td>\n",
       "      <td>3.0</td>\n",
       "      <td>0.0</td>\n",
       "      <td>10.0</td>\n",
       "      <td>1.0</td>\n",
       "      <td>0.0</td>\n",
       "    </tr>\n",
       "    <tr>\n",
       "      <th>29</th>\n",
       "      <td>117296</td>\n",
       "      <td>21</td>\n",
       "      <td>0.0</td>\n",
       "      <td>1.0</td>\n",
       "      <td>2.0</td>\n",
       "      <td>5.0</td>\n",
       "      <td>3.0</td>\n",
       "      <td>1.0</td>\n",
       "      <td>0.0</td>\n",
       "    </tr>\n",
       "    <tr>\n",
       "      <th>277</th>\n",
       "      <td>194928</td>\n",
       "      <td>44</td>\n",
       "      <td>0.0</td>\n",
       "      <td>1.0</td>\n",
       "      <td>3.0</td>\n",
       "      <td>10.0</td>\n",
       "      <td>9.0</td>\n",
       "      <td>1.0</td>\n",
       "      <td>0.0</td>\n",
       "    </tr>\n",
       "    <tr>\n",
       "      <th>261</th>\n",
       "      <td>135267</td>\n",
       "      <td>25</td>\n",
       "      <td>1.0</td>\n",
       "      <td>1.0</td>\n",
       "      <td>4.0</td>\n",
       "      <td>7.0</td>\n",
       "      <td>9.0</td>\n",
       "      <td>2.0</td>\n",
       "      <td>0.0</td>\n",
       "    </tr>\n",
       "    <tr>\n",
       "      <th>423</th>\n",
       "      <td>129094</td>\n",
       "      <td>38</td>\n",
       "      <td>1.0</td>\n",
       "      <td>1.0</td>\n",
       "      <td>8.0</td>\n",
       "      <td>9.0</td>\n",
       "      <td>8.0</td>\n",
       "      <td>2.0</td>\n",
       "      <td>1.0</td>\n",
       "    </tr>\n",
       "  </tbody>\n",
       "</table>\n",
       "<p>200 rows × 9 columns</p>\n",
       "</div>"
      ],
      "text/plain": [
       "         Id  Age  Genetics  Hormonal Changes  Medical Conditions  \\\n",
       "453  111376   23       0.0               1.0                10.0   \n",
       "793  174372   50       0.0               1.0                 6.0   \n",
       "209  159160   48       0.0               0.0                 6.0   \n",
       "309  185085   33       1.0               0.0                 4.0   \n",
       "740  133998   30       0.0               0.0                 0.0   \n",
       "..      ...  ...       ...               ...                 ...   \n",
       "78   199428   34       0.0               1.0                 3.0   \n",
       "29   117296   21       0.0               1.0                 2.0   \n",
       "277  194928   44       0.0               1.0                 3.0   \n",
       "261  135267   25       1.0               1.0                 4.0   \n",
       "423  129094   38       1.0               1.0                 8.0   \n",
       "\n",
       "     Medications & Treatments  Nutritional Deficiencies   Stress  Weight Loss   \n",
       "453                       6.0                        3.0     0.0           1.0  \n",
       "793                      10.0                       10.0     2.0           1.0  \n",
       "209                      10.0                        7.0     0.0           0.0  \n",
       "309                       6.0                       10.0     2.0           0.0  \n",
       "740                       4.0                        1.0     1.0           1.0  \n",
       "..                        ...                        ...     ...           ...  \n",
       "78                        0.0                       10.0     1.0           0.0  \n",
       "29                        5.0                        3.0     1.0           0.0  \n",
       "277                      10.0                        9.0     1.0           0.0  \n",
       "261                       7.0                        9.0     2.0           0.0  \n",
       "423                       9.0                        8.0     2.0           1.0  \n",
       "\n",
       "[200 rows x 9 columns]"
      ]
     },
     "execution_count": 146,
     "metadata": {},
     "output_type": "execute_result"
    }
   ],
   "source": [
    "x_test"
   ]
  },
  {
   "cell_type": "code",
   "execution_count": 147,
   "metadata": {},
   "outputs": [
    {
     "data": {
      "application/vnd.microsoft.datawrangler.viewer.v0+json": {
       "columns": [
        {
         "name": "index",
         "rawType": "int64",
         "type": "integer"
        },
        {
         "name": "Hair Loss",
         "rawType": "int64",
         "type": "integer"
        }
       ],
       "conversionMethod": "pd.DataFrame",
       "ref": "6f0eaa1a-3b26-43ed-b563-e1868062790a",
       "rows": [
        [
         "453",
         "1"
        ],
        [
         "793",
         "1"
        ],
        [
         "209",
         "1"
        ],
        [
         "309",
         "1"
        ],
        [
         "740",
         "1"
        ],
        [
         "578",
         "0"
        ],
        [
         "895",
         "0"
        ],
        [
         "545",
         "1"
        ],
        [
         "436",
         "1"
        ],
        [
         "678",
         "1"
        ],
        [
         "935",
         "0"
        ],
        [
         "635",
         "1"
        ],
        [
         "866",
         "0"
        ],
        [
         "603",
         "1"
        ],
        [
         "720",
         "0"
        ],
        [
         "70",
         "1"
        ],
        [
         "824",
         "1"
        ],
        [
         "468",
         "1"
        ],
        [
         "382",
         "1"
        ],
        [
         "208",
         "0"
        ],
        [
         "570",
         "0"
        ],
        [
         "377",
         "1"
        ],
        [
         "898",
         "1"
        ],
        [
         "887",
         "0"
        ],
        [
         "901",
         "0"
        ],
        [
         "59",
         "1"
        ],
        [
         "168",
         "0"
        ],
        [
         "249",
         "1"
        ],
        [
         "810",
         "0"
        ],
        [
         "344",
         "1"
        ],
        [
         "595",
         "1"
        ],
        [
         "318",
         "1"
        ],
        [
         "625",
         "0"
        ],
        [
         "542",
         "1"
        ],
        [
         "622",
         "0"
        ],
        [
         "694",
         "1"
        ],
        [
         "158",
         "0"
        ],
        [
         "198",
         "0"
        ],
        [
         "662",
         "0"
        ],
        [
         "597",
         "1"
        ],
        [
         "788",
         "1"
        ],
        [
         "380",
         "0"
        ],
        [
         "937",
         "1"
        ],
        [
         "425",
         "0"
        ],
        [
         "199",
         "1"
        ],
        [
         "576",
         "0"
        ],
        [
         "266",
         "0"
        ],
        [
         "737",
         "0"
        ],
        [
         "76",
         "1"
        ],
        [
         "870",
         "1"
        ]
       ],
       "shape": {
        "columns": 1,
        "rows": 200
       }
      },
      "text/html": [
       "<div>\n",
       "<style scoped>\n",
       "    .dataframe tbody tr th:only-of-type {\n",
       "        vertical-align: middle;\n",
       "    }\n",
       "\n",
       "    .dataframe tbody tr th {\n",
       "        vertical-align: top;\n",
       "    }\n",
       "\n",
       "    .dataframe thead th {\n",
       "        text-align: right;\n",
       "    }\n",
       "</style>\n",
       "<table border=\"1\" class=\"dataframe\">\n",
       "  <thead>\n",
       "    <tr style=\"text-align: right;\">\n",
       "      <th></th>\n",
       "      <th>Hair Loss</th>\n",
       "    </tr>\n",
       "  </thead>\n",
       "  <tbody>\n",
       "    <tr>\n",
       "      <th>453</th>\n",
       "      <td>1</td>\n",
       "    </tr>\n",
       "    <tr>\n",
       "      <th>793</th>\n",
       "      <td>1</td>\n",
       "    </tr>\n",
       "    <tr>\n",
       "      <th>209</th>\n",
       "      <td>1</td>\n",
       "    </tr>\n",
       "    <tr>\n",
       "      <th>309</th>\n",
       "      <td>1</td>\n",
       "    </tr>\n",
       "    <tr>\n",
       "      <th>740</th>\n",
       "      <td>1</td>\n",
       "    </tr>\n",
       "    <tr>\n",
       "      <th>...</th>\n",
       "      <td>...</td>\n",
       "    </tr>\n",
       "    <tr>\n",
       "      <th>78</th>\n",
       "      <td>0</td>\n",
       "    </tr>\n",
       "    <tr>\n",
       "      <th>29</th>\n",
       "      <td>0</td>\n",
       "    </tr>\n",
       "    <tr>\n",
       "      <th>277</th>\n",
       "      <td>0</td>\n",
       "    </tr>\n",
       "    <tr>\n",
       "      <th>261</th>\n",
       "      <td>1</td>\n",
       "    </tr>\n",
       "    <tr>\n",
       "      <th>423</th>\n",
       "      <td>0</td>\n",
       "    </tr>\n",
       "  </tbody>\n",
       "</table>\n",
       "<p>200 rows × 1 columns</p>\n",
       "</div>"
      ],
      "text/plain": [
       "     Hair Loss\n",
       "453          1\n",
       "793          1\n",
       "209          1\n",
       "309          1\n",
       "740          1\n",
       "..         ...\n",
       "78           0\n",
       "29           0\n",
       "277          0\n",
       "261          1\n",
       "423          0\n",
       "\n",
       "[200 rows x 1 columns]"
      ]
     },
     "execution_count": 147,
     "metadata": {},
     "output_type": "execute_result"
    }
   ],
   "source": [
    "y_test"
   ]
  },
  {
   "cell_type": "markdown",
   "metadata": {},
   "source": [
    "Steap-8 : Model Selection"
   ]
  },
  {
   "cell_type": "code",
   "execution_count": 148,
   "metadata": {},
   "outputs": [],
   "source": [
    "# Classification problem\n",
    "from sklearn.linear_model import LogisticRegression\n"
   ]
  },
  {
   "cell_type": "code",
   "execution_count": 149,
   "metadata": {},
   "outputs": [],
   "source": [
    "lgr=LogisticRegression() #create the Object"
   ]
  },
  {
   "cell_type": "markdown",
   "metadata": {},
   "source": [
    "Steap-9: Model Training"
   ]
  },
  {
   "cell_type": "code",
   "execution_count": 150,
   "metadata": {},
   "outputs": [],
   "source": [
    "#Logistic Regression Algorithm\n",
    "\n",
    "from sklearn.preprocessing import StandardScaler\n",
    "\n",
    "# Feature scaling (optional but recommended for Logistic Regression)\n",
    "scaler = StandardScaler()\n",
    "X_train = scaler.fit_transform(x_train)\n",
    "X_test = scaler.transform(x_test)\n"
   ]
  },
  {
   "cell_type": "code",
   "execution_count": 151,
   "metadata": {},
   "outputs": [
    {
     "name": "stderr",
     "output_type": "stream",
     "text": [
      "c:\\Users\\om\\Desktop\\Hairfall-Prediction_ML\\.venv\\Lib\\site-packages\\sklearn\\utils\\validation.py:1408: DataConversionWarning: A column-vector y was passed when a 1d array was expected. Please change the shape of y to (n_samples, ), for example using ravel().\n",
      "  y = column_or_1d(y, warn=True)\n",
      "c:\\Users\\om\\Desktop\\Hairfall-Prediction_ML\\.venv\\Lib\\site-packages\\sklearn\\linear_model\\_logistic.py:465: ConvergenceWarning: lbfgs failed to converge (status=1):\n",
      "STOP: TOTAL NO. OF ITERATIONS REACHED LIMIT.\n",
      "\n",
      "Increase the number of iterations (max_iter) or scale the data as shown in:\n",
      "    https://scikit-learn.org/stable/modules/preprocessing.html\n",
      "Please also refer to the documentation for alternative solver options:\n",
      "    https://scikit-learn.org/stable/modules/linear_model.html#logistic-regression\n",
      "  n_iter_i = _check_optimize_result(\n"
     ]
    },
    {
     "data": {
      "text/html": [
       "<style>#sk-container-id-5 {\n",
       "  /* Definition of color scheme common for light and dark mode */\n",
       "  --sklearn-color-text: #000;\n",
       "  --sklearn-color-text-muted: #666;\n",
       "  --sklearn-color-line: gray;\n",
       "  /* Definition of color scheme for unfitted estimators */\n",
       "  --sklearn-color-unfitted-level-0: #fff5e6;\n",
       "  --sklearn-color-unfitted-level-1: #f6e4d2;\n",
       "  --sklearn-color-unfitted-level-2: #ffe0b3;\n",
       "  --sklearn-color-unfitted-level-3: chocolate;\n",
       "  /* Definition of color scheme for fitted estimators */\n",
       "  --sklearn-color-fitted-level-0: #f0f8ff;\n",
       "  --sklearn-color-fitted-level-1: #d4ebff;\n",
       "  --sklearn-color-fitted-level-2: #b3dbfd;\n",
       "  --sklearn-color-fitted-level-3: cornflowerblue;\n",
       "\n",
       "  /* Specific color for light theme */\n",
       "  --sklearn-color-text-on-default-background: var(--sg-text-color, var(--theme-code-foreground, var(--jp-content-font-color1, black)));\n",
       "  --sklearn-color-background: var(--sg-background-color, var(--theme-background, var(--jp-layout-color0, white)));\n",
       "  --sklearn-color-border-box: var(--sg-text-color, var(--theme-code-foreground, var(--jp-content-font-color1, black)));\n",
       "  --sklearn-color-icon: #696969;\n",
       "\n",
       "  @media (prefers-color-scheme: dark) {\n",
       "    /* Redefinition of color scheme for dark theme */\n",
       "    --sklearn-color-text-on-default-background: var(--sg-text-color, var(--theme-code-foreground, var(--jp-content-font-color1, white)));\n",
       "    --sklearn-color-background: var(--sg-background-color, var(--theme-background, var(--jp-layout-color0, #111)));\n",
       "    --sklearn-color-border-box: var(--sg-text-color, var(--theme-code-foreground, var(--jp-content-font-color1, white)));\n",
       "    --sklearn-color-icon: #878787;\n",
       "  }\n",
       "}\n",
       "\n",
       "#sk-container-id-5 {\n",
       "  color: var(--sklearn-color-text);\n",
       "}\n",
       "\n",
       "#sk-container-id-5 pre {\n",
       "  padding: 0;\n",
       "}\n",
       "\n",
       "#sk-container-id-5 input.sk-hidden--visually {\n",
       "  border: 0;\n",
       "  clip: rect(1px 1px 1px 1px);\n",
       "  clip: rect(1px, 1px, 1px, 1px);\n",
       "  height: 1px;\n",
       "  margin: -1px;\n",
       "  overflow: hidden;\n",
       "  padding: 0;\n",
       "  position: absolute;\n",
       "  width: 1px;\n",
       "}\n",
       "\n",
       "#sk-container-id-5 div.sk-dashed-wrapped {\n",
       "  border: 1px dashed var(--sklearn-color-line);\n",
       "  margin: 0 0.4em 0.5em 0.4em;\n",
       "  box-sizing: border-box;\n",
       "  padding-bottom: 0.4em;\n",
       "  background-color: var(--sklearn-color-background);\n",
       "}\n",
       "\n",
       "#sk-container-id-5 div.sk-container {\n",
       "  /* jupyter's `normalize.less` sets `[hidden] { display: none; }`\n",
       "     but bootstrap.min.css set `[hidden] { display: none !important; }`\n",
       "     so we also need the `!important` here to be able to override the\n",
       "     default hidden behavior on the sphinx rendered scikit-learn.org.\n",
       "     See: https://github.com/scikit-learn/scikit-learn/issues/21755 */\n",
       "  display: inline-block !important;\n",
       "  position: relative;\n",
       "}\n",
       "\n",
       "#sk-container-id-5 div.sk-text-repr-fallback {\n",
       "  display: none;\n",
       "}\n",
       "\n",
       "div.sk-parallel-item,\n",
       "div.sk-serial,\n",
       "div.sk-item {\n",
       "  /* draw centered vertical line to link estimators */\n",
       "  background-image: linear-gradient(var(--sklearn-color-text-on-default-background), var(--sklearn-color-text-on-default-background));\n",
       "  background-size: 2px 100%;\n",
       "  background-repeat: no-repeat;\n",
       "  background-position: center center;\n",
       "}\n",
       "\n",
       "/* Parallel-specific style estimator block */\n",
       "\n",
       "#sk-container-id-5 div.sk-parallel-item::after {\n",
       "  content: \"\";\n",
       "  width: 100%;\n",
       "  border-bottom: 2px solid var(--sklearn-color-text-on-default-background);\n",
       "  flex-grow: 1;\n",
       "}\n",
       "\n",
       "#sk-container-id-5 div.sk-parallel {\n",
       "  display: flex;\n",
       "  align-items: stretch;\n",
       "  justify-content: center;\n",
       "  background-color: var(--sklearn-color-background);\n",
       "  position: relative;\n",
       "}\n",
       "\n",
       "#sk-container-id-5 div.sk-parallel-item {\n",
       "  display: flex;\n",
       "  flex-direction: column;\n",
       "}\n",
       "\n",
       "#sk-container-id-5 div.sk-parallel-item:first-child::after {\n",
       "  align-self: flex-end;\n",
       "  width: 50%;\n",
       "}\n",
       "\n",
       "#sk-container-id-5 div.sk-parallel-item:last-child::after {\n",
       "  align-self: flex-start;\n",
       "  width: 50%;\n",
       "}\n",
       "\n",
       "#sk-container-id-5 div.sk-parallel-item:only-child::after {\n",
       "  width: 0;\n",
       "}\n",
       "\n",
       "/* Serial-specific style estimator block */\n",
       "\n",
       "#sk-container-id-5 div.sk-serial {\n",
       "  display: flex;\n",
       "  flex-direction: column;\n",
       "  align-items: center;\n",
       "  background-color: var(--sklearn-color-background);\n",
       "  padding-right: 1em;\n",
       "  padding-left: 1em;\n",
       "}\n",
       "\n",
       "\n",
       "/* Toggleable style: style used for estimator/Pipeline/ColumnTransformer box that is\n",
       "clickable and can be expanded/collapsed.\n",
       "- Pipeline and ColumnTransformer use this feature and define the default style\n",
       "- Estimators will overwrite some part of the style using the `sk-estimator` class\n",
       "*/\n",
       "\n",
       "/* Pipeline and ColumnTransformer style (default) */\n",
       "\n",
       "#sk-container-id-5 div.sk-toggleable {\n",
       "  /* Default theme specific background. It is overwritten whether we have a\n",
       "  specific estimator or a Pipeline/ColumnTransformer */\n",
       "  background-color: var(--sklearn-color-background);\n",
       "}\n",
       "\n",
       "/* Toggleable label */\n",
       "#sk-container-id-5 label.sk-toggleable__label {\n",
       "  cursor: pointer;\n",
       "  display: flex;\n",
       "  width: 100%;\n",
       "  margin-bottom: 0;\n",
       "  padding: 0.5em;\n",
       "  box-sizing: border-box;\n",
       "  text-align: center;\n",
       "  align-items: start;\n",
       "  justify-content: space-between;\n",
       "  gap: 0.5em;\n",
       "}\n",
       "\n",
       "#sk-container-id-5 label.sk-toggleable__label .caption {\n",
       "  font-size: 0.6rem;\n",
       "  font-weight: lighter;\n",
       "  color: var(--sklearn-color-text-muted);\n",
       "}\n",
       "\n",
       "#sk-container-id-5 label.sk-toggleable__label-arrow:before {\n",
       "  /* Arrow on the left of the label */\n",
       "  content: \"▸\";\n",
       "  float: left;\n",
       "  margin-right: 0.25em;\n",
       "  color: var(--sklearn-color-icon);\n",
       "}\n",
       "\n",
       "#sk-container-id-5 label.sk-toggleable__label-arrow:hover:before {\n",
       "  color: var(--sklearn-color-text);\n",
       "}\n",
       "\n",
       "/* Toggleable content - dropdown */\n",
       "\n",
       "#sk-container-id-5 div.sk-toggleable__content {\n",
       "  max-height: 0;\n",
       "  max-width: 0;\n",
       "  overflow: hidden;\n",
       "  text-align: left;\n",
       "  /* unfitted */\n",
       "  background-color: var(--sklearn-color-unfitted-level-0);\n",
       "}\n",
       "\n",
       "#sk-container-id-5 div.sk-toggleable__content.fitted {\n",
       "  /* fitted */\n",
       "  background-color: var(--sklearn-color-fitted-level-0);\n",
       "}\n",
       "\n",
       "#sk-container-id-5 div.sk-toggleable__content pre {\n",
       "  margin: 0.2em;\n",
       "  border-radius: 0.25em;\n",
       "  color: var(--sklearn-color-text);\n",
       "  /* unfitted */\n",
       "  background-color: var(--sklearn-color-unfitted-level-0);\n",
       "}\n",
       "\n",
       "#sk-container-id-5 div.sk-toggleable__content.fitted pre {\n",
       "  /* unfitted */\n",
       "  background-color: var(--sklearn-color-fitted-level-0);\n",
       "}\n",
       "\n",
       "#sk-container-id-5 input.sk-toggleable__control:checked~div.sk-toggleable__content {\n",
       "  /* Expand drop-down */\n",
       "  max-height: 200px;\n",
       "  max-width: 100%;\n",
       "  overflow: auto;\n",
       "}\n",
       "\n",
       "#sk-container-id-5 input.sk-toggleable__control:checked~label.sk-toggleable__label-arrow:before {\n",
       "  content: \"▾\";\n",
       "}\n",
       "\n",
       "/* Pipeline/ColumnTransformer-specific style */\n",
       "\n",
       "#sk-container-id-5 div.sk-label input.sk-toggleable__control:checked~label.sk-toggleable__label {\n",
       "  color: var(--sklearn-color-text);\n",
       "  background-color: var(--sklearn-color-unfitted-level-2);\n",
       "}\n",
       "\n",
       "#sk-container-id-5 div.sk-label.fitted input.sk-toggleable__control:checked~label.sk-toggleable__label {\n",
       "  background-color: var(--sklearn-color-fitted-level-2);\n",
       "}\n",
       "\n",
       "/* Estimator-specific style */\n",
       "\n",
       "/* Colorize estimator box */\n",
       "#sk-container-id-5 div.sk-estimator input.sk-toggleable__control:checked~label.sk-toggleable__label {\n",
       "  /* unfitted */\n",
       "  background-color: var(--sklearn-color-unfitted-level-2);\n",
       "}\n",
       "\n",
       "#sk-container-id-5 div.sk-estimator.fitted input.sk-toggleable__control:checked~label.sk-toggleable__label {\n",
       "  /* fitted */\n",
       "  background-color: var(--sklearn-color-fitted-level-2);\n",
       "}\n",
       "\n",
       "#sk-container-id-5 div.sk-label label.sk-toggleable__label,\n",
       "#sk-container-id-5 div.sk-label label {\n",
       "  /* The background is the default theme color */\n",
       "  color: var(--sklearn-color-text-on-default-background);\n",
       "}\n",
       "\n",
       "/* On hover, darken the color of the background */\n",
       "#sk-container-id-5 div.sk-label:hover label.sk-toggleable__label {\n",
       "  color: var(--sklearn-color-text);\n",
       "  background-color: var(--sklearn-color-unfitted-level-2);\n",
       "}\n",
       "\n",
       "/* Label box, darken color on hover, fitted */\n",
       "#sk-container-id-5 div.sk-label.fitted:hover label.sk-toggleable__label.fitted {\n",
       "  color: var(--sklearn-color-text);\n",
       "  background-color: var(--sklearn-color-fitted-level-2);\n",
       "}\n",
       "\n",
       "/* Estimator label */\n",
       "\n",
       "#sk-container-id-5 div.sk-label label {\n",
       "  font-family: monospace;\n",
       "  font-weight: bold;\n",
       "  display: inline-block;\n",
       "  line-height: 1.2em;\n",
       "}\n",
       "\n",
       "#sk-container-id-5 div.sk-label-container {\n",
       "  text-align: center;\n",
       "}\n",
       "\n",
       "/* Estimator-specific */\n",
       "#sk-container-id-5 div.sk-estimator {\n",
       "  font-family: monospace;\n",
       "  border: 1px dotted var(--sklearn-color-border-box);\n",
       "  border-radius: 0.25em;\n",
       "  box-sizing: border-box;\n",
       "  margin-bottom: 0.5em;\n",
       "  /* unfitted */\n",
       "  background-color: var(--sklearn-color-unfitted-level-0);\n",
       "}\n",
       "\n",
       "#sk-container-id-5 div.sk-estimator.fitted {\n",
       "  /* fitted */\n",
       "  background-color: var(--sklearn-color-fitted-level-0);\n",
       "}\n",
       "\n",
       "/* on hover */\n",
       "#sk-container-id-5 div.sk-estimator:hover {\n",
       "  /* unfitted */\n",
       "  background-color: var(--sklearn-color-unfitted-level-2);\n",
       "}\n",
       "\n",
       "#sk-container-id-5 div.sk-estimator.fitted:hover {\n",
       "  /* fitted */\n",
       "  background-color: var(--sklearn-color-fitted-level-2);\n",
       "}\n",
       "\n",
       "/* Specification for estimator info (e.g. \"i\" and \"?\") */\n",
       "\n",
       "/* Common style for \"i\" and \"?\" */\n",
       "\n",
       ".sk-estimator-doc-link,\n",
       "a:link.sk-estimator-doc-link,\n",
       "a:visited.sk-estimator-doc-link {\n",
       "  float: right;\n",
       "  font-size: smaller;\n",
       "  line-height: 1em;\n",
       "  font-family: monospace;\n",
       "  background-color: var(--sklearn-color-background);\n",
       "  border-radius: 1em;\n",
       "  height: 1em;\n",
       "  width: 1em;\n",
       "  text-decoration: none !important;\n",
       "  margin-left: 0.5em;\n",
       "  text-align: center;\n",
       "  /* unfitted */\n",
       "  border: var(--sklearn-color-unfitted-level-1) 1pt solid;\n",
       "  color: var(--sklearn-color-unfitted-level-1);\n",
       "}\n",
       "\n",
       ".sk-estimator-doc-link.fitted,\n",
       "a:link.sk-estimator-doc-link.fitted,\n",
       "a:visited.sk-estimator-doc-link.fitted {\n",
       "  /* fitted */\n",
       "  border: var(--sklearn-color-fitted-level-1) 1pt solid;\n",
       "  color: var(--sklearn-color-fitted-level-1);\n",
       "}\n",
       "\n",
       "/* On hover */\n",
       "div.sk-estimator:hover .sk-estimator-doc-link:hover,\n",
       ".sk-estimator-doc-link:hover,\n",
       "div.sk-label-container:hover .sk-estimator-doc-link:hover,\n",
       ".sk-estimator-doc-link:hover {\n",
       "  /* unfitted */\n",
       "  background-color: var(--sklearn-color-unfitted-level-3);\n",
       "  color: var(--sklearn-color-background);\n",
       "  text-decoration: none;\n",
       "}\n",
       "\n",
       "div.sk-estimator.fitted:hover .sk-estimator-doc-link.fitted:hover,\n",
       ".sk-estimator-doc-link.fitted:hover,\n",
       "div.sk-label-container:hover .sk-estimator-doc-link.fitted:hover,\n",
       ".sk-estimator-doc-link.fitted:hover {\n",
       "  /* fitted */\n",
       "  background-color: var(--sklearn-color-fitted-level-3);\n",
       "  color: var(--sklearn-color-background);\n",
       "  text-decoration: none;\n",
       "}\n",
       "\n",
       "/* Span, style for the box shown on hovering the info icon */\n",
       ".sk-estimator-doc-link span {\n",
       "  display: none;\n",
       "  z-index: 9999;\n",
       "  position: relative;\n",
       "  font-weight: normal;\n",
       "  right: .2ex;\n",
       "  padding: .5ex;\n",
       "  margin: .5ex;\n",
       "  width: min-content;\n",
       "  min-width: 20ex;\n",
       "  max-width: 50ex;\n",
       "  color: var(--sklearn-color-text);\n",
       "  box-shadow: 2pt 2pt 4pt #999;\n",
       "  /* unfitted */\n",
       "  background: var(--sklearn-color-unfitted-level-0);\n",
       "  border: .5pt solid var(--sklearn-color-unfitted-level-3);\n",
       "}\n",
       "\n",
       ".sk-estimator-doc-link.fitted span {\n",
       "  /* fitted */\n",
       "  background: var(--sklearn-color-fitted-level-0);\n",
       "  border: var(--sklearn-color-fitted-level-3);\n",
       "}\n",
       "\n",
       ".sk-estimator-doc-link:hover span {\n",
       "  display: block;\n",
       "}\n",
       "\n",
       "/* \"?\"-specific style due to the `<a>` HTML tag */\n",
       "\n",
       "#sk-container-id-5 a.estimator_doc_link {\n",
       "  float: right;\n",
       "  font-size: 1rem;\n",
       "  line-height: 1em;\n",
       "  font-family: monospace;\n",
       "  background-color: var(--sklearn-color-background);\n",
       "  border-radius: 1rem;\n",
       "  height: 1rem;\n",
       "  width: 1rem;\n",
       "  text-decoration: none;\n",
       "  /* unfitted */\n",
       "  color: var(--sklearn-color-unfitted-level-1);\n",
       "  border: var(--sklearn-color-unfitted-level-1) 1pt solid;\n",
       "}\n",
       "\n",
       "#sk-container-id-5 a.estimator_doc_link.fitted {\n",
       "  /* fitted */\n",
       "  border: var(--sklearn-color-fitted-level-1) 1pt solid;\n",
       "  color: var(--sklearn-color-fitted-level-1);\n",
       "}\n",
       "\n",
       "/* On hover */\n",
       "#sk-container-id-5 a.estimator_doc_link:hover {\n",
       "  /* unfitted */\n",
       "  background-color: var(--sklearn-color-unfitted-level-3);\n",
       "  color: var(--sklearn-color-background);\n",
       "  text-decoration: none;\n",
       "}\n",
       "\n",
       "#sk-container-id-5 a.estimator_doc_link.fitted:hover {\n",
       "  /* fitted */\n",
       "  background-color: var(--sklearn-color-fitted-level-3);\n",
       "}\n",
       "</style><div id=\"sk-container-id-5\" class=\"sk-top-container\"><div class=\"sk-text-repr-fallback\"><pre>LogisticRegression()</pre><b>In a Jupyter environment, please rerun this cell to show the HTML representation or trust the notebook. <br />On GitHub, the HTML representation is unable to render, please try loading this page with nbviewer.org.</b></div><div class=\"sk-container\" hidden><div class=\"sk-item\"><div class=\"sk-estimator fitted sk-toggleable\"><input class=\"sk-toggleable__control sk-hidden--visually\" id=\"sk-estimator-id-5\" type=\"checkbox\" checked><label for=\"sk-estimator-id-5\" class=\"sk-toggleable__label fitted sk-toggleable__label-arrow\"><div><div>LogisticRegression</div></div><div><a class=\"sk-estimator-doc-link fitted\" rel=\"noreferrer\" target=\"_blank\" href=\"https://scikit-learn.org/1.6/modules/generated/sklearn.linear_model.LogisticRegression.html\">?<span>Documentation for LogisticRegression</span></a><span class=\"sk-estimator-doc-link fitted\">i<span>Fitted</span></span></div></label><div class=\"sk-toggleable__content fitted\"><pre>LogisticRegression()</pre></div> </div></div></div></div>"
      ],
      "text/plain": [
       "LogisticRegression()"
      ]
     },
     "execution_count": 151,
     "metadata": {},
     "output_type": "execute_result"
    }
   ],
   "source": [
    "# Initializing and training the Logistic Regression model\n",
    "model = LogisticRegression()\n",
    "model.fit(x_train, y_train)\n"
   ]
  },
  {
   "cell_type": "code",
   "execution_count": 152,
   "metadata": {},
   "outputs": [
    {
     "data": {
      "text/plain": [
       "array([0, 0, 0, 1, 1, 1, 0, 0, 1, 0, 0, 1, 1, 0, 1, 1, 0, 0, 1, 0, 0, 1,\n",
       "       0, 0, 1, 0, 0, 0, 1, 1, 1, 1, 0, 0, 0, 1, 0, 0, 0, 1, 0, 0, 0, 0,\n",
       "       1, 0, 0, 0, 0, 0, 1, 0, 1, 0, 0, 1, 0, 0, 1, 0, 0, 0, 0, 0, 1, 0,\n",
       "       1, 0, 1, 0, 0, 0, 1, 1, 1, 0, 0, 0, 0, 0, 1, 0, 0, 0, 0, 0, 1, 0,\n",
       "       0, 0, 1, 0, 0, 0, 0, 0, 1, 0, 0, 1, 0, 1, 1, 0, 1, 0, 1, 0, 1, 0,\n",
       "       0, 0, 0, 0, 1, 0, 0, 1, 0, 0, 0, 1, 0, 0, 0, 0, 0, 0, 1, 1, 0, 0,\n",
       "       1, 0, 1, 1, 0, 1, 0, 0, 1, 0, 0, 0, 1, 0, 0, 0, 0, 0, 1, 0, 1, 0,\n",
       "       0, 0, 0, 0, 0, 1, 0, 0, 1, 0, 0, 1, 0, 1, 0, 0, 1, 1, 1, 1, 0, 0,\n",
       "       1, 0, 0, 1, 0, 1, 1, 0, 1, 0, 0, 0, 1, 0, 1, 0, 0, 1, 0, 0, 0, 0,\n",
       "       0, 0])"
      ]
     },
     "execution_count": 152,
     "metadata": {},
     "output_type": "execute_result"
    }
   ],
   "source": [
    "y_pred = model.predict(x_test)\n",
    "y_pred"
   ]
  },
  {
   "cell_type": "code",
   "execution_count": 153,
   "metadata": {},
   "outputs": [
    {
     "data": {
      "application/vnd.microsoft.datawrangler.viewer.v0+json": {
       "columns": [
        {
         "name": "index",
         "rawType": "int64",
         "type": "integer"
        },
        {
         "name": "Hair Loss",
         "rawType": "int64",
         "type": "integer"
        }
       ],
       "conversionMethod": "pd.DataFrame",
       "ref": "8425bf7e-6fd2-440f-89e3-3dbe16452e6d",
       "rows": [
        [
         "453",
         "1"
        ],
        [
         "793",
         "1"
        ],
        [
         "209",
         "1"
        ],
        [
         "309",
         "1"
        ],
        [
         "740",
         "1"
        ],
        [
         "578",
         "0"
        ],
        [
         "895",
         "0"
        ],
        [
         "545",
         "1"
        ],
        [
         "436",
         "1"
        ],
        [
         "678",
         "1"
        ],
        [
         "935",
         "0"
        ],
        [
         "635",
         "1"
        ],
        [
         "866",
         "0"
        ],
        [
         "603",
         "1"
        ],
        [
         "720",
         "0"
        ],
        [
         "70",
         "1"
        ],
        [
         "824",
         "1"
        ],
        [
         "468",
         "1"
        ],
        [
         "382",
         "1"
        ],
        [
         "208",
         "0"
        ],
        [
         "570",
         "0"
        ],
        [
         "377",
         "1"
        ],
        [
         "898",
         "1"
        ],
        [
         "887",
         "0"
        ],
        [
         "901",
         "0"
        ],
        [
         "59",
         "1"
        ],
        [
         "168",
         "0"
        ],
        [
         "249",
         "1"
        ],
        [
         "810",
         "0"
        ],
        [
         "344",
         "1"
        ],
        [
         "595",
         "1"
        ],
        [
         "318",
         "1"
        ],
        [
         "625",
         "0"
        ],
        [
         "542",
         "1"
        ],
        [
         "622",
         "0"
        ],
        [
         "694",
         "1"
        ],
        [
         "158",
         "0"
        ],
        [
         "198",
         "0"
        ],
        [
         "662",
         "0"
        ],
        [
         "597",
         "1"
        ],
        [
         "788",
         "1"
        ],
        [
         "380",
         "0"
        ],
        [
         "937",
         "1"
        ],
        [
         "425",
         "0"
        ],
        [
         "199",
         "1"
        ],
        [
         "576",
         "0"
        ],
        [
         "266",
         "0"
        ],
        [
         "737",
         "0"
        ],
        [
         "76",
         "1"
        ],
        [
         "870",
         "1"
        ]
       ],
       "shape": {
        "columns": 1,
        "rows": 200
       }
      },
      "text/html": [
       "<div>\n",
       "<style scoped>\n",
       "    .dataframe tbody tr th:only-of-type {\n",
       "        vertical-align: middle;\n",
       "    }\n",
       "\n",
       "    .dataframe tbody tr th {\n",
       "        vertical-align: top;\n",
       "    }\n",
       "\n",
       "    .dataframe thead th {\n",
       "        text-align: right;\n",
       "    }\n",
       "</style>\n",
       "<table border=\"1\" class=\"dataframe\">\n",
       "  <thead>\n",
       "    <tr style=\"text-align: right;\">\n",
       "      <th></th>\n",
       "      <th>Hair Loss</th>\n",
       "    </tr>\n",
       "  </thead>\n",
       "  <tbody>\n",
       "    <tr>\n",
       "      <th>453</th>\n",
       "      <td>1</td>\n",
       "    </tr>\n",
       "    <tr>\n",
       "      <th>793</th>\n",
       "      <td>1</td>\n",
       "    </tr>\n",
       "    <tr>\n",
       "      <th>209</th>\n",
       "      <td>1</td>\n",
       "    </tr>\n",
       "    <tr>\n",
       "      <th>309</th>\n",
       "      <td>1</td>\n",
       "    </tr>\n",
       "    <tr>\n",
       "      <th>740</th>\n",
       "      <td>1</td>\n",
       "    </tr>\n",
       "    <tr>\n",
       "      <th>...</th>\n",
       "      <td>...</td>\n",
       "    </tr>\n",
       "    <tr>\n",
       "      <th>78</th>\n",
       "      <td>0</td>\n",
       "    </tr>\n",
       "    <tr>\n",
       "      <th>29</th>\n",
       "      <td>0</td>\n",
       "    </tr>\n",
       "    <tr>\n",
       "      <th>277</th>\n",
       "      <td>0</td>\n",
       "    </tr>\n",
       "    <tr>\n",
       "      <th>261</th>\n",
       "      <td>1</td>\n",
       "    </tr>\n",
       "    <tr>\n",
       "      <th>423</th>\n",
       "      <td>0</td>\n",
       "    </tr>\n",
       "  </tbody>\n",
       "</table>\n",
       "<p>200 rows × 1 columns</p>\n",
       "</div>"
      ],
      "text/plain": [
       "     Hair Loss\n",
       "453          1\n",
       "793          1\n",
       "209          1\n",
       "309          1\n",
       "740          1\n",
       "..         ...\n",
       "78           0\n",
       "29           0\n",
       "277          0\n",
       "261          1\n",
       "423          0\n",
       "\n",
       "[200 rows x 1 columns]"
      ]
     },
     "execution_count": 153,
     "metadata": {},
     "output_type": "execute_result"
    }
   ],
   "source": [
    "y_test"
   ]
  },
  {
   "cell_type": "code",
   "execution_count": 154,
   "metadata": {},
   "outputs": [],
   "source": [
    "y_test[\"Predicted Hair Loss\"]=y_pred"
   ]
  },
  {
   "cell_type": "code",
   "execution_count": 155,
   "metadata": {},
   "outputs": [],
   "source": [
    "y_test.drop([\"Predicted Hair Loss\"],axis=1,inplace=True)  #delete multiple columns \n"
   ]
  },
  {
   "cell_type": "code",
   "execution_count": 156,
   "metadata": {},
   "outputs": [
    {
     "data": {
      "application/vnd.microsoft.datawrangler.viewer.v0+json": {
       "columns": [
        {
         "name": "index",
         "rawType": "int64",
         "type": "integer"
        },
        {
         "name": "Hair Loss",
         "rawType": "int64",
         "type": "integer"
        }
       ],
       "conversionMethod": "pd.DataFrame",
       "ref": "48a964a5-50a7-4942-ac8b-61552115b92e",
       "rows": [
        [
         "453",
         "1"
        ],
        [
         "793",
         "1"
        ],
        [
         "209",
         "1"
        ],
        [
         "309",
         "1"
        ],
        [
         "740",
         "1"
        ],
        [
         "578",
         "0"
        ],
        [
         "895",
         "0"
        ],
        [
         "545",
         "1"
        ],
        [
         "436",
         "1"
        ],
        [
         "678",
         "1"
        ],
        [
         "935",
         "0"
        ],
        [
         "635",
         "1"
        ],
        [
         "866",
         "0"
        ],
        [
         "603",
         "1"
        ],
        [
         "720",
         "0"
        ],
        [
         "70",
         "1"
        ],
        [
         "824",
         "1"
        ],
        [
         "468",
         "1"
        ],
        [
         "382",
         "1"
        ],
        [
         "208",
         "0"
        ],
        [
         "570",
         "0"
        ],
        [
         "377",
         "1"
        ],
        [
         "898",
         "1"
        ],
        [
         "887",
         "0"
        ],
        [
         "901",
         "0"
        ],
        [
         "59",
         "1"
        ],
        [
         "168",
         "0"
        ],
        [
         "249",
         "1"
        ],
        [
         "810",
         "0"
        ],
        [
         "344",
         "1"
        ],
        [
         "595",
         "1"
        ],
        [
         "318",
         "1"
        ],
        [
         "625",
         "0"
        ],
        [
         "542",
         "1"
        ],
        [
         "622",
         "0"
        ],
        [
         "694",
         "1"
        ],
        [
         "158",
         "0"
        ],
        [
         "198",
         "0"
        ],
        [
         "662",
         "0"
        ],
        [
         "597",
         "1"
        ],
        [
         "788",
         "1"
        ],
        [
         "380",
         "0"
        ],
        [
         "937",
         "1"
        ],
        [
         "425",
         "0"
        ],
        [
         "199",
         "1"
        ],
        [
         "576",
         "0"
        ],
        [
         "266",
         "0"
        ],
        [
         "737",
         "0"
        ],
        [
         "76",
         "1"
        ],
        [
         "870",
         "1"
        ]
       ],
       "shape": {
        "columns": 1,
        "rows": 200
       }
      },
      "text/html": [
       "<div>\n",
       "<style scoped>\n",
       "    .dataframe tbody tr th:only-of-type {\n",
       "        vertical-align: middle;\n",
       "    }\n",
       "\n",
       "    .dataframe tbody tr th {\n",
       "        vertical-align: top;\n",
       "    }\n",
       "\n",
       "    .dataframe thead th {\n",
       "        text-align: right;\n",
       "    }\n",
       "</style>\n",
       "<table border=\"1\" class=\"dataframe\">\n",
       "  <thead>\n",
       "    <tr style=\"text-align: right;\">\n",
       "      <th></th>\n",
       "      <th>Hair Loss</th>\n",
       "    </tr>\n",
       "  </thead>\n",
       "  <tbody>\n",
       "    <tr>\n",
       "      <th>453</th>\n",
       "      <td>1</td>\n",
       "    </tr>\n",
       "    <tr>\n",
       "      <th>793</th>\n",
       "      <td>1</td>\n",
       "    </tr>\n",
       "    <tr>\n",
       "      <th>209</th>\n",
       "      <td>1</td>\n",
       "    </tr>\n",
       "    <tr>\n",
       "      <th>309</th>\n",
       "      <td>1</td>\n",
       "    </tr>\n",
       "    <tr>\n",
       "      <th>740</th>\n",
       "      <td>1</td>\n",
       "    </tr>\n",
       "    <tr>\n",
       "      <th>...</th>\n",
       "      <td>...</td>\n",
       "    </tr>\n",
       "    <tr>\n",
       "      <th>78</th>\n",
       "      <td>0</td>\n",
       "    </tr>\n",
       "    <tr>\n",
       "      <th>29</th>\n",
       "      <td>0</td>\n",
       "    </tr>\n",
       "    <tr>\n",
       "      <th>277</th>\n",
       "      <td>0</td>\n",
       "    </tr>\n",
       "    <tr>\n",
       "      <th>261</th>\n",
       "      <td>1</td>\n",
       "    </tr>\n",
       "    <tr>\n",
       "      <th>423</th>\n",
       "      <td>0</td>\n",
       "    </tr>\n",
       "  </tbody>\n",
       "</table>\n",
       "<p>200 rows × 1 columns</p>\n",
       "</div>"
      ],
      "text/plain": [
       "     Hair Loss\n",
       "453          1\n",
       "793          1\n",
       "209          1\n",
       "309          1\n",
       "740          1\n",
       "..         ...\n",
       "78           0\n",
       "29           0\n",
       "277          0\n",
       "261          1\n",
       "423          0\n",
       "\n",
       "[200 rows x 1 columns]"
      ]
     },
     "execution_count": 156,
     "metadata": {},
     "output_type": "execute_result"
    }
   ],
   "source": [
    "y_test"
   ]
  },
  {
   "cell_type": "code",
   "execution_count": 157,
   "metadata": {},
   "outputs": [],
   "source": [
    "#remove the warning\n",
    "import warnings \n",
    "warnings.filterwarnings('ignore')"
   ]
  },
  {
   "cell_type": "code",
   "execution_count": 158,
   "metadata": {},
   "outputs": [
    {
     "name": "stdout",
     "output_type": "stream",
     "text": [
      "0\n",
      "Hair Fall not Contniue\n"
     ]
    }
   ],
   "source": [
    "# Just To continues \n",
    "# confustion Metrix \n",
    "# batch prediction  \n",
    "# sinlge data point \n",
    "unseen_data_point = [[1,0,0,0,0,1,0,0,0]]  \n",
    "single_prediction = model.predict(unseen_data_point)\n",
    "print(single_prediction[0])\n",
    "if single_prediction[0] == 1:\n",
    "    print(\"Hair Fall Possible\")\n",
    "else:\n",
    "    print(\"Hair Fall not Contniue\")"
   ]
  },
  {
   "cell_type": "markdown",
   "metadata": {},
   "source": [
    "Steap-10 : Model Evalution"
   ]
  },
  {
   "cell_type": "markdown",
   "metadata": {},
   "source": [
    "Steap-11 : Model Save & deployment"
   ]
  },
  {
   "cell_type": "code",
   "execution_count": 159,
   "metadata": {},
   "outputs": [],
   "source": [
    "import joblib \n",
    "import pickle  "
   ]
  },
  {
   "cell_type": "code",
   "execution_count": 160,
   "metadata": {},
   "outputs": [
    {
     "data": {
      "text/plain": [
       "['Hair_fall_Model_lgr.lb']"
      ]
     },
     "execution_count": 160,
     "metadata": {},
     "output_type": "execute_result"
    }
   ],
   "source": [
    "joblib.dump(model,'Hair_fall_Model_lgr.lb')\n"
   ]
  },
  {
   "cell_type": "code",
   "execution_count": 161,
   "metadata": {},
   "outputs": [],
   "source": [
    "m1=joblib.load(\"Hair_fall_Model_lgr.lb\")\n"
   ]
  },
  {
   "cell_type": "code",
   "execution_count": 162,
   "metadata": {},
   "outputs": [
    {
     "name": "stdout",
     "output_type": "stream",
     "text": [
      "0\n"
     ]
    }
   ],
   "source": [
    "unseen_data_point = [[1,0,0,0,0,1,0,0,0]] \n",
    "output=m1.predict(unseen_data_point)\n",
    "print(output[0])"
   ]
  },
  {
   "cell_type": "code",
   "execution_count": null,
   "metadata": {},
   "outputs": [],
   "source": []
  }
 ],
 "metadata": {
  "kernelspec": {
   "display_name": ".venv",
   "language": "python",
   "name": "python3"
  },
  "language_info": {
   "codemirror_mode": {
    "name": "ipython",
    "version": 3
   },
   "file_extension": ".py",
   "mimetype": "text/x-python",
   "name": "python",
   "nbconvert_exporter": "python",
   "pygments_lexer": "ipython3",
   "version": "3.12.5"
  }
 },
 "nbformat": 4,
 "nbformat_minor": 2
}
